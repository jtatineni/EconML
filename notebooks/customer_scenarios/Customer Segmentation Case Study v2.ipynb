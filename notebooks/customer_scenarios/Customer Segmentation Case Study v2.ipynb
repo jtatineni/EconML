{
 "cells": [
  {
   "cell_type": "markdown",
   "metadata": {},
   "source": [
    "<img src=\"https://www.productboard.com/wp-content/uploads/2019/11/screen-shot-2019-11-07-at-4-18-51-pm.png\" />"
   ]
  },
  {
   "cell_type": "markdown",
   "metadata": {},
   "source": [
    "# Customer Segmentation -- Esimate individualized responses to incentives\n",
    "\n",
    "Nowadays, business decision makers rely on estimating the causal effect of intervention to answer what-if questions about shifts in strategy, such as promoting specific product with discount, adding new features to the website or increasing investment from a sales team. However, other than learning whether to take action for a specific intervention, people are more interested in understanding the different responses from different users to the two alternatives. Identifying the characteristics of users having the strongest response for the intervention could help make rules to segment the future users into different groups. It will optimize the policy to use the least resources and get the most profit.\n",
    "\n",
    "In this case study, we will use personalized pricing example to explain how our packages could fit into this problem and provide robust and reliable causal solutions.\n",
    "\n",
    "### Summary of Contents:\n",
    "1. [Background](#background)\n",
    "2. [Data](#data)\n",
    "3. [Create Causal Model](#create)\n",
    "4. [Identify Causal Effect](#identify)\n",
    "5. [Estimate CATE using EconML](#estimate)\n",
    "6. [Robustness test](#robust)\n",
    "\n"
   ]
  },
  {
   "cell_type": "markdown",
   "metadata": {},
   "source": [
    "# Background <a id=\"background\"></a>\n",
    "\n",
    "<img src=\"https://theaggie.org/wp-content/uploads/2018/05/gamingindustry_ar23_JAMIECHEN_AGGIE.jpg\"  width="400" />\n",
    "\n",
    "Global online gaming market is growing fast over the years. Microsoft Xbox, as a leading gaming company, is always interested to attract more gamers into the market and encourage them to buy more games or become members. One of the experiment they are running is to give personalized discount for the current and potential gamers in order to boost the likelihood of their purchase. They'd like to learn heterogeneous treatment effect of personlized discount on downstream sales. EconML’s DML estimator uses discount experiment in existing data, along with a rich set of user features, to estimate heterogeneous price sensitivities that vary with multiple customer features. The tree interpreter provides a presentation-ready summary of the key features that explain the biggest differences in responsiveness to a discount, which could help the company to better target the users in the future. "
   ]
  },
  {
   "cell_type": "markdown",
   "metadata": {},
   "source": [
    "# Data <a id=\"data\"></a>\n",
    "\n",
    "We run an experiment giving personalized discount based on their previous purchase history for all the gaming product in our online store in two weeks and learn how much each gamer will spend during this special event season. We also collect users demographic and behaviour features as confounders. For confidential reason, we will use the simulated data as an example here. The simulated data will have the similar data property and format with the real world dataset.\n",
    "\n",
    "The dataset has ~10,000 observations and includes 11 continuous and categorical variables that represent user's characteristics and gaming behaviour history such as agegroup, log income, gender, previous purchase, average hours in gaming per week, etc. We define the following variables:\n",
    "\n",
    "* Y: Gaming purchase over the discount period\n",
    "* T: Personalized discount\n",
    "* X: AgeGroup, income, averagehourspent per week \n",
    "* W: Demographic and gaming behaviour features\n",
    "* $\\theta(X)$: Effect of price on sales (game elasticity)\n",
    "\n",
    "The goal is to learn heterogeneous treatment effect of personalized discount on sales. Thus, we model the world as follows:\n",
    "$$\n",
    "\\begin{align}\n",
    "Y & =  \\theta(X) \\cdot T + f(W) + \\epsilon \\\\\n",
    "T &= g(W) + \\eta\n",
    "\\end{align}\n",
    "$$\n",
    "where $\\epsilon, \\eta$ are uncorrelated error terms."
   ]
  },
  {
   "cell_type": "code",
   "execution_count": 1,
   "metadata": {},
   "outputs": [
    {
     "data": {
      "application/javascript": [
       "\n",
       "            setTimeout(function() {\n",
       "                var nbb_cell_id = 1;\n",
       "                var nbb_formatted_code = \"%load_ext nb_black\";\n",
       "                var nbb_cells = Jupyter.notebook.get_cells();\n",
       "                for (var i = 0; i < nbb_cells.length; ++i) {\n",
       "                    if (nbb_cells[i].input_prompt_number == nbb_cell_id) {\n",
       "                        nbb_cells[i].set_text(nbb_formatted_code);\n",
       "                        break;\n",
       "                    }\n",
       "                }\n",
       "            }, 500);\n",
       "            "
      ],
      "text/plain": [
       "<IPython.core.display.Javascript object>"
      ]
     },
     "metadata": {},
     "output_type": "display_data"
    }
   ],
   "source": [
    "%load_ext nb_black"
   ]
  },
  {
   "cell_type": "code",
   "execution_count": 2,
   "metadata": {},
   "outputs": [
    {
     "data": {
      "application/javascript": [
       "\n",
       "            setTimeout(function() {\n",
       "                var nbb_cell_id = 2;\n",
       "                var nbb_formatted_code = \"import dowhy\\nfrom dowhy import CausalModel\\nimport numpy as np\\nimport pandas as pd\\nimport matplotlib.pyplot as plt\\nimport matplotlib\\n\\n%matplotlib inline\\nimport seaborn as sns\\n\\n## Ignore warnings\\nimport warnings\\n\\nwarnings.filterwarnings(\\\"ignore\\\")\";\n",
       "                var nbb_cells = Jupyter.notebook.get_cells();\n",
       "                for (var i = 0; i < nbb_cells.length; ++i) {\n",
       "                    if (nbb_cells[i].input_prompt_number == nbb_cell_id) {\n",
       "                        nbb_cells[i].set_text(nbb_formatted_code);\n",
       "                        break;\n",
       "                    }\n",
       "                }\n",
       "            }, 500);\n",
       "            "
      ],
      "text/plain": [
       "<IPython.core.display.Javascript object>"
      ]
     },
     "metadata": {},
     "output_type": "display_data"
    }
   ],
   "source": [
    "import dowhy\n",
    "from dowhy import CausalModel\n",
    "import numpy as np\n",
    "import pandas as pd\n",
    "import matplotlib.pyplot as plt\n",
    "import matplotlib\n",
    "\n",
    "%matplotlib inline\n",
    "import seaborn as sns\n",
    "\n",
    "## Ignore warnings\n",
    "import warnings\n",
    "\n",
    "warnings.filterwarnings(\"ignore\")"
   ]
  },
  {
   "cell_type": "code",
   "execution_count": 3,
   "metadata": {},
   "outputs": [
    {
     "data": {
      "application/javascript": [
       "\n",
       "            setTimeout(function() {\n",
       "                var nbb_cell_id = 3;\n",
       "                var nbb_formatted_code = \"np.random.seed(123)\\nn = 10000\\nw_dict = {\\n    \\\"age\\\": lambda: np.random.randint(18, 61, size=n),  # age of the gamer\\n    \\\"gender\\\": lambda: np.random.binomial(1, 0.5, size=n),  # gender of the gamer\\n    \\\"is_US\\\": lambda: np.random.binomial(\\n        1, 0.8, size=n\\n    ),  # location of the gamer (US or not)\\n    \\\"avg_hours\\\": lambda: np.clip(\\n        np.random.normal(5, 2, size=n), 0, None\\n    ),  # the average hours gamers are online per week\\n    \\\"account_age\\\": lambda: np.random.randint(\\n        0, 6, size=n\\n    ),  # the account age of the gamer\\n    \\\"game_quant\\\": lambda: np.random.binomial(\\n        10, 0.2, size=n\\n    ),  # number of games purchased in the past\\n    \\\"game_spent\\\": lambda: np.random.lognormal(\\n        0, 0.5, size=n\\n    ),  # games spent in the past\\n    \\\"friend_count\\\": lambda: np.random.binomial(\\n        20, 0.5, size=n\\n    ),  # number of friend for that account\\n}\\nx_dict = {\\n    \\\"income\\\": lambda: np.random.lognormal(0, 0.5, size=n),  # income of the gamer\\n    \\\"has_membership\\\": lambda: np.random.binomial(\\n        1, 0.5, size=n\\n    ),  # whether the gamer has membership}\\n    \\\"days_visited\\\": lambda: np.random.randint(\\n        0, 15, size=n\\n    ),  # number of days visited the website in the last two weeks before discount period.\\n}\";\n",
       "                var nbb_cells = Jupyter.notebook.get_cells();\n",
       "                for (var i = 0; i < nbb_cells.length; ++i) {\n",
       "                    if (nbb_cells[i].input_prompt_number == nbb_cell_id) {\n",
       "                        nbb_cells[i].set_text(nbb_formatted_code);\n",
       "                        break;\n",
       "                    }\n",
       "                }\n",
       "            }, 500);\n",
       "            "
      ],
      "text/plain": [
       "<IPython.core.display.Javascript object>"
      ]
     },
     "metadata": {},
     "output_type": "display_data"
    }
   ],
   "source": [
    "np.random.seed(123)\n",
    "n = 10000\n",
    "w_dict = {\n",
    "    \"age\": lambda: np.random.randint(18, 61, size=n),  # age of the gamer\n",
    "    \"gender\": lambda: np.random.binomial(1, 0.5, size=n),  # gender of the gamer\n",
    "    \"is_US\": lambda: np.random.binomial(\n",
    "        1, 0.8, size=n\n",
    "    ),  # location of the gamer (US or not)\n",
    "    \"avg_hours\": lambda: np.clip(\n",
    "        np.random.normal(5, 2, size=n), 0, None\n",
    "    ),  # the average hours gamers are online per week\n",
    "    \"account_age\": lambda: np.random.randint(\n",
    "        0, 6, size=n\n",
    "    ),  # the account age of the gamer\n",
    "    \"game_quant\": lambda: np.random.binomial(\n",
    "        10, 0.2, size=n\n",
    "    ),  # number of games purchased in the past\n",
    "    \"game_spent\": lambda: np.random.lognormal(\n",
    "        0, 0.5, size=n\n",
    "    ),  # games spent in the past\n",
    "    \"friend_count\": lambda: np.random.binomial(\n",
    "        20, 0.5, size=n\n",
    "    ),  # number of friend for that account\n",
    "}\n",
    "x_dict = {\n",
    "    \"income\": lambda: np.random.lognormal(0, 0.5, size=n),  # income of the gamer\n",
    "    \"has_membership\": lambda: np.random.binomial(\n",
    "        1, 0.5, size=n\n",
    "    ),  # whether the gamer has membership}\n",
    "    \"days_visited\": lambda: np.random.randint(\n",
    "        0, 15, size=n\n",
    "    ),  # number of days visited the website in the last two weeks before discount period.\n",
    "}"
   ]
  },
  {
   "cell_type": "code",
   "execution_count": 4,
   "metadata": {},
   "outputs": [
    {
     "data": {
      "application/javascript": [
       "\n",
       "            setTimeout(function() {\n",
       "                var nbb_cell_id = 4;\n",
       "                var nbb_formatted_code = \"W_data = {colname: func() for colname, func in w_dict.items()}\\nX_data = {colname: func() for colname, func in x_dict.items()}\\nW_data = pd.DataFrame({**W_data})\\nX_data = pd.DataFrame({**X_data})\";\n",
       "                var nbb_cells = Jupyter.notebook.get_cells();\n",
       "                for (var i = 0; i < nbb_cells.length; ++i) {\n",
       "                    if (nbb_cells[i].input_prompt_number == nbb_cell_id) {\n",
       "                        nbb_cells[i].set_text(nbb_formatted_code);\n",
       "                        break;\n",
       "                    }\n",
       "                }\n",
       "            }, 500);\n",
       "            "
      ],
      "text/plain": [
       "<IPython.core.display.Javascript object>"
      ]
     },
     "metadata": {},
     "output_type": "display_data"
    }
   ],
   "source": [
    "W_data = {colname: func() for colname, func in w_dict.items()}\n",
    "X_data = {colname: func() for colname, func in x_dict.items()}\n",
    "W_data = pd.DataFrame({**W_data})\n",
    "X_data = pd.DataFrame({**X_data})"
   ]
  },
  {
   "cell_type": "code",
   "execution_count": 5,
   "metadata": {},
   "outputs": [
    {
     "data": {
      "image/png": "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\n",
      "text/plain": [
       "<Figure size 720x720 with 9 Axes>"
      ]
     },
     "metadata": {
      "needs_background": "light"
     },
     "output_type": "display_data"
    },
    {
     "data": {
      "application/javascript": [
       "\n",
       "            setTimeout(function() {\n",
       "                var nbb_cell_id = 5;\n",
       "                var nbb_formatted_code = \"hist = W_data.hist(bins=10, figsize=((10, 10)))\";\n",
       "                var nbb_cells = Jupyter.notebook.get_cells();\n",
       "                for (var i = 0; i < nbb_cells.length; ++i) {\n",
       "                    if (nbb_cells[i].input_prompt_number == nbb_cell_id) {\n",
       "                        nbb_cells[i].set_text(nbb_formatted_code);\n",
       "                        break;\n",
       "                    }\n",
       "                }\n",
       "            }, 500);\n",
       "            "
      ],
      "text/plain": [
       "<IPython.core.display.Javascript object>"
      ]
     },
     "metadata": {},
     "output_type": "display_data"
    }
   ],
   "source": [
    "hist = W_data.hist(bins=10, figsize=((10, 10)))"
   ]
  },
  {
   "cell_type": "code",
   "execution_count": 6,
   "metadata": {},
   "outputs": [
    {
     "data": {
      "image/png": "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\n",
      "text/plain": [
       "<Figure size 720x720 with 4 Axes>"
      ]
     },
     "metadata": {
      "needs_background": "light"
     },
     "output_type": "display_data"
    },
    {
     "data": {
      "application/javascript": [
       "\n",
       "            setTimeout(function() {\n",
       "                var nbb_cell_id = 6;\n",
       "                var nbb_formatted_code = \"hist = X_data.hist(bins=10, figsize=((10, 10)))\";\n",
       "                var nbb_cells = Jupyter.notebook.get_cells();\n",
       "                for (var i = 0; i < nbb_cells.length; ++i) {\n",
       "                    if (nbb_cells[i].input_prompt_number == nbb_cell_id) {\n",
       "                        nbb_cells[i].set_text(nbb_formatted_code);\n",
       "                        break;\n",
       "                    }\n",
       "                }\n",
       "            }, 500);\n",
       "            "
      ],
      "text/plain": [
       "<IPython.core.display.Javascript object>"
      ]
     },
     "metadata": {},
     "output_type": "display_data"
    }
   ],
   "source": [
    "hist = X_data.hist(bins=10, figsize=((10, 10)))"
   ]
  },
  {
   "cell_type": "code",
   "execution_count": 7,
   "metadata": {},
   "outputs": [
    {
     "data": {
      "application/javascript": [
       "\n",
       "            setTimeout(function() {\n",
       "                var nbb_cell_id = 7;\n",
       "                var nbb_formatted_code = \"epsilon_sample = lambda n: np.random.uniform(0, 1, size=n)\\neta_sample = lambda n: np.random.uniform(0, 0.05, size=n)\\n# Heterogeneous treatment effects, income, has_membership and days_visited creates heterogeneity\\nTE = (\\n    20\\n    - 5 * X_data[\\\"income\\\"]\\n    + 8 * X_data[\\\"has_membership\\\"]\\n    + 2 * X_data[\\\"days_visited\\\"]\\n)\\n# Define treatment\\nT = 0.9 - 0.08 * W_data[\\\"game_spent\\\"] + eta_sample(n)\\n# Define the outcome with treatment effect heterogeneity\\nY = (\\n    20\\n    + TE * T\\n    + 5 * W_data[\\\"game_spent\\\"]\\n    + 15 * W_data[\\\"game_quant\\\"]\\n    - 0.4 * W_data[\\\"age\\\"]\\n    + epsilon_sample(n)\\n)\";\n",
       "                var nbb_cells = Jupyter.notebook.get_cells();\n",
       "                for (var i = 0; i < nbb_cells.length; ++i) {\n",
       "                    if (nbb_cells[i].input_prompt_number == nbb_cell_id) {\n",
       "                        nbb_cells[i].set_text(nbb_formatted_code);\n",
       "                        break;\n",
       "                    }\n",
       "                }\n",
       "            }, 500);\n",
       "            "
      ],
      "text/plain": [
       "<IPython.core.display.Javascript object>"
      ]
     },
     "metadata": {},
     "output_type": "display_data"
    }
   ],
   "source": [
    "epsilon_sample = lambda n: np.random.uniform(0, 1, size=n)\n",
    "eta_sample = lambda n: np.random.uniform(0, 0.05, size=n)\n",
    "# Heterogeneous treatment effects, income, has_membership and days_visited creates heterogeneity\n",
    "TE = (\n",
    "    20\n",
    "    - 5 * X_data[\"income\"]\n",
    "    + 8 * X_data[\"has_membership\"]\n",
    "    + 2 * X_data[\"days_visited\"]\n",
    ")\n",
    "# Define treatment\n",
    "T = 0.9 - 0.08 * W_data[\"game_spent\"] + eta_sample(n)\n",
    "# Define the outcome with treatment effect heterogeneity\n",
    "Y = (\n",
    "    20\n",
    "    + TE * T\n",
    "    + 5 * W_data[\"game_spent\"]\n",
    "    + 15 * W_data[\"game_quant\"]\n",
    "    - 0.4 * W_data[\"age\"]\n",
    "    + epsilon_sample(n)\n",
    ")"
   ]
  },
  {
   "cell_type": "code",
   "execution_count": 8,
   "metadata": {},
   "outputs": [
    {
     "data": {
      "text/plain": [
       "(array([  16.,   59.,  392., 1101., 1633., 1775., 1877., 1689.,  992.,\n",
       "         466.]),\n",
       " array([-0.98796628,  4.57360032, 10.13516691, 15.69673351, 21.2583001 ,\n",
       "        26.81986669, 32.38143329, 37.94299988, 43.50456648, 49.06613307,\n",
       "        54.62769967]),\n",
       " <a list of 10 Patch objects>)"
      ]
     },
     "execution_count": 8,
     "metadata": {},
     "output_type": "execute_result"
    },
    {
     "data": {
      "image/png": "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\n",
      "text/plain": [
       "<Figure size 432x288 with 1 Axes>"
      ]
     },
     "metadata": {
      "needs_background": "light"
     },
     "output_type": "display_data"
    },
    {
     "data": {
      "application/javascript": [
       "\n",
       "            setTimeout(function() {\n",
       "                var nbb_cell_id = 8;\n",
       "                var nbb_formatted_code = \"# distribution of treatment effect, should be always >0, positive to discount\\nplt.hist(TE)\";\n",
       "                var nbb_cells = Jupyter.notebook.get_cells();\n",
       "                for (var i = 0; i < nbb_cells.length; ++i) {\n",
       "                    if (nbb_cells[i].input_prompt_number == nbb_cell_id) {\n",
       "                        nbb_cells[i].set_text(nbb_formatted_code);\n",
       "                        break;\n",
       "                    }\n",
       "                }\n",
       "            }, 500);\n",
       "            "
      ],
      "text/plain": [
       "<IPython.core.display.Javascript object>"
      ]
     },
     "metadata": {},
     "output_type": "display_data"
    }
   ],
   "source": [
    "# distribution of treatment effect, should be always >0, positive to discount\n",
    "plt.hist(TE)"
   ]
  },
  {
   "cell_type": "code",
   "execution_count": 9,
   "metadata": {},
   "outputs": [
    {
     "data": {
      "text/plain": [
       "(array([1.000e+00, 0.000e+00, 2.000e+00, 3.000e+00, 1.400e+01, 5.500e+01,\n",
       "        3.180e+02, 1.511e+03, 5.314e+03, 2.782e+03]),\n",
       " array([0.25239185, 0.32058051, 0.38876917, 0.45695783, 0.52514649,\n",
       "        0.59333515, 0.66152381, 0.72971247, 0.79790112, 0.86608978,\n",
       "        0.93427844]),\n",
       " <a list of 10 Patch objects>)"
      ]
     },
     "execution_count": 9,
     "metadata": {},
     "output_type": "execute_result"
    },
    {
     "data": {
      "image/png": "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\n",
      "text/plain": [
       "<Figure size 432x288 with 1 Axes>"
      ]
     },
     "metadata": {
      "needs_background": "light"
     },
     "output_type": "display_data"
    },
    {
     "data": {
      "application/javascript": [
       "\n",
       "            setTimeout(function() {\n",
       "                var nbb_cell_id = 9;\n",
       "                var nbb_formatted_code = \"# distribution of treatment discount, should be in range (0,1)\\nplt.hist(T)\";\n",
       "                var nbb_cells = Jupyter.notebook.get_cells();\n",
       "                for (var i = 0; i < nbb_cells.length; ++i) {\n",
       "                    if (nbb_cells[i].input_prompt_number == nbb_cell_id) {\n",
       "                        nbb_cells[i].set_text(nbb_formatted_code);\n",
       "                        break;\n",
       "                    }\n",
       "                }\n",
       "            }, 500);\n",
       "            "
      ],
      "text/plain": [
       "<IPython.core.display.Javascript object>"
      ]
     },
     "metadata": {},
     "output_type": "display_data"
    }
   ],
   "source": [
    "# distribution of treatment discount, should be in range (0,1)\n",
    "plt.hist(T)"
   ]
  },
  {
   "cell_type": "code",
   "execution_count": 10,
   "metadata": {},
   "outputs": [
    {
     "data": {
      "text/plain": [
       "(array([  38.,  508., 1858., 2816., 2576., 1503.,  532.,  143.,   23.,\n",
       "           3.]), array([  2.14590319,  18.54888683,  34.95187048,  51.35485412,\n",
       "         67.75783777,  84.16082141, 100.56380506, 116.9667887 ,\n",
       "        133.36977235, 149.77275599, 166.17573964]), <a list of 10 Patch objects>)"
      ]
     },
     "execution_count": 10,
     "metadata": {},
     "output_type": "execute_result"
    },
    {
     "data": {
      "image/png": "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\n",
      "text/plain": [
       "<Figure size 432x288 with 1 Axes>"
      ]
     },
     "metadata": {
      "needs_background": "light"
     },
     "output_type": "display_data"
    },
    {
     "data": {
      "application/javascript": [
       "\n",
       "            setTimeout(function() {\n",
       "                var nbb_cell_id = 10;\n",
       "                var nbb_formatted_code = \"# distribution of sales Y, should be always larger than 0 and in reasonable range\\nplt.hist(Y)\";\n",
       "                var nbb_cells = Jupyter.notebook.get_cells();\n",
       "                for (var i = 0; i < nbb_cells.length; ++i) {\n",
       "                    if (nbb_cells[i].input_prompt_number == nbb_cell_id) {\n",
       "                        nbb_cells[i].set_text(nbb_formatted_code);\n",
       "                        break;\n",
       "                    }\n",
       "                }\n",
       "            }, 500);\n",
       "            "
      ],
      "text/plain": [
       "<IPython.core.display.Javascript object>"
      ]
     },
     "metadata": {},
     "output_type": "display_data"
    }
   ],
   "source": [
    "# distribution of sales Y, should be always larger than 0 and in reasonable range\n",
    "plt.hist(Y)"
   ]
  },
  {
   "cell_type": "code",
   "execution_count": 11,
   "metadata": {},
   "outputs": [
    {
     "data": {
      "application/javascript": [
       "\n",
       "            setTimeout(function() {\n",
       "                var nbb_cell_id = 11;\n",
       "                var nbb_formatted_code = \"# Create dataframe\\ndata = pd.concat([W_data, X_data], axis=1)\\ndata[\\\"discount\\\"] = T\\ndata[\\\"sales\\\"] = Y\";\n",
       "                var nbb_cells = Jupyter.notebook.get_cells();\n",
       "                for (var i = 0; i < nbb_cells.length; ++i) {\n",
       "                    if (nbb_cells[i].input_prompt_number == nbb_cell_id) {\n",
       "                        nbb_cells[i].set_text(nbb_formatted_code);\n",
       "                        break;\n",
       "                    }\n",
       "                }\n",
       "            }, 500);\n",
       "            "
      ],
      "text/plain": [
       "<IPython.core.display.Javascript object>"
      ]
     },
     "metadata": {},
     "output_type": "display_data"
    }
   ],
   "source": [
    "# Create dataframe\n",
    "data = pd.concat([W_data, X_data], axis=1)\n",
    "data[\"discount\"] = T\n",
    "data[\"sales\"] = Y"
   ]
  },
  {
   "cell_type": "code",
   "execution_count": 12,
   "metadata": {},
   "outputs": [
    {
     "data": {
      "text/html": [
       "<div>\n",
       "<style scoped>\n",
       "    .dataframe tbody tr th:only-of-type {\n",
       "        vertical-align: middle;\n",
       "    }\n",
       "\n",
       "    .dataframe tbody tr th {\n",
       "        vertical-align: top;\n",
       "    }\n",
       "\n",
       "    .dataframe thead th {\n",
       "        text-align: right;\n",
       "    }\n",
       "</style>\n",
       "<table border=\"1\" class=\"dataframe\">\n",
       "  <thead>\n",
       "    <tr style=\"text-align: right;\">\n",
       "      <th></th>\n",
       "      <th>age</th>\n",
       "      <th>gender</th>\n",
       "      <th>is_US</th>\n",
       "      <th>avg_hours</th>\n",
       "      <th>account_age</th>\n",
       "      <th>game_quant</th>\n",
       "      <th>game_spent</th>\n",
       "      <th>friend_count</th>\n",
       "      <th>income</th>\n",
       "      <th>has_membership</th>\n",
       "      <th>days_visited</th>\n",
       "      <th>discount</th>\n",
       "      <th>sales</th>\n",
       "    </tr>\n",
       "  </thead>\n",
       "  <tbody>\n",
       "    <tr>\n",
       "      <th>0</th>\n",
       "      <td>20</td>\n",
       "      <td>1</td>\n",
       "      <td>1</td>\n",
       "      <td>9.205317</td>\n",
       "      <td>4</td>\n",
       "      <td>0</td>\n",
       "      <td>0.964024</td>\n",
       "      <td>6</td>\n",
       "      <td>0.593585</td>\n",
       "      <td>0</td>\n",
       "      <td>2</td>\n",
       "      <td>0.842883</td>\n",
       "      <td>35.392928</td>\n",
       "    </tr>\n",
       "    <tr>\n",
       "      <th>1</th>\n",
       "      <td>46</td>\n",
       "      <td>0</td>\n",
       "      <td>0</td>\n",
       "      <td>2.993730</td>\n",
       "      <td>5</td>\n",
       "      <td>3</td>\n",
       "      <td>0.947612</td>\n",
       "      <td>11</td>\n",
       "      <td>0.541707</td>\n",
       "      <td>1</td>\n",
       "      <td>1</td>\n",
       "      <td>0.824318</td>\n",
       "      <td>74.502044</td>\n",
       "    </tr>\n",
       "    <tr>\n",
       "      <th>2</th>\n",
       "      <td>52</td>\n",
       "      <td>1</td>\n",
       "      <td>1</td>\n",
       "      <td>8.062817</td>\n",
       "      <td>0</td>\n",
       "      <td>1</td>\n",
       "      <td>0.727997</td>\n",
       "      <td>10</td>\n",
       "      <td>0.747625</td>\n",
       "      <td>0</td>\n",
       "      <td>14</td>\n",
       "      <td>0.861098</td>\n",
       "      <td>56.176397</td>\n",
       "    </tr>\n",
       "    <tr>\n",
       "      <th>3</th>\n",
       "      <td>56</td>\n",
       "      <td>0</td>\n",
       "      <td>1</td>\n",
       "      <td>7.324472</td>\n",
       "      <td>0</td>\n",
       "      <td>3</td>\n",
       "      <td>0.598865</td>\n",
       "      <td>11</td>\n",
       "      <td>1.105189</td>\n",
       "      <td>1</td>\n",
       "      <td>13</td>\n",
       "      <td>0.864198</td>\n",
       "      <td>87.842028</td>\n",
       "    </tr>\n",
       "    <tr>\n",
       "      <th>4</th>\n",
       "      <td>35</td>\n",
       "      <td>1</td>\n",
       "      <td>1</td>\n",
       "      <td>3.610608</td>\n",
       "      <td>0</td>\n",
       "      <td>1</td>\n",
       "      <td>1.598360</td>\n",
       "      <td>10</td>\n",
       "      <td>0.704494</td>\n",
       "      <td>0</td>\n",
       "      <td>4</td>\n",
       "      <td>0.807936</td>\n",
       "      <td>49.681973</td>\n",
       "    </tr>\n",
       "  </tbody>\n",
       "</table>\n",
       "</div>"
      ],
      "text/plain": [
       "   age  gender  is_US  avg_hours  account_age  game_quant  game_spent  \\\n",
       "0   20       1      1   9.205317            4           0    0.964024   \n",
       "1   46       0      0   2.993730            5           3    0.947612   \n",
       "2   52       1      1   8.062817            0           1    0.727997   \n",
       "3   56       0      1   7.324472            0           3    0.598865   \n",
       "4   35       1      1   3.610608            0           1    1.598360   \n",
       "\n",
       "   friend_count    income  has_membership  days_visited  discount      sales  \n",
       "0             6  0.593585               0             2  0.842883  35.392928  \n",
       "1            11  0.541707               1             1  0.824318  74.502044  \n",
       "2            10  0.747625               0            14  0.861098  56.176397  \n",
       "3            11  1.105189               1            13  0.864198  87.842028  \n",
       "4            10  0.704494               0             4  0.807936  49.681973  "
      ]
     },
     "execution_count": 12,
     "metadata": {},
     "output_type": "execute_result"
    },
    {
     "data": {
      "application/javascript": [
       "\n",
       "            setTimeout(function() {\n",
       "                var nbb_cell_id = 12;\n",
       "                var nbb_formatted_code = \"data.head()\";\n",
       "                var nbb_cells = Jupyter.notebook.get_cells();\n",
       "                for (var i = 0; i < nbb_cells.length; ++i) {\n",
       "                    if (nbb_cells[i].input_prompt_number == nbb_cell_id) {\n",
       "                        nbb_cells[i].set_text(nbb_formatted_code);\n",
       "                        break;\n",
       "                    }\n",
       "                }\n",
       "            }, 500);\n",
       "            "
      ],
      "text/plain": [
       "<IPython.core.display.Javascript object>"
      ]
     },
     "metadata": {},
     "output_type": "display_data"
    }
   ],
   "source": [
    "data.head()"
   ]
  },
  {
   "cell_type": "code",
   "execution_count": 13,
   "metadata": {},
   "outputs": [
    {
     "data": {
      "text/html": [
       "<div>\n",
       "<style scoped>\n",
       "    .dataframe tbody tr th:only-of-type {\n",
       "        vertical-align: middle;\n",
       "    }\n",
       "\n",
       "    .dataframe tbody tr th {\n",
       "        vertical-align: top;\n",
       "    }\n",
       "\n",
       "    .dataframe thead th {\n",
       "        text-align: right;\n",
       "    }\n",
       "</style>\n",
       "<table border=\"1\" class=\"dataframe\">\n",
       "  <thead>\n",
       "    <tr style=\"text-align: right;\">\n",
       "      <th></th>\n",
       "      <th>income</th>\n",
       "      <th>has_membership</th>\n",
       "      <th>days_visited</th>\n",
       "    </tr>\n",
       "  </thead>\n",
       "  <tbody>\n",
       "    <tr>\n",
       "      <th>0</th>\n",
       "      <td>1.635242</td>\n",
       "      <td>0</td>\n",
       "      <td>7</td>\n",
       "    </tr>\n",
       "    <tr>\n",
       "      <th>1</th>\n",
       "      <td>2.490482</td>\n",
       "      <td>0</td>\n",
       "      <td>10</td>\n",
       "    </tr>\n",
       "    <tr>\n",
       "      <th>2</th>\n",
       "      <td>0.690423</td>\n",
       "      <td>0</td>\n",
       "      <td>0</td>\n",
       "    </tr>\n",
       "    <tr>\n",
       "      <th>3</th>\n",
       "      <td>0.912276</td>\n",
       "      <td>0</td>\n",
       "      <td>5</td>\n",
       "    </tr>\n",
       "    <tr>\n",
       "      <th>4</th>\n",
       "      <td>1.036794</td>\n",
       "      <td>0</td>\n",
       "      <td>5</td>\n",
       "    </tr>\n",
       "  </tbody>\n",
       "</table>\n",
       "</div>"
      ],
      "text/plain": [
       "     income  has_membership  days_visited\n",
       "0  1.635242               0             7\n",
       "1  2.490482               0            10\n",
       "2  0.690423               0             0\n",
       "3  0.912276               0             5\n",
       "4  1.036794               0             5"
      ]
     },
     "execution_count": 13,
     "metadata": {},
     "output_type": "execute_result"
    },
    {
     "data": {
      "application/javascript": [
       "\n",
       "            setTimeout(function() {\n",
       "                var nbb_cell_id = 13;\n",
       "                var nbb_formatted_code = \"# get testing data\\nn = 100\\nX_test = {colname: func() for colname, func in x_dict.items()}\\ndata_test = pd.DataFrame(X_test)\\ndata_test.head()\";\n",
       "                var nbb_cells = Jupyter.notebook.get_cells();\n",
       "                for (var i = 0; i < nbb_cells.length; ++i) {\n",
       "                    if (nbb_cells[i].input_prompt_number == nbb_cell_id) {\n",
       "                        nbb_cells[i].set_text(nbb_formatted_code);\n",
       "                        break;\n",
       "                    }\n",
       "                }\n",
       "            }, 500);\n",
       "            "
      ],
      "text/plain": [
       "<IPython.core.display.Javascript object>"
      ]
     },
     "metadata": {},
     "output_type": "display_data"
    }
   ],
   "source": [
    "# get testing data\n",
    "n = 100\n",
    "X_test = {colname: func() for colname, func in x_dict.items()}\n",
    "data_test = pd.DataFrame(X_test)\n",
    "data_test.head()"
   ]
  },
  {
   "cell_type": "markdown",
   "metadata": {},
   "source": [
    "# Create causal model <a id=\"create\"></a>\n"
   ]
  },
  {
   "cell_type": "code",
   "execution_count": 14,
   "metadata": {},
   "outputs": [
    {
     "data": {
      "application/javascript": [
       "\n",
       "            setTimeout(function() {\n",
       "                var nbb_cell_id = 14;\n",
       "                var nbb_formatted_code = \"W_names = W_data.columns.tolist()\\nX_names = X_data.columns.tolist()\";\n",
       "                var nbb_cells = Jupyter.notebook.get_cells();\n",
       "                for (var i = 0; i < nbb_cells.length; ++i) {\n",
       "                    if (nbb_cells[i].input_prompt_number == nbb_cell_id) {\n",
       "                        nbb_cells[i].set_text(nbb_formatted_code);\n",
       "                        break;\n",
       "                    }\n",
       "                }\n",
       "            }, 500);\n",
       "            "
      ],
      "text/plain": [
       "<IPython.core.display.Javascript object>"
      ]
     },
     "metadata": {},
     "output_type": "display_data"
    }
   ],
   "source": [
    "W_names = W_data.columns.tolist()\n",
    "X_names = X_data.columns.tolist()"
   ]
  },
  {
   "cell_type": "code",
   "execution_count": 15,
   "metadata": {},
   "outputs": [
    {
     "name": "stderr",
     "output_type": "stream",
     "text": [
      "WARNING:dowhy.causal_model:Causal Graph not provided. DoWhy will construct a graph based on data inputs.\n",
      "INFO:dowhy.causal_graph:If this is observed data (not from a randomized experiment), there might always be missing confounders. Adding a node named \"Unobserved Confounders\" to reflect this.\n",
      "INFO:dowhy.causal_model:Model to find the causal effect of treatment ['discount'] on outcome ['sales']\n"
     ]
    },
    {
     "data": {
      "application/javascript": [
       "\n",
       "            setTimeout(function() {\n",
       "                var nbb_cell_id = 15;\n",
       "                var nbb_formatted_code = \"# Create a causal model from the data\\nmodel = CausalModel(\\n    data=data,\\n    treatment=\\\"discount\\\",\\n    outcome=\\\"sales\\\",\\n    common_causes=W_names,\\n    effect_modifiers=X_names,\\n)\";\n",
       "                var nbb_cells = Jupyter.notebook.get_cells();\n",
       "                for (var i = 0; i < nbb_cells.length; ++i) {\n",
       "                    if (nbb_cells[i].input_prompt_number == nbb_cell_id) {\n",
       "                        nbb_cells[i].set_text(nbb_formatted_code);\n",
       "                        break;\n",
       "                    }\n",
       "                }\n",
       "            }, 500);\n",
       "            "
      ],
      "text/plain": [
       "<IPython.core.display.Javascript object>"
      ]
     },
     "metadata": {},
     "output_type": "display_data"
    }
   ],
   "source": [
    "# Create a causal model from the data\n",
    "model = CausalModel(\n",
    "    data=data,\n",
    "    treatment=\"discount\",\n",
    "    outcome=\"sales\",\n",
    "    common_causes=W_names,\n",
    "    effect_modifiers=X_names,\n",
    ")"
   ]
  },
  {
   "cell_type": "code",
   "execution_count": 16,
   "metadata": {},
   "outputs": [
    {
     "name": "stderr",
     "output_type": "stream",
     "text": [
      "WARNING:dowhy.causal_graph:Warning: Pygraphviz cannot be loaded. Check that graphviz and pygraphviz are installed.\n",
      "INFO:dowhy.causal_graph:Using Matplotlib for plotting\n"
     ]
    },
    {
     "data": {
      "image/png": "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\n",
      "text/plain": [
       "<Figure size 432x288 with 1 Axes>"
      ]
     },
     "metadata": {},
     "output_type": "display_data"
    },
    {
     "data": {
      "application/javascript": [
       "\n",
       "            setTimeout(function() {\n",
       "                var nbb_cell_id = 16;\n",
       "                var nbb_formatted_code = \"model.view_model()\";\n",
       "                var nbb_cells = Jupyter.notebook.get_cells();\n",
       "                for (var i = 0; i < nbb_cells.length; ++i) {\n",
       "                    if (nbb_cells[i].input_prompt_number == nbb_cell_id) {\n",
       "                        nbb_cells[i].set_text(nbb_formatted_code);\n",
       "                        break;\n",
       "                    }\n",
       "                }\n",
       "            }, 500);\n",
       "            "
      ],
      "text/plain": [
       "<IPython.core.display.Javascript object>"
      ]
     },
     "metadata": {},
     "output_type": "display_data"
    }
   ],
   "source": [
    "model.view_model()"
   ]
  },
  {
   "cell_type": "markdown",
   "metadata": {},
   "source": [
    "# Identify causal effect <a id=\"identify\"></a>\n"
   ]
  },
  {
   "cell_type": "code",
   "execution_count": 17,
   "metadata": {},
   "outputs": [
    {
     "name": "stderr",
     "output_type": "stream",
     "text": [
      "INFO:dowhy.causal_identifier:Common causes of treatment and outcome:['avg_hours', 'friend_count', 'U', 'age', 'game_quant', 'is_US', 'game_spent', 'account_age', 'gender']\n",
      "WARNING:dowhy.causal_identifier:If this is observed data (not from a randomized experiment), there might always be missing confounders. Causal effect cannot be identified perfectly.\n"
     ]
    },
    {
     "name": "stdout",
     "output_type": "stream",
     "text": [
      "WARN: Do you want to continue by ignoring any unobserved confounders? (use proceed_when_unidentifiable=True to disable this prompt) [y/n] y\n"
     ]
    },
    {
     "name": "stderr",
     "output_type": "stream",
     "text": [
      "INFO:dowhy.causal_identifier:Instrumental variables for treatment and outcome:[]\n"
     ]
    },
    {
     "name": "stdout",
     "output_type": "stream",
     "text": [
      "Estimand type: nonparametric-ate\n",
      "### Estimand : 1\n",
      "Estimand name: backdoor\n",
      "Estimand expression:\n",
      "     d                                                                        \n",
      "───────────(Expectation(sales|avg_hours,friend_count,age,game_quant,is_US,game\n",
      "d[discount]                                                                   \n",
      "\n",
      "                           \n",
      "_spent,account_age,gender))\n",
      "                           \n",
      "Estimand assumption 1, Unconfoundedness: If U→{discount} and U→sales then P(sales|discount,avg_hours,friend_count,age,game_quant,is_US,game_spent,account_age,gender,U) = P(sales|discount,avg_hours,friend_count,age,game_quant,is_US,game_spent,account_age,gender)\n",
      "### Estimand : 2\n",
      "Estimand name: iv\n",
      "No such variable found!\n",
      "\n"
     ]
    },
    {
     "data": {
      "application/javascript": [
       "\n",
       "            setTimeout(function() {\n",
       "                var nbb_cell_id = 17;\n",
       "                var nbb_formatted_code = \"identified_estimand = model.identify_effect()\\nprint(identified_estimand)\";\n",
       "                var nbb_cells = Jupyter.notebook.get_cells();\n",
       "                for (var i = 0; i < nbb_cells.length; ++i) {\n",
       "                    if (nbb_cells[i].input_prompt_number == nbb_cell_id) {\n",
       "                        nbb_cells[i].set_text(nbb_formatted_code);\n",
       "                        break;\n",
       "                    }\n",
       "                }\n",
       "            }, 500);\n",
       "            "
      ],
      "text/plain": [
       "<IPython.core.display.Javascript object>"
      ]
     },
     "metadata": {},
     "output_type": "display_data"
    }
   ],
   "source": [
    "identified_estimand = model.identify_effect()\n",
    "print(identified_estimand)"
   ]
  },
  {
   "cell_type": "markdown",
   "metadata": {},
   "source": [
    "# Estimate CATE using EconML <a id=\"estimate\"></a>\n",
    "\n",
    "## Train estimator"
   ]
  },
  {
   "cell_type": "code",
   "execution_count": 18,
   "metadata": {},
   "outputs": [
    {
     "name": "stderr",
     "output_type": "stream",
     "text": [
      "INFO:dowhy.causal_estimator:INFO: Using EconML Estimator\n",
      "INFO:dowhy.causal_estimator:b: sales~discount+avg_hours+friend_count+age+game_quant+is_US+game_spent+account_age+gender\n"
     ]
    },
    {
     "name": "stdout",
     "output_type": "stream",
     "text": [
      "*** Causal Estimate ***\n",
      "\n",
      "## Target estimand\n",
      "Estimand type: nonparametric-ate\n",
      "### Estimand : 1\n",
      "Estimand name: backdoor\n",
      "Estimand expression:\n",
      "     d                                                                        \n",
      "───────────(Expectation(sales|avg_hours,friend_count,age,game_quant,is_US,game\n",
      "d[discount]                                                                   \n",
      "\n",
      "                           \n",
      "_spent,account_age,gender))\n",
      "                           \n",
      "Estimand assumption 1, Unconfoundedness: If U→{discount} and U→sales then P(sales|discount,avg_hours,friend_count,age,game_quant,is_US,game_spent,account_age,gender,U) = P(sales|discount,avg_hours,friend_count,age,game_quant,is_US,game_spent,account_age,gender)\n",
      "### Estimand : 2\n",
      "Estimand name: iv\n",
      "No such variable found!\n",
      "\n",
      "## Realized estimand\n",
      "b: sales~discount+avg_hours+friend_count+age+game_quant+is_US+game_spent+account_age+gender\n",
      "## Estimate\n",
      "Value: 32.00551487002836\n",
      "\n"
     ]
    },
    {
     "data": {
      "application/javascript": [
       "\n",
       "            setTimeout(function() {\n",
       "                var nbb_cell_id = 18;\n",
       "                var nbb_formatted_code = \"from sklearn.preprocessing import PolynomialFeatures\\nfrom sklearn.linear_model import LassoCV, LinearRegression\\nfrom sklearn.ensemble import RandomForestRegressor, RandomForestClassifier\\n\\ndml_estimate = model.estimate_effect(\\n    identified_estimand,\\n    method_name=\\\"backdoor.econml.dml.LinearDMLCateEstimator\\\",\\n    control_value=0,\\n    treatment_value=1,\\n    target_units=data_test,\\n    confidence_intervals=True,\\n    method_params={\\n        \\\"init_params\\\": {\\\"model_y\\\": LinearRegression(), \\\"model_t\\\": LinearRegression()},\\n        \\\"fit_params\\\": {\\\"inference\\\": \\\"statsmodels\\\"},\\n    },\\n)\\nprint(dml_estimate)\";\n",
       "                var nbb_cells = Jupyter.notebook.get_cells();\n",
       "                for (var i = 0; i < nbb_cells.length; ++i) {\n",
       "                    if (nbb_cells[i].input_prompt_number == nbb_cell_id) {\n",
       "                        nbb_cells[i].set_text(nbb_formatted_code);\n",
       "                        break;\n",
       "                    }\n",
       "                }\n",
       "            }, 500);\n",
       "            "
      ],
      "text/plain": [
       "<IPython.core.display.Javascript object>"
      ]
     },
     "metadata": {},
     "output_type": "display_data"
    }
   ],
   "source": [
    "from sklearn.preprocessing import PolynomialFeatures\n",
    "from sklearn.linear_model import LassoCV, LinearRegression\n",
    "from sklearn.ensemble import RandomForestRegressor, RandomForestClassifier\n",
    "\n",
    "dml_estimate = model.estimate_effect(\n",
    "    identified_estimand,\n",
    "    method_name=\"backdoor.econml.dml.LinearDMLCateEstimator\",\n",
    "    control_value=0,\n",
    "    treatment_value=1,\n",
    "    target_units=data_test,\n",
    "    confidence_intervals=True,\n",
    "    method_params={\n",
    "        \"init_params\": {\"model_y\": LinearRegression(), \"model_t\": LinearRegression()},\n",
    "        \"fit_params\": {\"inference\": \"statsmodels\"},\n",
    "    },\n",
    ")\n",
    "print(dml_estimate)"
   ]
  },
  {
   "cell_type": "code",
   "execution_count": 19,
   "metadata": {},
   "outputs": [
    {
     "name": "stdout",
     "output_type": "stream",
     "text": [
      "True ATE is 31.801590178132543\n"
     ]
    },
    {
     "data": {
      "application/javascript": [
       "\n",
       "            setTimeout(function() {\n",
       "                var nbb_cell_id = 19;\n",
       "                var nbb_formatted_code = \"truth_te = (\\n    20\\n    - 5 * data_test[\\\"income\\\"]\\n    + 8 * data_test[\\\"has_membership\\\"]\\n    + 2 * data_test[\\\"days_visited\\\"]\\n)\\nprint(\\\"True ATE is\\\", np.mean(truth_te))\";\n",
       "                var nbb_cells = Jupyter.notebook.get_cells();\n",
       "                for (var i = 0; i < nbb_cells.length; ++i) {\n",
       "                    if (nbb_cells[i].input_prompt_number == nbb_cell_id) {\n",
       "                        nbb_cells[i].set_text(nbb_formatted_code);\n",
       "                        break;\n",
       "                    }\n",
       "                }\n",
       "            }, 500);\n",
       "            "
      ],
      "text/plain": [
       "<IPython.core.display.Javascript object>"
      ]
     },
     "metadata": {},
     "output_type": "display_data"
    }
   ],
   "source": [
    "truth_te = (\n",
    "    20\n",
    "    - 5 * data_test[\"income\"]\n",
    "    + 8 * data_test[\"has_membership\"]\n",
    "    + 2 * data_test[\"days_visited\"]\n",
    ")\n",
    "print(\"True ATE is\", np.mean(truth_te))"
   ]
  },
  {
   "cell_type": "markdown",
   "metadata": {},
   "source": [
    "## Performance Visualization"
   ]
  },
  {
   "cell_type": "code",
   "execution_count": 20,
   "metadata": {},
   "outputs": [
    {
     "data": {
      "application/javascript": [
       "\n",
       "            setTimeout(function() {\n",
       "                var nbb_cell_id = 20;\n",
       "                var nbb_formatted_code = \"pred_te = dml_estimate.cate_estimates\\nlb = dml_estimate.effect_intervals[0]\\nub = dml_estimate.effect_intervals[1]\";\n",
       "                var nbb_cells = Jupyter.notebook.get_cells();\n",
       "                for (var i = 0; i < nbb_cells.length; ++i) {\n",
       "                    if (nbb_cells[i].input_prompt_number == nbb_cell_id) {\n",
       "                        nbb_cells[i].set_text(nbb_formatted_code);\n",
       "                        break;\n",
       "                    }\n",
       "                }\n",
       "            }, 500);\n",
       "            "
      ],
      "text/plain": [
       "<IPython.core.display.Javascript object>"
      ]
     },
     "metadata": {},
     "output_type": "display_data"
    }
   ],
   "source": [
    "pred_te = dml_estimate.cate_estimates\n",
    "lb = dml_estimate.effect_intervals[0]\n",
    "ub = dml_estimate.effect_intervals[1]"
   ]
  },
  {
   "cell_type": "code",
   "execution_count": 21,
   "metadata": {},
   "outputs": [
    {
     "data": {
      "image/png": "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\n",
      "text/plain": [
       "<Figure size 1152x432 with 1 Axes>"
      ]
     },
     "metadata": {},
     "output_type": "display_data"
    },
    {
     "data": {
      "application/javascript": [
       "\n",
       "            setTimeout(function() {\n",
       "                var nbb_cell_id = 21;\n",
       "                var nbb_formatted_code = \"with sns.axes_style(\\\"darkgrid\\\"):\\n    plt.figure(figsize=(16, 6))\\n    plt.errorbar(\\n        range(100),\\n        pred_te,\\n        dml_estimate.effect_intervals,\\n        fmt=\\\"o\\\",\\n        label=\\\"coef estimate\\\",\\n        alpha=0.5,\\n    )\\n    plt.plot(truth_te, \\\"r.\\\", label=\\\"True effect\\\", alpha=0.8)\\n    plt.xlabel(\\\"Observations\\\")\\n    plt.ylabel(\\\"Treatment Effect\\\")\\n    plt.legend()\";\n",
       "                var nbb_cells = Jupyter.notebook.get_cells();\n",
       "                for (var i = 0; i < nbb_cells.length; ++i) {\n",
       "                    if (nbb_cells[i].input_prompt_number == nbb_cell_id) {\n",
       "                        nbb_cells[i].set_text(nbb_formatted_code);\n",
       "                        break;\n",
       "                    }\n",
       "                }\n",
       "            }, 500);\n",
       "            "
      ],
      "text/plain": [
       "<IPython.core.display.Javascript object>"
      ]
     },
     "metadata": {},
     "output_type": "display_data"
    }
   ],
   "source": [
    "with sns.axes_style(\"darkgrid\"):\n",
    "    plt.figure(figsize=(16, 6))\n",
    "    plt.errorbar(\n",
    "        range(100),\n",
    "        pred_te,\n",
    "        dml_estimate.effect_intervals,\n",
    "        fmt=\"o\",\n",
    "        label=\"coef estimate\",\n",
    "        alpha=0.5,\n",
    "    )\n",
    "    plt.plot(truth_te, \"r.\", label=\"True effect\", alpha=0.8)\n",
    "    plt.xlabel(\"Observations\")\n",
    "    plt.ylabel(\"Treatment Effect\")\n",
    "    plt.legend()"
   ]
  },
  {
   "cell_type": "markdown",
   "metadata": {},
   "source": [
    "## Parameter summary"
   ]
  },
  {
   "cell_type": "code",
   "execution_count": 22,
   "metadata": {},
   "outputs": [
    {
     "data": {
      "text/html": [
       "<table class=\"simpletable\">\n",
       "<caption>Coefficient Results</caption>\n",
       "<tr>\n",
       "         <td></td>        <th>point_estimate</th> <th>stderr</th>  <th>zstat</th>  <th>pvalue</th> <th>ci_lower</th> <th>ci_upper</th>\n",
       "</tr>\n",
       "<tr>\n",
       "  <th>income</th>             <td>-5.476</td>      <td>0.348</td> <td>-15.756</td>   <td>0.0</td>   <td>-6.047</td>   <td>-4.904</td> \n",
       "</tr>\n",
       "<tr>\n",
       "  <th>has_membership</th>      <td>8.123</td>      <td>0.401</td> <td>20.251</td>    <td>0.0</td>    <td>7.464</td>    <td>8.783</td> \n",
       "</tr>\n",
       "<tr>\n",
       "  <th>days_visited</th>        <td>1.891</td>      <td>0.046</td> <td>41.127</td>    <td>0.0</td>    <td>1.815</td>    <td>1.967</td> \n",
       "</tr>\n",
       "</table>\n",
       "<table class=\"simpletable\">\n",
       "<caption>Intercept Results</caption>\n",
       "<tr>\n",
       "      <td></td>      <th>point_estimate</th> <th>stderr</th>  <th>zstat</th> <th>pvalue</th> <th>ci_lower</th> <th>ci_upper</th>\n",
       "</tr>\n",
       "<tr>\n",
       "  <th>intercept</th>     <td>21.441</td>      <td>0.589</td> <td>36.412</td>   <td>0.0</td>   <td>20.473</td>    <td>22.41</td> \n",
       "</tr>\n",
       "</table>"
      ],
      "text/plain": [
       "<class 'econml.utilities.Summary'>\n",
       "\"\"\"\n",
       "                         Coefficient Results                         \n",
       "=====================================================================\n",
       "               point_estimate stderr  zstat  pvalue ci_lower ci_upper\n",
       "---------------------------------------------------------------------\n",
       "income                 -5.476  0.348 -15.756    0.0   -6.047   -4.904\n",
       "has_membership          8.123  0.401  20.251    0.0    7.464    8.783\n",
       "days_visited            1.891  0.046  41.127    0.0    1.815    1.967\n",
       "                       Intercept Results                       \n",
       "===============================================================\n",
       "          point_estimate stderr zstat  pvalue ci_lower ci_upper\n",
       "---------------------------------------------------------------\n",
       "intercept         21.441  0.589 36.412    0.0   20.473    22.41\n",
       "---------------------------------------------------------------\n",
       "\"\"\""
      ]
     },
     "execution_count": 22,
     "metadata": {},
     "output_type": "execute_result"
    },
    {
     "data": {
      "application/javascript": [
       "\n",
       "            setTimeout(function() {\n",
       "                var nbb_cell_id = 22;\n",
       "                var nbb_formatted_code = \"est = dml_estimate._estimator_object\\nest.summary(feat_name=X_names)\";\n",
       "                var nbb_cells = Jupyter.notebook.get_cells();\n",
       "                for (var i = 0; i < nbb_cells.length; ++i) {\n",
       "                    if (nbb_cells[i].input_prompt_number == nbb_cell_id) {\n",
       "                        nbb_cells[i].set_text(nbb_formatted_code);\n",
       "                        break;\n",
       "                    }\n",
       "                }\n",
       "            }, 500);\n",
       "            "
      ],
      "text/plain": [
       "<IPython.core.display.Javascript object>"
      ]
     },
     "metadata": {},
     "output_type": "display_data"
    }
   ],
   "source": [
    "est = dml_estimate._estimator_object\n",
    "est.summary(feat_name=X_names)"
   ]
  },
  {
   "cell_type": "code",
   "execution_count": 23,
   "metadata": {},
   "outputs": [
    {
     "data": {
      "image/png": "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\n",
      "text/plain": [
       "<Figure size 432x288 with 1 Axes>"
      ]
     },
     "metadata": {},
     "output_type": "display_data"
    },
    {
     "data": {
      "application/javascript": [
       "\n",
       "            setTimeout(function() {\n",
       "                var nbb_cell_id = 23;\n",
       "                var nbb_formatted_code = \"# Getting the confidence intervals of the coefficients of the CATE model\\n# together with the corresponding feature names.\\nfeat_names = est.cate_feature_names(X_names)\\npoint = est.coef_.flatten()\\nlower, upper = np.array(est.coef__interval())\\nlower = lower.flatten()\\nupper = upper.flatten()\\nyerr = np.zeros((2, point.shape[0]))\\nyerr[0, :] = point - lower\\nyerr[1, :] = upper - point\\n\\nwith sns.axes_style(\\\"darkgrid\\\"):\\n    fig, ax = plt.subplots(1, 1)\\n    x = np.arange(len(point))\\n    plt.errorbar(x, point, yerr, fmt=\\\"o\\\", label=\\\"coef estimate\\\", alpha=0.5)\\n    plt.plot([-5, 8, 2], \\\"r.\\\", label=\\\"true coef\\\", alpha=1)\\n    ax.set_xticks(x)\\n    ax.set_xticklabels(feat_names, fontsize=18)\\n    ax.set_ylabel(\\\"coef\\\")\\n    plt.legend()\\n    plt.show()\";\n",
       "                var nbb_cells = Jupyter.notebook.get_cells();\n",
       "                for (var i = 0; i < nbb_cells.length; ++i) {\n",
       "                    if (nbb_cells[i].input_prompt_number == nbb_cell_id) {\n",
       "                        nbb_cells[i].set_text(nbb_formatted_code);\n",
       "                        break;\n",
       "                    }\n",
       "                }\n",
       "            }, 500);\n",
       "            "
      ],
      "text/plain": [
       "<IPython.core.display.Javascript object>"
      ]
     },
     "metadata": {},
     "output_type": "display_data"
    }
   ],
   "source": [
    "# Getting the confidence intervals of the coefficients of the CATE model\n",
    "# together with the corresponding feature names.\n",
    "feat_names = est.cate_feature_names(X_names)\n",
    "point = est.coef_.flatten()\n",
    "lower, upper = np.array(est.coef__interval())\n",
    "lower = lower.flatten()\n",
    "upper = upper.flatten()\n",
    "yerr = np.zeros((2, point.shape[0]))\n",
    "yerr[0, :] = point - lower\n",
    "yerr[1, :] = upper - point\n",
    "\n",
    "with sns.axes_style(\"darkgrid\"):\n",
    "    fig, ax = plt.subplots(1, 1)\n",
    "    x = np.arange(len(point))\n",
    "    plt.errorbar(x, point, yerr, fmt=\"o\", label=\"coef estimate\", alpha=0.5)\n",
    "    plt.plot([-5, 8, 2], \"r.\", label=\"true coef\", alpha=1)\n",
    "    ax.set_xticks(x)\n",
    "    ax.set_xticklabels(feat_names, fontsize=18)\n",
    "    ax.set_ylabel(\"coef\")\n",
    "    plt.legend()\n",
    "    plt.show()"
   ]
  },
  {
   "cell_type": "markdown",
   "metadata": {},
   "source": [
    "## Tree Interpretation of the CATE Model"
   ]
  },
  {
   "cell_type": "code",
   "execution_count": 25,
   "metadata": {},
   "outputs": [
    {
     "data": {
      "application/javascript": [
       "\n",
       "            setTimeout(function() {\n",
       "                var nbb_cell_id = 25;\n",
       "                var nbb_formatted_code = \"from econml.cate_interpreter import SingleTreeCateInterpreter\";\n",
       "                var nbb_cells = Jupyter.notebook.get_cells();\n",
       "                for (var i = 0; i < nbb_cells.length; ++i) {\n",
       "                    if (nbb_cells[i].input_prompt_number == nbb_cell_id) {\n",
       "                        nbb_cells[i].set_text(nbb_formatted_code);\n",
       "                        break;\n",
       "                    }\n",
       "                }\n",
       "            }, 500);\n",
       "            "
      ],
      "text/plain": [
       "<IPython.core.display.Javascript object>"
      ]
     },
     "metadata": {},
     "output_type": "display_data"
    }
   ],
   "source": [
    "from econml.cate_interpreter import SingleTreeCateInterpreter"
   ]
  },
  {
   "cell_type": "code",
   "execution_count": 28,
   "metadata": {},
   "outputs": [
    {
     "data": {
      "text/plain": [
       "<econml.cate_interpreter.SingleTreeCateInterpreter at 0x214cf1d0d48>"
      ]
     },
     "execution_count": 28,
     "metadata": {},
     "output_type": "execute_result"
    },
    {
     "data": {
      "application/javascript": [
       "\n",
       "            setTimeout(function() {\n",
       "                var nbb_cell_id = 28;\n",
       "                var nbb_formatted_code = \"intrp = SingleTreeCateInterpreter(\\n    include_model_uncertainty=True, max_depth=2, min_samples_leaf=10\\n)\\n# We interpret the CATE models behavior on the distribution of heterogeneity features\\nintrp.interpret(est, data_test)\";\n",
       "                var nbb_cells = Jupyter.notebook.get_cells();\n",
       "                for (var i = 0; i < nbb_cells.length; ++i) {\n",
       "                    if (nbb_cells[i].input_prompt_number == nbb_cell_id) {\n",
       "                        nbb_cells[i].set_text(nbb_formatted_code);\n",
       "                        break;\n",
       "                    }\n",
       "                }\n",
       "            }, 500);\n",
       "            "
      ],
      "text/plain": [
       "<IPython.core.display.Javascript object>"
      ]
     },
     "metadata": {},
     "output_type": "display_data"
    }
   ],
   "source": [
    "intrp = SingleTreeCateInterpreter(\n",
    "    include_model_uncertainty=True, max_depth=2, min_samples_leaf=10\n",
    ")\n",
    "# We interpret the CATE models behavior on the distribution of heterogeneity features\n",
    "intrp.interpret(est, data_test)"
   ]
  },
  {
   "cell_type": "code",
   "execution_count": 29,
   "metadata": {},
   "outputs": [
    {
     "data": {
      "image/png": "iVBORw0KGgoAAAANSUhEUgAABaAAAAEzCAYAAADHHaQ2AAAABHNCSVQICAgIfAhkiAAAAAlwSFlzAAALEgAACxIB0t1+/AAAADl0RVh0U29mdHdhcmUAbWF0cGxvdGxpYiB2ZXJzaW9uIDMuMC4zLCBodHRwOi8vbWF0cGxvdGxpYi5vcmcvnQurowAAIABJREFUeJzs3Xd0FNX/xvH33fQGCYTegvRepYWOIh2VoiiKoKig0lRQVH4qqEgTKSIIKnzpRUC60qt0pDfphBI6hPTM748Nu5SEZuJSntc5c0525s7MZya72eyzd+4Yy7IQEREREREREREREUlpNlcXICIiIiIiIiIiIiKPJgXQIiIiIiIiIiIiIpIqFECLiIiIiIiIiIiISKpQAC0iIiIiIiIiIiIiqUIBtIiIiIiIiIiIiIikCgXQIiIiIiIiIiIiIpIqFECLiIiIiIiIiIiISKpQAC0iIiIiIiIiIiIiqUIBtIiIiIiIiIiIiIikCgXQIiIiIiIiIiIiIpIqFECLiIiIiIiIiIiISKpQAC0iIiIiIiIiIiIiqUIBtIiIiIiIiIiIiIikCgXQIiIiIiIiIiIiIpIq3F1dgIiIiIg8/IwxaYGygK+raxGXiwb+tizrlKsLERERERHXM5ZluboGEREREXlIGWNsPn4+P8bGxLbKnidHpI+fL8YYV5clLhQdFc2RfYe93T3cl0ReudrEsqyrrq5JRERERFxHPaBFRERE5L55eHp0z5Ir68vdhnzm6ZfG39PV9ciDISYqmuGfD6m+9a+/fwFecHU9IiIiIuI6GgNaRERERO6bu4f7W626vuHrl8bf1aXIA8TT24tW3d7wjo2OaWSM0bAsIiIiIo8xBdAiIiIicl+MMW6RV6Oy5S6cx9WlyAMoTVBaAgIDYoGcrq5FRERERFxHAbSIiIiI3C83mzGWzXZv/1IO/3wIU36YkEol3Z8zJ8N5vUpLEuLjb9tu1bzl9H7nyxTb74N4LlKSm7u7BXi4ug4RERERcR2NAS0iIiIij73gzBkYtWLsHduF1q1KaN2qjsctyzal3/TBZM6RJTXLSzWnj51iTL9R7N60E3cPD6o1qkmLjq8k2bZl2aZ4eXtB4k0mK9QOpe1n7f7LckVERETkIaQAWkRERETkIRMTFU18fAI+fj73vY242Fh6v/MlTzWrw7vfdMFms3HySNht1/lqQr+HNmwXEREREddQAC0iIiIiqerQ7gP81HMYp46eoERoacx1yyIuXWFYj0H8s30/8fHx5C9RgNYfv0X6TOlZu3A1s36dQa+xfRzt5479nT2bd9G5fze2rNzE+O/HcO7UGXz8fKnzUn3qv9I42Tq6Nu1Ii46vUKpKWQDi4+J555k36Db0M/zT+NO5UXtG/zUJN3c3ls9awvSRU7h8/hIBgWlo2u5FQutWZfmsJSydsYgeo3rRs+1nAHzS4gMwhraftaNC7VA2r9jAlGETORN2mmxPZKf1x2+SM1/IHc/F3di/bS/Lfl/C2oWr+fD77uQrXuAet+C0fNZSAjMEUa9lQ8e8a3WKiIiIiKQUBdAiIiIikmriYmP57oM+1GlRn6dfqMumpesZ+slAGrR6FoCEBIuqDWvyXu/3SYhP4KcvhzKmz0g69+9G6apP8vPXIzh+8BjZcmcHYNXc5TR+vSkAP/X8gfd6d6FgqcJEXLrC6bDTt62l4jOVWbNgpSOA3vrXFgICA8hd8AnCr1s3KjKKMf1+5svRvckako3zZ84TcfHKLdv77KeetCzb9IZewQd3H+CnL3+gy3cf8UShPKyct4IBXb6l77RBGMNtz0Vyzp85z6o5y1g+awlxsXFUrl+NXmP7kDFbJgD2bNlF/07fJLv++wM/pkDJQrfM379tLxmyZKRPh14c2PEP2fPkoFXX18mRN1ey2+rVtgeWZZGveH5e7vwaGbJmvG3tIiIiIiIKoEVEREQk1ezfto/4uHjqvNQAYwzlnqrIvPGzHMsDAgMoV6uC43HjNk346u3PAfDw9KDC05VYNXc5zd95iWP/HCX8RDilqpQBwN3dneMHjpEzXwh+afzJncb/trVUrFOZT1/+kOioaLy8vVgzfwWV6lRJsq3NGI79c5TgzMEEBQcRFBx0V8e7dPpCajz/NHmL5gegaoPq/P7zb+zfthdjzG3Pxc3OnAzn194/sffvPZStXo423d+iQKlCGHNjv+kCJQsxYumYu6rveudOn2XXhh10GdCNIuWKMX/CXAa8/y19p36Pu8et9w38dMSX5C2Wj+ioGKb+MIH+nb7hq/H9cHN3u+d9i4iIiMjj495uWS4iIiIicg/Oh58jKGO6G0LT9JkzOH6Ojopm1FfD6djgbd6o9go93+zB1csRJMTHA1ClQXXWLFiJZVmsnLuM8k9VwsPTHo526PMBf6/aRKeG7ej1Zg/2bd1z21oy58hC1pDsbF6+geioaDYt30DFOpVvaeft482733Rh8bQ/eLdOW/p2/JqwQ8fv6njPnAhn3thZvFn9Vcd07tQZzoefv+O5uFl0ZDTHDxwjXcb05MwfQtbc2W4Jn/8NTy9P8pcsSInQ0rh7eFD/lUZcuXCF4weTPtaCpQvj7uGBX4Afr3zQmvCw04QdOpZi9YiIiIjIo0k9oEVEREQk1QQGB3H+9Dksy3KEp2dPniFT9syAfUznE4eP88Wv3xAYHMThPQf55OUPsSz7+nmL5cfN3Z09m3exZv5K2n/V0bHtPEXy0mXAR8TFxfHnpHkM/ngAg+YMv209FZ8JZc2ClSQkWGTLnT3ZG+oVr1iS4hVLEhMVzZRhExnZaxg9Rva64/GmyxRM4zZNaPx6k1uW7dq447bn4mbZcmdnwMyh7Nq4g+W/L+a34ZMoUKowVepXo1TVso4gfvfmnfTt8HWyNX04qDsFSxW+ZX6OfLnY9/ftQ/vbMgbr2i9KRERERCQZCqBFREREJNXkK54fNzc3Fkycy9PN6rBp+XoO7NhP4bJFAYiKiMLT2xPfAD+uXLzMbz9NuWUbVepXY3SfkdjcbY6xjONiY1m7cA2lqpTB198PHz9fbLY7X9xX4ZnKTPlhAlcuXaFiMsNvXDx7gf3b91GkXDE8vTzx9vVOdttp0wcSfvyUI8iu8VwtBn7YlyLli5GnSD6io6LZtXEHBUsVvuO5SIoxhsJli1K4bFEiIyJZ++dq5k+cw6ivh/PJ8M/JmS+EgqUKM2rF2Dse+81C61Zl3thZbF+7lcJli7Bg4lwCAgPIljvbLW2P/XOU+Lg4cuTNSUx0DFOGTSQoQzqyJo7NLSIiIiKSHAXQIiIiIpJq3D086Nj3A0b1+pGpwyZQIrQ0ZWuWdyyv81J9hn4ykHZPtSEoQxB1X27IxqXrbthGaP2qTP1xIs++0fSG+SvnLmd0n1EkJCSQJVdW2vXscMd6goKDyFs8P7s37eS9b7ok2SbBspg3bhY/9hiMMZAzfwitP2qbZNvn2zbjx/8bQmx0DG0+eZsKT1fi9U/eZnSfUZw6cgIPL08KlCxIwVKF73gu7sTHz4fqz9ai+rO1OHn0BN4+3ne9blKyhmSjXc8O/PzNCC6dv0hIgdx0GfCRY/znPh16UaBkIRq3acLFcxf45ZufOH/6LF4+XuQrXoAPBn6Mu7s+ToiIiIjI7RldNiciIiIi98MY42mz2SLHrJucqvcViYmKpn3t1+k1ti+ZcyY9ZIY8mDo1bHfpzInwypZlbXN1LSIiIiLiGroJoYiIiIg80BZO/YMnCudV+CwiIiIi8hDSNXMiIiIi8sDq1LAdlmXRuV/Xu2o/8+dp/P7L9FvmFyhVkK6DPk3p8kRERERE5A40BIeIiIiI3Jf/aggOeXhpCA4RERER0YcFEREREREREREREUkVCqBFRERERG5j+OdDmPLDBFeXISIiIiLyUNIY0CIiIiIiD4m//lzNggmzObznEE8UycunI768YfnhPQf5qecwwg4eI2vu7LT9rB25CuQGwLIsJg0ey9KZiwCo1qgWL3ZoiTHmPz8OEREREXl8qAe0iIiIiMhDwj+NP8+0aEDD1567ZVlcbCwD3v+W0LpVGL5kNFUaVGPA+98SFxsLwOLf/mTD0vV8Nb4/X0/oz+aVG1k87Y//+hBERERE5DGjHtAiIiIi8sCa9et0/pg0j8iIqwQGp+O1j96gaLni/LN9H//r/wthB4/h4eVJuZoVeLlLK9w9PABoWbYprbq9wfzxs7l49gLPtKhP1YY1GPbZII4dOErxiiVp37MD7h4e7NywnWE9BvFU02eYN2423r7eNGvfgtC6VZOsafOKDUwZNpEzYafJ9kR2Wn/8Jjnzhdy23pRStLx9W0tmLLxl2a6NO0iIT6DOSw0wxvDMi/WZ+79Z7Fi/nRKVSrFyzlLqtWxI+kzpAaj3ckOWzFhIrabPpFh9IiIiIiI3UwAtIiIiIg+ksEPH+XPKfL4c05ugDOkIDztNQkICADY3Gy27vEbuQnk4d/osfTt8xcIpC6jzUgPH+ltXb6Hn//pw7tRZPm35Ifu27qF9z474B/rzeetPWL1gFVUbVAfg4tkLXL5wmcHzRrB/2176dfya3IXykDUk2w01Hdx9gJ++/IEu333EE4XysHLeCgZ0+Za+0wYRHnY62Xpv9vuv05n96/Rkj33E0jH3fL6O/XOUHPly3jCkRo58OTl+4CglKpXi2D/HyJk/l2NZzvy5OH7g6D3vR0RERETkXiiAFhEREZEHks3NRlxMLMcPHCMgKA0ZsmZ0LMtdKI/j5wxZM1Lz+afZtWnnDQF0w1bP4uvvi6+/L9nz5KRY+RJkzJ4JgBKVSnF4z0FIDKABmrZ7EQ9PDwqVKUKJyqVZu3A1z73R7Iaalk5fSI3nnyZv0fwAVG1Qnd9//o392/YSlDFdsvXerNFrz9EoiWE0/o2oyCh8/XxvmOfr70tkRKRzub/fdcv8iLoahWVZGgdaRERERFKNAmgREREReSBlzpGFlu+35rcRk+3DZlQowctdXiMoQzpOHA5j3He/cnDXAaKjokmIiyek0BM3rJ8mfVrHz55enqRNH3jD4wtnLzge+wX44+3j7XgcnCUDF8LP31LTmRPhrJi9lD8nzXPMi4uN43z4eQqVKZJsvf8Fbx9vR9h8TWREJD5+Ps7lV65et+wq3r7eCp9FREREJFUpgBYRERGRB1alOlWoVKcKV69c5eevhzNx0Fja9ezAL71HEFIgN+981RkfPx/mj5/NukV/3fd+Ii5fISoyyhFCnz15hux5ctzSLl2mYBq3aULj15vcU703m/nzNH7/JfkhOEatGHvPx5A9Tw7mjpt1Q4/mI/sO81SzOonLs3Nk3yHyFM1nX7b3ENmeuPUYRURERERSkgJoEREREXkghR06zvnwc+QvURBPLw88vTyxLAuAqIgofPx88fb1JuzQcRZO/YM0QWn+1f5+Gz6J5u+8xP7t+9iyYiNN3nrhljY1nqvFwA/7UqR8MfIUyUd0VDS7Nu6gYKnCnA8/l2y9N2vcpgmN2yQdYt9OQnw8cXHxJMTFY1kWMdEx2NxsuLu7U6hMEWw2GwsmzqVWk9osmW6/UWGRJ4sCULleNeaNm02J0NIYY5g7bha1m9e95xpERERERO6FAmgREREReSDFxcYyafA4wg4dw83dnXzF8/P6J28D8FKnVxn11Y/MHjOTXAVCqFC7EjvXb7/vfaVNH4hfgD/v1nkTL28vWn/85i03IAR4onBeXv/kbUb3GcWpIyfw8PKkQMmCFCxV+Lb1ppSVc5cz4ouhjsdtQl+iSoPqvPX5u7h7eNC5X1dG9vqRSUPGkTUkG537dcXdwwOAmk1qc/r4aT5+8X0AqjeuRc0mtVO0PhERERGRm5nkemWIiIiIiNyOMcbTZrNFjlk32ebqWv6NnRu2M6zHIAbPHeHqUh45nRq2u3TmRHhly7K2uboWEREREXGNh/rDgoiIiIiIiIiIiIg8uBRAi4iIiIiIiIiIiEiqUAAtIiIiIo+1wmWLavgNEREREZFUogBaRERERERERERERFKFAmgRERERERERERERSRXuri5ARERERB49q+evYN64WYQdCsPb15tcBUJo3KYJBUoWcrRZPmsJI74YyrvfdKHC05UAWDVvOT9/bR8OIyEhgbiYWDy9vRzrjFoxlk4N23Hx3EVsNmdfiqoNqtOq2xv/0dG5zpoFK5k2fDIXz17Aw9Od4pVK8eqHr+Pr70tsTCy/9v6J7eu2EnHpCpmyZ6b5Oy9RIrR0stubN24Ws8fMJCYqhidrlqf1x2/i4ekBQHjYaUZ8MZR/tu8jfeZgWnV9g6LlizvWPX3sFGP6jWL3pp24e3hQrVFNWnR8JdXPgYiIiIg8XBRAi4iIiEiKmjt2FrNHT6f1x29SrGJJ3D3c2bp6CxuXrb8hgF4xeyn+af1ZMXupI4AOrVuV0LpVAdi5YTvDegxKcnzm9wd8dEMY+rjIX6Ig//dzLwIC0xB1NZKfvx7O1GETePXD14mPjyddpvR8OuJL0mcO5u9Vmxj88QC+mTiADFkz3rKtrWu2MGv0DLoP+5ygDEF890Efpg2fxIvvtQRg6CcDyVssPx9+350tqzYzqFs/+k0fTJqgtMTFxtL7nS95qlkd3v2mCzabjZNHwv7r0yEiIiIiDwEF0CIiIiKSYq5eiWDa8Em8+X/tebJmBcf80lXLUrpqWcfjMyfC2b1pJ+/1fp8h3Qdw8ewF0qYPTPF6pg2fxPEDR3H39GDTsvUEZ8lIxz4fsH7xX8wfPxt3Tw/aftaOYhVKOuofN2A0W1ZtwmazUbVhDZq81Rybmxunjp1kVK8fObLvEGAoXrEErbq1xS/AD4BODdvxdPM6rJyzjDMnzlC8Ukne+vxdPL08U+x40mcOvuGxzWbj1NGTAHj7eNPkrRccy0pVKUuGrBk5uOtAkgH0itlLqda4Jtnz5ADg2TeaMuyzQbz4XktOHA7j0O4DdBvyGZ7eXpSrVYH5E2azftFf1Gr6DMtnLSUwQxD1WjZ0bC9nvpAUO04REREReXRoDGgRERERSTH7tu4lNiaGstXL37bdijlLyV0oD+VqVSBrSHZWzVuRajVtXrGRyvWqMXzxaEIKhNDnvV5YCRaD5o3guTeaOob8ABj+f0OwubnRf8YQeo3ry7a//mbJjEUAWJZFw9eeY/C8n+gzdSBnT53ltxGTb9jX2j/X0HXwp3z3+1CO7jvMillLkqxpz5ZdvFn91WSnPVt2JXs8e7bsom21V3mj6iusX7yWOi/VT7LdxbMXOHnkhCNgvtnxA0fJdV1onCt/CBfPXuDyhcscO3CUjNky4ePn41yeL4RjB44BsH/bXjJkyUifDr14u1Zrer3Zg6P7Dydbs4iIiIg8vtQDWkRERERSzJWLlwkITIObu9tt262cs4ynm9UBoFKdyqycs/SG3rR38t0HfXBzc/alaNHxFWo893SSbQuULETxivYezuWeqsT6Jeto+Nqz2NzcqFC7MqO+Gk7E5QjiYmL5e/VmRiwZjae3F94+3tR5qQFLpv9JrSa1yZwjC5lzZAHAwzMtdV9uyPSbAujaL9YjKEM6wN4D+fDeQ8nWNGLpmLs+3pvX/WnZGM6dPsuS6QsJznJr7+a4uDh++Ox7KtevTtaQbEluJ+pqFD7+vo7H136OuhpJ9E3Lri0/H34OgHOnz7Jrww66DOhGkXLFmD9hLgPe/5a+U7/H3cPjvo5LRERERB5NCqBFREREJMX4pw3g8oVLxMfFJxtC792ym/Cw01SoHQpApTpVmPLDBA7vOUiuArnvaj+d+3W96zGg06RP6/jZ08uTgMAAbG5ujsdgD2MvhJ8jPi6ed+u0dbRPsCzSZ0oPwMVzF/lf31Hs2bKbyKuRWAkWfmn8bthX4HXDiHh6e3L+zLm7qvF+pMuYnhKVSjGk+3d8Na6vs+aEBH78bBDu7u606vZ6sut7+3oTGRHpeBx5JTJxvg9eNy0DiIyIxNvX3iPa08uT/CULOm5wWP+VRswcNY3jB4+TK39ISh2iiIiIiDwCFECLiIiISIrJVzw/Hp6ebFy6jnJPVUyyzYo5S7Es+OTlD2+av+yuA+jUkC5zMO6eHgxb+EuS4fnkIePAGL6e0J+AwAA2LF3H6D4j72tfuzfvpG+Hr5Nd/uGg7hQsVfiO24mPj+f0sVOOx5Zl8VPPYVw8d5EPv++Ou3vy/+5neyIHR/YectwA8si+Q6RNH0hAYADZn8hB+PFTREZEOobhOLLvEJWeqQxAjny52Pf3nrs6VhERERF5vCmAFhEREZEU4+vvR5O3XuDXPiOxubtRrEIJ3Nzd2LF2Kzs37KDJ2y+w9s/VvN79LUpWLu1Yb/3iv5g+ciotOrxyx+E7UktQcBDFyhdn3MDRNH37Rbx9vQkPO825U2cpVKYIkVcj8fX3xS/Al3OnzzJnzMz73lfBUoUZtWLsPa+3at5yCpQqRPpMwZw9eYYpP0ygSLmijuW/fDOCsIPH+PiHHnh6e912W5XrV2PEF0MJrVuFwOAgZo6aRpUG1QHIkisrOfOHMP2nyTRt14K/V2/m6L7DPNnnAwBC61Zl3thZbF+7lcJli7Bg4lwCAgPIljvp4T5ERERE5PGlAFpEREREUlS9lg1Jmz4tM0dNZdin3+Pt50NIwSdo3OZ5Ni5dh4eXJ5UbVLuhd261xrWYNnwyW9dsplSVsnfcR/8uvbHZnGNAFy1fnM79uv7r2t/+8j0mDR5Ht+adiIqIImO2jDRo9SwAz7dtzo//N5i21VuRKUdmKteryrzxs//1Pu/F8QPHmDh4LFcvReCbxo+SoaVp/s7LAJw5Ec7i3/7Ew9ODd55xDiPSpvubhNatypmT4XRr1plvp3xHcOYMlKhUivqvNOartz8nJjqGJ2tWoMlbLzjWe/frzgz/fAhv1XyN9JmC6fDtB6QJsg9nkjUkG+16duDnb0Zw6fxFQgrkpsuAjzT+s4iIiIjcwliW5eoaREREROQhZIzxtNlskWPWTbbdubU8jjo1bHfpzInwypZlbXN1LSIiIiLiGvqwICIiIiIiIiIiIiKpQgG0iIiIiIiIiIiIiKQKBdAiIiIiIiIiIiIikioUQIuIiIiIiIiIiIhIqlAALSIiIiKSAsLDTtOybFPi4+JdXYqIiIiIyAPD3dUFiIiIiIisnr+CeeNmEXYoDG9fb3IVCKFxmyYUKFnI0Wb5rCWM+GIo737ThQpPVwJg1bzl/Pz1CAASEhKIi4nF09vLsc6oFWPp1LAdF89dxGZz9r2o2qA6rbq9cdf1hYedpnOj9oz+axJu7m7/9nDvyd6/dzO2/6+EHTpGhqwZee2jtjecl5sd3H2Asf1/4dDug3j5eNGo9fPUaVEf4JZzka94fj4a2gOAo/uPMH7gaA7uOsCVi5cZu2Fq6h+ciIiIiDzyFECLiIiIiEvNHTuL2aOn0/rjNylWsSTuHu5sXb2FjcvW3xC0rpi9FP+0/qyYvdQRQIfWrUpo3aoA7NywnWE9BjF47ohb9vH+gI8oWr74f3NAKejKxcsM6PItrT9uy5M1yrN6wSr6d+7NdzOH4pfG/5b2ly9cou97vXi5y2uUq1WRuNg4zp0+e0Ob5M6Fm7sb5Z+qxFNNn+G7D/qk2jGJiIiIyONFAbSIiIiIuMzVKxFMGz6JN/+vPU/WrOCYX7pqWUpXLet4fOZEOLs37eS93u8zpPsALp69QNr0gSlezz/b9/Hrtz9x4sgJPL08qVSnCi27vEavtvZewm/WaAXAR0M/I0+RvEwcPJbls5bi4+9DvZcbpng9+7buIW36tJR/yh64V65XlRkjp7B+8VqqP1vrlvZzx82iWIWSjlDew9ODbLmz39W+soZkI2tINk4ePZFyByAiIiIijz0F0CIiIiLiMvu27iU2Joay1cvftt2KOUvJXSgP5WpVIGtIdlbNW0G9likf+P6v/y8882J9KtevRtTVSI79cxSAT3/6ks6N2jNiyWjHEByLpi5g84qNfDWuL14+Xnzftd9tt92v09fs3bI7yWX5Sxbkg4Hdb5lvWfbpxnkWx/45kuR2/tm2j+x5c/JFm+6cOnqSPEXz0arbGwRnzuBo88Nn32MlWOQqEEKLjq+SK3/IbesWEREREfk3FECLiIiIiMtcuXiZgMA0dxxXeeWcZTzdrA4AlepUZuWcpfcUQH/3QR/c3JxjQLfo+Ao1nnv6lnZu7m6cOnaSyxcuERCYhrzF8ie7zbUL11CnRX3SZw4GoFHr59i1cUey7ZMKmO8kX/ECXAg/x+r5Kyn3VAVWz1/J6WOniI6KSbL9udNnObT7AN2G9iBH3pxMHPQ/hnYfyP/9/BUA7Xt2JKRgbixgwYQ59HmvF32mfo9fgN891yYiIiIicjdsd24iIiIiIpI6/NMGcPnCJeLj4pNts3fLbsLDTlOhdigAlepU4ej+Ixzec/Cu99O5X1dGLB3jmJIKnwHaftaeE4fD+LBJRz57tRubV2xIdpvnw8+RLjF8Bkh/XS/jlBIQGEDn/t2YN34W79R+g62rN1OkXDHSZUqXZHtPL0/K1ChPniJ58fTy5Lm2zdm3dQ9Xr0QA9p7Wnt5eeHnbb07o6+/Lns27UrxuEREREZFr1ANaRERERFwmX/H8eHh6snHpOso9VTHJNivmLMWy4JOXP7xp/jJyFcidovVkzpmFd7/uTEJCAhsWr2VQt/4MW/QLxphb2gYGB3Hu5BnH47PX/ZyUPh16sWdz0kNwFChVkK6DPk1yWaEyReg55lsA4uPi6fLsO9Rr2SjJtjny5uL6Sq+VffMwHs7lBiu5hSIiIiIiKUABtIiIiIjcM2OMH1ANuDWZvQe+/n40eesFfu0zEpu7G8UqlMDN3Y0da7eyc8MOmrz9Amv/XM3r3d+iZOXSjvXWL/6L6SOn0qLDK3ccvuNerJy7nOIVS5AmKC2+icNS2Gw2AoLSYGw2Th8/RZZcWQEo/3QlFkyaR8kqZfH28WLW6Om33XZyAfOdHNp9gOx5cxITFcO04ZNIlzE9xSuWTLJt1UY1+L5rP555sR7Z8uRgxsip5C9ZEL8AP86cDOfcybM8USQPCQkWf0yax+ULl8lfoiBgH1s6NiaW+Ng4AGKiYzDG4OHpcV91J27TG6hpjDnE1FlqAAAgAElEQVRmWdb5+96QiIiIiDy0FECLiIiIyB0ZYzyBckAtoCZQBticEtuu17IhadOnZeaoqQz79Hu8/XwIKfgEjds8z8al6/Dw8qRyg2q4uzv/da3WuBbThk9m65rNlKpS9o776N+lNzabc/S5ouWL07lf11vabV2zmfHf/Up0VAzBWYJ55+vOeHp5AtC4zfN8+fqnxMfF0XXwp9R49ilOHg7jk5fex8fPl3otG7Jz/fYUOCM3mj1mJn+vsp/q4pVK0um6undv3knfDl8zasVYAIo8WYzm77xEv07fEB0VTYGSBXmnVycAoiKi+KX3CE4fO4WHlwc584fw4aDuBAQGAHDmRDidG7V3bLtN6EsEZ8nAwFnD7rt2AxbQHOhljNkDLAIWAysty4q47w2LiIiIyEPD6JI7EREREbmZMcYNKIEzcA4F9mEPEBcBK4FYm80WOWbdZN1XRJLUqWG7S2dOhFcG9gLlsT+XagGlgE04A+m1lmUlfWdFEREREXmoqQe0iIiIiGDsgxwXwBk4VwdOYQ8HfwJetizr3E3reP7HZcpDyrKsaGB54vS5McYfqIz9uTYQyGeMWY0zkN5iWVbyd6YUERERkYeGAmgRERGRx5QxJifOwLkmEIc9AJwOvGdZVpgLy5NHmGVZV4D5iRPGmHTYv/SoCYwFMhljluIMpHdbunRTRERE5KGkAFpERETkMWGMyYAzbK4FpMEe7i0GPgcOKOQTV0jsXf9b4oQxJivO52pXwMMYs5jEQNqyrMOuqlVERERE7o0CaBEREZFHlDEmDVAVZy/nXNiHQFgMDAG2K3CWB1Fi7/uxwNjE4WGewP48fgb41hhzCfvzeBGwxLKs0y4rVkRERERuSwG0iIiIyCPCGOMDVMQZOBcF1mIP6t4ENlqWFee6CkXuXeKXJP8kTiOMMTagCPbn+cvAcGPMEZzDdSyzLOuSq+oVERERkRspgBYRERF5SBlj3IGyOAPncsA27CFcd2CNZVlRrqtQJOVZlpWA/Xm+DRiY+Doog/110BEYb4zZgTOQXm1ZVqSr6hURERF53CmAFhEREXlIJPb8LIozcK4CHMIetA0AVqjnpzxuEnv1r02cvjbGeOO8EqAnUNwYsw5nIL1eVwKIiIiI/HcUQIuIiIg8oBLHvs2DM3CuAVzAHqKNAVpblnXGdRWKPHgSe/0vSZyujYVeBfvraBiQ2xizAmcgvS2xV7WIiIiIpAIF0CIiIiIPEGNMNuxhc03sgZkNe1A2F/jAsqyjLixP5KGTeFXAnMQJY0wGoDr211c7IMgYswRnIL1fN+cUERERSTkKoEVERERcyBiTDnvP5muBcwbsPTcXAd8A+xSGiaQcy7LCgSmJE8aYnNhfg7WAHkC8MWYxiYG0ZVnHXVWriIiIyKNAAbSIiIjIf8gY4499OIBrgXMeYCX2npcjgb81HIDIf8eyrCPAaGB04rA3+bG/Phtjv8lhOPbX5yJgqWVZZ11WrIiIiMhDSAG0iIiISCoyxngBFXAGziWBDdjDrPeAdZZlxbquQhG5JvFqgz2J07DEG3+WwP76fR34xRizH2cgvcKyrCuuqldERETkYaAAWkRERCQFGWPcgNI4A+eKwE7sgdUXwCrLsq66rkIRuVuJVyNsTpz6G2M8gHLYX9/dgCnGmC04A+m/LMuKdlW9IiIiIg8iBdAiIiIi/0LiJfuFcQbO1YDj2MOooUBzy7IuuK5CEUkpiVcrrEqcehpjfIFQ7K//vkAhY8wanIH0Jsuy4l1Vr4iIiMiDQAG0iIiIyD0yxuTGGTjXBCKwB06TgLcsyzrlwvJE5D+SeDXDn4kTxphA7F9C1QR+AbIZY5bhDKR36qaiIiIi8rhRAC0iIiJyB8aYzEANnIGzD85AqbtlWYdcV52IPCgSr3aYmThd/7ejJtAJ8DXGLCbx74dlWQddVauIiIjIf0UBtIiIiMhNruvFeC1wzgpc68U4ANilXox2FjoNchuP+dPDsqyTwITE6earJ3oZYyKxf5G1GFic2F5ERETkkaIAWkRERB57143jei1wLghcG8e1NRrHNTmxBpNw9cpVm6+/r6trkQeMZVlcvRLhAVxydS0PisQez6OAUTeNH98cGGqMCcMZSC/V+PEiIiLyKFAALSIiIo8dY4wHUA5n4FwG2II99PkAWGtZVrTrKnw4WJZl+af1/2vD0nWVqzao7upy5AGzf9teEhISLgJHXF3LgyjxKoodidNgY4wbUBr736T2wP+MMbtxBtIrE8ecFhEREXmoGF09KiIiIo86Y4wNKIEzcA4F9uMcx3mlZVlXXFfhw8sYU9nLx2tB03YtfEpUKmW8fb2xd+yUx1VMdAy7N+1k/MAxV6OuRr4VFxs31tU1PYyMMV5ABex/s2oCpYCNOAPpdZZlxbiuQhEREZG7owBaREREHjmJl7bnxxk4VwfCcQbOyyzLOuuyAh8xxpgnffx9P7Qsq6oVn+Dt6nrEtYzNxNrc3DZdvRwxwLKsBa6u51FhjPEHquAcQzovsApnIL3FsqwE11UoIiIikjQF0CIiIvJIMMbkwBk41wQSsAczi4AllmUdd2F5IiIpyhiTHvuXa9cC6QzAUpyB9B7dLFVEREQeBAqgRURE5KFkjMkA1MAZvgTi7OG8GPhH4YuIPC6MMdlwfgFXC3Djur+JlmVpLG4RERFxCQXQIiIi8lAwxqQBquIMV3IBK3AGztt1+bmIiGMYojzceFXIBZyB9BLLssJdV6GIiIg8ThRAi4iIyAPJGOMNVMIZOBcF1uEMnDdYlhXnugpFRB4OiTdiLYozkK4KHMIZSC+3LOuSywoUERGRR5oCaBEREXkgGGPcgbI4A+dywHacgfNqy7KiXFehiMij4bq/t9cC6fLANpyBtP7eioiISIpRAC0iIiIucV2PvGuBcxXgMM7AWT3yRET+A8YYH6AizkD62hUn1wJpXXEiIiIi900BtIiIiPwnrhuT9FrgXAO4iDNw1pikIiIPgOvG3L8WSF8bc/9aIK0x90VEROSuKYAWERGRVGOMyYozcK4JuOMMnBdblnXEheWJiMhdMMZkBKrj/FueFliCM5D+x9IHSxEREUmGAmgRERFJMcaYdNwYUmTkxpBir0IKEZGHmzEmF/arWGolTrEkfrEILLIsK8yF5YmIiMgDRgG0iDySEi8dbZY2MG1jm80W6Op6xOXiY6JjDkREREzA/sFYb34pxBjjD1TGGTjnA1biDJz/1mXaIiKPrsThlQrgvNqlOnAaZyC9xLKscy4r8CFhjPEAGnn5ejW1udmyYj+vIinGsqy4uOi4LXExsf+zLGuzq+sRkceLAmgReeQYY9L7+vmtLfNkmcyNmz7rFxgUqP/hH3Px8fEc/OdAwq8jfom8cOHiqKsRER1dXdPDyhjjBZTHGTiXAjbgDJzXW5YV47oKRUTElYwxbkAJnIF0KLAf+3vEImClZVlXXFfhg8cY4+Hp4zknbcagiiXrlPUPSJ8GY9P/rpKy4uMSOLn/eNymuetiYqNi2ifEJ4x2dU0i8vhQAC0ijxxvb+9vGzzXsFP/od95KniW6104f56qZSpfvXjhYnnLsra7up6HQWKQUApn4FwR2I0zcF5lWdZV11UoIiIPMmOMJ1AOZyBdBtiM831krWVZ0a6r0PWMMc0yhGT6uVX/t/zdPNxdXY484s4cOc2vnYdFxcfGp7MsK9LV9YjI48Hm6gJERFKal5dXs5atX1H4LLcIDAqi0fON3YH6rq7lQWXsChtj3jPGTAfCgV+BbMAPQC7LsspZlvWRZVl/KnwWEZHbsSwrxrKslZZlfWlZVjXs9wboCXgB/YEzxpgFxphuxpiyiV98Pla8/Lybl6pbTuGz/CeCc2YkOEfGaKCqq2sRkceH3uFE5JETGxcXlCVrFleXIQ+o7DlzeHp5e+kJch1jTAjOHs41gSjsvdImA+0syzrpsuJEROSRkvjF5R+JE8aYIKAa9vef0UAWY8wynD2kdz3q926w2WxZAoLTuLoMeYykzRRoO3XgRAZX1yEijw/1gBaRR5BlbLZ/9+ftqYo1WbNydQrVIw8Sm82GMf/yCfKQM8ZkMsa0MMb8ZIw5APyFPYBeDFSyLCu3ZVlvWJY1QeGziIikJsuyzluWNcOyrA6WZRUBCgNTsI8jPQcIM8aMM8a8nviF6aPHXLuXo9OwNwZwaMs/Lirov7Ny/GJm9Z+a6vu5eOo83zbqQUJ8fJLL10xexrzBM1K9jgdF4hNOl4uKyH9GPaBFRJKwcM1iV5fwQFu5bCU9un7C8WPHKVmmFP2Hfkf2HNmTbLth7Qa+/OT/2L93Pzly5qBXv695skI5x/KzZ87y+cc9WPrnEjCGGk/XYNCIIYD9i4Djx4452kZHRVP9qRr8POHXVD2+R40xJhBn77Ja2IfTWIa9Z9lAYOej3rtMREQeDolffI5PnDDG5Mb+3lUL+MoYcxX7+9diYLFlWadcVas8Oio2r+bqEpIVFxvHHz/MYs/qnXh4eVDu+VDKPRuaZNttizYzb/AM3D09HPOafvYyOYvl/q/KFRFJkgJoEZHHiGVZnDt7jvTB6e97G+fOnuPtV9vy7fd9qVXnKfp/3Zd327Rjxp+zbml74fx53ni5NV/1+4Y6Desyc9oM2rRozcrNq0gbGAjAW6+2pXipEqza+hc+Pj7s2bXHsf71XwRYlkWV0qHUb9zgvmt/XBhjfIFQnIFzIWAN9g/rrYHNlmXFua5CERGRu2NZ1kFgJDAysddmYezvbS8APxhjjuMMpJdZlnXBZcWKSyXEx2Nze7CGEI84fwW/IP9/tY1V45dw/sRZ2o3qwpXzV5j4yS8E58jIE2XyJdk+a4EctPz2jX+1TxGRlKYAWkQkCaElKvDt932pXL0K3/Xuz749+/Dy9mLBnPlkzZaNAT98R/FSJQAIOxbG5917sH7NOhISEmjUpDE9+3xFQkICQwYMZuKY8URFRVGtVnW++LYnadKk4eiRo1QuWZG+g/sz4Jt+RERcpVuPjyhWohhdO3xA2LEwnm3+HD37fOWoadLYiQwf/CPhp8MpWbok3wz8Ntlexzc7cugwUydMYdrEqbRs8wrtOr5z3+dm/qy55CuYn/rP2oPgzt3ep2S+Yuzfu5+8+fPe0Hbjuo0EZ8jgaPt88yYM6juQebPm8eIrLVi+eBknjocxadYU3BI/MBQtXjTJ/a5d/Rdnz5yhbsN69137o8oY4wGUwxk4lwW2YP8w/iHwl2VZ0a6rUERE5N9LvFpnR+I0yBjjDpTC/t73DjDWGLMLZyC96mG+We6pgydYPGo+F8Mv8ETpfNTv9Bzunh5EXYlk9oBphO09RkJ8AtkL5aR2+4akCU4L2HvBrpq4lMhLEfgE+FKlZS2KVC+R7H62LdrM3ws2kCV/drYt2oy3vw8NujThfNhZVoxbRHxsPNVfq02xWqUAe4/c5f9byO6VO4iPjSN/xULUfL0uHl4eHNl2kFkDplG2QXnWzViNsRlqt2uIm7sbi0bOI/LSVco9W+mGHsdxsXHM7DOZAxv3EpQlPfU6PkfG3JkBuHz2EgtHzOXojkN4entStnElyjasANiH7wg/chp3D3f2r9tDzdfrkCEkE3/+OJtzx8/i7ulO4erFqfV6Xce+dizdyopxi4mLjqVs44pUSqxj5fjFnD9xjobvN+XiqfP82PY7nmnfiFUTl2BZFuWeDaXcc0n3Or5ZfFw8/2zYy7aFmzmy7QCdJ316D7/1W21fsoV6HZ/D298Hb38fitcuw7bFm5MNoEVEHkQKoEVE7sLC+X/y45gR9BsygH5f9aFH10+Z8ecs4uPjadOiFZWqhDJwyyBsbja2bdkKwJTxk5k6YTITf59M+uBgOrfvSI+unzLwx0GO7W7ZuJmlG1awbvVa3ni5DdVqVWfc9InExcZSr3od6jduQIXQiiyYM5+h3w1m1PhfyZ0nNz8MHMp7b7zD9AUzk6058mokc3+fw+Txk9i9YxcNnm3I4JFDKf1kGUebYiGFk12/Xaf2tO/07i3z9+7eS+GizvV8/XzJFRLC3t17bgmgLcvi5pEdLMtib2Iv580bNvFE3jx0ad+JpQuXkDMkF598+SkVQivest+pE6ZSr1F9fP18k635cWGMsWEfG/Na4FwZ2I/9w/a3wErLsi67rkIREZHUl3g1z/rEqbcxxguogP298XOghDFmA85Aep1lWbEuKvee7Vm5g2afv4K7pztju41k26ItlKr7JFaCRbGnStG4W3MS4i3mDZrBwuFzeP6Tl4iJimHhiLm82v8t0mcP5sq5y0ReibzjvsL2Hqd47TJ0GPsRKycs5ve+U8hbrgBvDu/E0e2HmNF7IgUqFcbTx4ulv/7BxVPnaf19O2xubszqP4XVE5dSrdXTgL3Xb1xsHO1/+YBtizYzf8hMQkrmodWAt7l05iKjO/9IoarFCMycDoD9a3fT8INmNOjShA2z1vDbV+Np+2NHbDbDtF7jyFe+II0+aMrls5eY+Nlo0mVLzxOl8znWbdztBRp0fp642HgmfvoLZRpWoGiNksRERhN++PQNx3ls1xHaDuvA+bCzjHl/OPkrFiY4R9L34juy7SBtf+zIxZPnmfDpL2TMnZmQknmSPYfhh06xddEmdi7dSmDmIIrWLEX9Ts85lv81dTl/TVuZ7PqdJnS/ZV7UlUiunLtMxpDMjnkZc2dm39pdyW7n9IETDHq5N94BPhSpXoKKzao8cD3DReTxowBaROQulK3wJDWfrgXAc82bMOrHkQBs2biFUydP0f3LT3F3t/9JvTa+8Yyp03mj/ZvkDMkFQLfPPqZ2aC36DRng2G6HDzri7e1N1ZrV8PH1odHzjQnOEOzYzo6tO6gQWpFxv46lfad3yVfA/s/2u13eY+h3gzl29FiSvaC7dviA+bPnUapsaV5p/SpP16uNl5fXLe22Hdp5z+ciIiLiliE8AtIEEHEl4pa2ZcqV5fTJU8ycNoN6jeozc+oMDh88TGSk/YPQibATLF+yjG+/70u/IQOY9/tc2r78Oss2riRd+nSO7URejWTe73MYOf7ne673UZB4yXF+nIFzdeAM9g/To4BXLMs667ICRUREHgCJV/ssS5x6GGMCgCrY3z+HAHmMMStxBtJ/W5aV4Kp676RMgwoEpE8DQN4nC3D64AkAfNL4UqBSEUe7is2rMuGTXxyPjc1w5sgp0mRIi3+6APzTBdxxX4GZAin+VGkAClUuxprJywl9oTruHu7kLpUXm7sb50+cI2PuzGz9YyOtB72DT4C9U0DFZlWZ1W+qI4B2c7dRsVk1bG42ClUpxoKhv1O2YQW8fL3IkDMjwTkzcPrQKUcAnSlPVgqG2o+nXONKrJ+xmrA9R3Fzd+PqxauEvljDXmPmdJSoXYZdK7Y7AuisBXKQv0IhADy8bNjc7HVevRSBbxo/shXMccNxhr5YHQ8vDzLmzkzG3Jk5ffBksgF0aIvqeHp7kiEkE8VqlWLn8m1JBtCH/z7A0tF/EHHhCkWql+Clb14nffbgW9pVaFqVCk2r3vF3cb2YyBgAvPyc/8d7+Xo55t8sR5FctBn8LmkzpuXMkXBm9p2Mzc1GxWb3tl8RkZSmAFpE5C5kyOj8x9TH14foqGji4uI4cTyMbDmyO8Ln6506cYps14XD2XJkIy4ujjOnwx3zgq/brre3N8EZnf+sevt4ExFhD3WPHz3OF93/j68+6+lYblkWJ8NOJhlA7921B09PT4oUK0LBIoWSDJ/vl5+fH5cvX7lh3pXLl/Hz97ulbVC6IH4aN4qvevTisw8/oVrN6lSuVoXMWbPYj9Hbm+w5c/DiKy0AaNSkMUMGDGLD2vXUrveMYzvzZs8lMCgwyZ7RjypjTA6cgXNNwML+gXkm0MmyrGO3WV1EROSxl3g10NzECWNMMPYvcWsCbwLpjTFLcQbSex+km/JeP3awh5cHV87ZL26KjY5h0cj5HNy0j6grUQDEREaTEJ+Ap7cnjT5sxrrpq5g3eCbZCuWgZps6pM+edMh6jW+gc1/unu637N/d04PYqBiuXowgNjqW0V1+dCyzLAsrwXnavAN8sbnZEutO3FbgTdu6LkC9NnQIgLHZCEifxn6sxnDl3GUGtvjaua+EBLIXzuVcN4NzXYC6HZ5l5bjFjGw3mLSZAgltUYO8TxZwLPe//pi87MeUnIDr6kqbMZDww0nf7zLiYgTnT5wja4HsZMydmbQZ0ybZ7n54+ngCEH012nFjwZjIaMf8m10L9QEyhGSi0gvVWTd9pQJoEXE5BdAiIv9ClmxZCTt2nLi4uFtC6ExZMnH8qDMjDDsWhru7O8EZM3Ai7MQ97Sdrtqy8+/57PNfs+btqP+PPWezbs48p4yfR4tkXyJI1M8+/0JTGTZ4lKF2Qo12hHPmT3cY7nd/j3S7v3TI/f8H8TJ041fH4asRVDh86TP6CBW5pC1AhtCKzFs0BIC4ujqqlQ2n7zpsAFCxSiIULFt7xeKZNmMrzLzTB3hH40WSMyYD9Q/G1wDkIWIL9Q3FPYP+D9KFYRETkYWNZ1hlgauKEMSY79vfcmkB3+yyzmMRA2rKso66q9XbWTV/NueNneKXfm/gHBXDqwAl+7TQM+3fV8ETpfDxROh+x0bGsGLuI+UNm8nLvlLkpnW8aX9w9PXh9yLuO3tn/1qUzFx0/WwkJXD57Cf90AdjcbARmCuTN4Z3uelvpsqan0YfNsBIS2LNmFzN6T6LDuI/uq67LZy46gvtL4RfxT5f08RauWoz8FQqyd80utv65iT+GzSZ/pcIUrVGC7IVzOf5/XTN5GWumrkh2f10m3zpWtLe/D/7pAjh98CS5S9mHujt98CTBOTPe1TEYw7WnhYiIS9lcXYCIyMOsZJmSZMyUkd5ffMPViKtERUWx/q/1ADR6vjGjhv3EkcNHiLgSQZ+evWnwXMMke0vfycutW/LDd0MdYydfunSJOTNm33adfAXy0f2LT/lr2zo6du3C2lV/EVqyAhP/N8HRZtfRvclOSYXPAM80qMveXXuY+/scoqKi+L7vdxQqXOiW8Z+v2b51O7GxsVy+dJmvPutJ5qxZqFarOgB1GtTh4oWLTJ0whfj4eObMnM3JEycpW/5Jx/onjoexZuVqmrZodi+n7IFnjEljjKlvjBlgjNmCfQznVsAeoBmQybKs5pZlDbcsa5/CZxERkZRlWdYxy7LGWJb1GpATqAGsBuoDm4wxe40xPxpjmiV+UfxAiImMxt3THW8/byIvX2XVxKWOZRHnr7Bv7W5iomJw93DDw8cTY0u5j/3GZqPEM2VYNHIeERfsV8RdPnuJA5v23fc2T/0Txp7VO0mIj2f972tw83Ana4EcZMmXHU9fL/6atoLY6FgS4hMIP3yKE/uOJ7utHUv+5urFCIzNhrefNwA22/11YFg9aRmx0TGEHznNtkWbKVQl6Rtlg71Xd+FqxXnhy1a0/r49aTMGMm/wTEa8NdDRpmLzanSZ/GmyU3KK1CjBmsnLiLoSydlj4fz9x0aK1SyVZNt/Nu4l4rz993L2WDirJy0jb/mC93X8IiIpST2gRUT+BTc3N0ZN+JXPP+pBxeLlMMbQuOmzPFnhSV5o+SKnT56ief0mREdHU7VmNb78tuedN5qEOg3qcjUignffaM/xo8cJSBNA5epVqf9sg7uqsVbtWtSqXYsL589z+lT4Hde5nfTB6flx9Ah6dPuUTm93oFSZUgwe9YNjefcu9l4mXw/oDcDwQcNY8udiAKrVqs6I/410tA0MCmLU+J/59IPufNb1E/Lky8vIcT/fMP7zb5N/o/STZciVO+Rf1e1qxhhvoCLOHs7FgXXYe1m1AzY8TDdGEhEReZQkftG7L3H6MfGGv8Wwv2+3AkYaYw5iH6pjEfw/e/cdHUXZhnH4N9n0SujdAKGGEnqVLkWkN2mCVKWJCAqCBT9BQJogRVCQjjRRitJ77yWhQyD0EiCEhNT5/lhcBBIBBZZyX+fkmJl5Z+belZPMPnnnGdabphluj6xFapVk4dC5jGw+CM/kXhSrU4qjWw7+9TrYvmAji4bPwzAMUmdJS5X3Hn69+DjKt3yDjbPWMLXnBKLCI/FM4UXB6sVsfZkfl3/xXBzacIAl380nWdrk1O39NhZH60Pz6vdtxuqJS/mh3XDiYuNIniElZZtXSvJYJ3YdZdXEP4mNjsU7lQ+1eja0ta54XJkC/Bjf4TvMBJNidUrZZiA/jHcqH0o1KkepRuU4E3zqX53778o0rciyMQsZ22YYjs6OFK9fhqyFre91+OXr/Njpe9qO7ox3qmSc2nuCJSN+JfZ2DO7JPAkon1/tN0TkuWBoQpWIvGzcPdyvr92+3idNurQPHyyvnPHf/8DQb4aMioqM7Po0z2MYhiNQmLsF5+JAEHf7TG4yTfPhj6UXERERuzMMwwkowt3f68WAfdwtSG82TfN2Evt6A8VN01ye2HZ3H4+NNbrVK5WtSNKt0eTZuXHxGuPaDafnr1/gYLHYO85TsWDgrIjDm4I7mqY51d5ZROTVoBnQIiIiT8CdmVIB3P1gWhY4jfVD6XfAOtM0byR9BBEREXle3blLafOdr68Nw3ADSmH9vf8NEGAYxlbuFqR3mqYZd2d3F+AHwzCmAP3UVktERF41KkCLiIj8C4b1iTJZuVtwrgiEY/3QOR1oa5rmJfslFBERkaflzl1MK+98YRiGD9Y/PlcCJgCZDcNYx92CdClgIeBnGEZ70zRjnmXepWN+J2jNvgfWB5TPT9WOtZ5lFBEReQWpAC0iInKHYRhpgUFAu8Q+GBqGkZ67xeZKgBPWD5VLgU9M0/zvjf5ERETkhXPnLqeFd74wDCMNUB7r9UJnwBtYCxQEVhuG8eazvDOqasdaKjQ/Ip80vnzy+1f2jiEi8lJRAVpERAQwDCM3sASY+Ffx2TCM5Fg/PP5VcE4DrMY6m2kwcPwaLAkAACAASURBVFi30YqIiMj9TNO8CPwC/HLnrqnSQDOsDzbMD2wBctsvoYiIyLOjArSIyEvgo04fkjZ9Onr2+djeUV5IhmGUA2YDfYAzhmEMxlpwzg5sxFpwbgbsNU0z3m5BRURE5IViGEY1YAoQC2wFfr7z3112jPVCWTxiPl4pvSnbvLK9o4iIyL+kArSIiDwV169do0KxcmT1z8a8P34F4MihI3Tv2I1TJ62dKvIF5uPLb74iRy77PfXdMIxewGfAcWAEsBNrwfkDYNuz7tEoIiIiL5W1QEHTNM/aO4j8d4tHzCd43X4sjhbbum4zP8XB4kDQmr0sHbPQtt5MMImLiaXlsPdI65/eHnFFRJ4bKkCLiMhT8c2XA/DPkZ2EhATbujTp0jD25x/ImCkjCQkJTPnxZ7q07cjSDSvsmJRWWHs5JwN+wzrjeSuwS+01RERE5L+487BCFZ9fIsXrlU50NnZA+QIElC9gW96/cjebfllDmmzpnmU8EZHnkoO9A4iIvOjGfjeaYgGFyZM5JxWKlWXD2g0A7Nm5mzpVapHPLw9Fchfis4/7EBNzdzLta8kzMuWnyZQrUoY8mXMypP+3nDoZQp0qtQjInIuO775nG795wyaKBxTh+2GjCPTPR+kCJfh1zvwkM61cuoLqZauQzy8PdavW5mBQ8EPzPkk7t+3k8MHDNGza6J71Pj4+ZMqcCcMwME0TB4uFkJMhT/z8j8M0zVyAO1ATWAMUAsajvowiIiLyitsybz2jW33L8MZfM+H97wjZexyAc0fOMLXneEY0GcD3LQezfNwi4mPjbPsNqvU5u5ZsY3yHEQxv/DXrpq3k2vkwpvYcz/DG/Vkw6Bfb+NP7TzL63SFsnr2Wkc0GMrbtMILW7E0y07Hth5n0wRhGNBnA1I8ncOnkhYfmtYcDq3YTUCEQawtwEZFXm2ZAi4j8B8ePHmfyhJ9ZuGIxadKlJfR0KAnx1hbBFouFz/t/Qf6CBTh/7jwtG7Zg6k9TaPN+W9v+a1euYdGqPzh/9hw1KlRn5/YdjBw/imTJfalbpTa/z/uNBk0aAnD50mXCroaxNWgHu3fsolXjd8gfWIBs2bPdk2n/3v307PIRP82YRP6CBfh19nzaNm3Nqm1rOXP6TJJ57zdmxPeMHTEmyde+PyQ40fXx8fF89nEfBo0YzKHgQ4mOyeeXh1u3bpGQkED33j2SfoOfEdM044C9d74m2DmOiIiIiN1dPXOFXYu38s7QDnil8ObGxWskJFhvDnNwcKBim+qky56em1fCmd1vKruWbKNo7VK2/U/uOkrL4e8RfiWcyd3Gcu7QaWp+1AA3L3emfjyB4HX7yVepIAC3rkUQeTOSjj/34NzhUOb2m0Za/wykyJjynkwXjp/jj5ELqN+3KWn9MxC0Zi/z+s+g3diu3Lh4Pcm899sydx1b5iU9CaPbzE+T3LZ7yXZ2L9mOT5pklGxYlpylAh4Yc+PSdUKDTlG9S92k32ARkVeICtAiIv+BxeJATEwMRw8fJXnKFGTKnMm2LV9gftv3mTJnolmr5mzdtPmeAvR7XTvi5e2Fl3dOcuTOSdkKZcns9xoA5StXIGjfAVsBGqDHpz1xcXGhROmSVHyjEosWLOSDnt3uyTRrygyatmxOwSKFAGjQpCGjh49i945dpE2XNsm89+vYrTMdu3V+7Pdk0g8TKVi4IPkC8ydZgN4fEkzkrUjmzppDhkwZH/scIiIiIvJ0OTgYxMfGczX0Mu4+Hvik8bVt+3tPY580vgRWLUJo0Kl7CtDF65XBxd2VVJldSflaavwK+pMsbXIAshbKzsUT520FaIDXm1XC0cmRzHmzkLVIDg5tOEDpt8vfk2nv0p0UqFqE9Dmt17D5KhVky9x1nDscildy7yTz3q9Eg7KUaFD2sd+TwjVLULF1NVw8XDi5+zi/fzsbj2SeZMzz2j3jDqzaQ8Y8r5EsbdIZREReJSpAi4j8B35Zs/D5gC8ZPmgYRw4doVzFcnz29eekSZeWE8dO8L++/di/Zx9RkVHExceRr0D+e/ZPlfrurA5XV1dSpkp1d9nNlcsXL9mWfZL54O7hblvOkCkDly5cfCDTmdAzzJ01h8kTJtnWxcTGcPHCRUqULplk3ifh4vkLTBo/kcWrlzx0rLuHO83fbUHB7PlZuWUNKVOlfOg+IiIiIvJs+KZPQaW21dkwczVXTl8iSyF/KrauhlcKb8LOXmHVT39y4dg5YqNjSYhPIK3/vb2OPZJ52r53dHa6d9nFkVvXImzLrp6uOLs625Z9UicjIuzmA5nCL1/nwKo97Fq81bYuPjaeiKs3yZw3S5J5n5S02e4W3rMVyUGecvk5svngAwXooNV7KNHw8QvcIiIvKxWgRUT+ozoN6lKnQV1uht/k0+69+KbfAEaMG0mfHr0JyJeXURNG4+nlyU9jf2TJ74v/9XluXL9B5K1IWxH63Jlz5Mid84Fx6TOkp3P3rnT5qOtj5b3f98NGMXr4qCTzHAw98sC6Pbv2cPniJSqXrAjA7ajb3L59myK5CrI1aAcWi+We8QkJCURFRXHh/AUVoEVERESeM3nK5SdPufxER95m6eiFrJ28nLe612fZ2IWkzpqOmj0a4uLuwvbfNnF4U+Lt2R7F7YjbxNyOsRWhwy/fIGXm1A+M80rpQ8lGZSnVqNxj5b3f5tlr2Tx3fZJ5us/u+4jJDUzubfNxJvgUEWE3E23NISLyqlIBWkTkPzh+9DgXzl+gSPEiuLi64OLqimkmAHArIgIvL088PD04duQY0yZNIXmKFP/pfMMGDuXjzz5hz87drFy2gg97ffTAmCbvNKV9i7aUKVeGwMIFiYqMYvPGzRQvWZyLFy4mmfd+nbt3oXP3Lo+Vr3zlCmzYs9m2vOjX3/lt7gImTJ+IxWJh/ep1+KZITu6A3ETeimTIgMH4JEuGfw7/x3sjREREROSpunrmChFXw8mQJzOOTo44OjtimtZia0xUDC7uLji7OXP1zGX2/LkdN2+P/3S+DTNWUa5FZc4dOcPx7Ycp07TCA2MKVCnMr9/MxK9AVtLlyEhsdCyh+0+SMcCPiLCbSea9X8lG5SiZRBH7nxzaGETWQv44uTgRsvcEwWv3Ur9vs3vGHFi1hxyl8uDi7vLYxxcReVmpAC0i8h/ExEQz6KsBHDtyDEdHRwoXK8LA4YMA6PPVZ/T+8BPGjRpLQL68vFWnJpvWb/rX50qVOhU+yXwolqcwbm5uDBj6TaKF2/wFCzBwxGA+/+QzQo6fxMXNlaLFi1K8ZPF/zPskuLi4kDrN3dkqXt7eODo52daF3wjni16fcf7ceVxdXclfsABT5kzF1dX1iWUQERERkf8uPjaOtVOWc/XMZRwsFjLkykTVTrUAqPBuVf4c/Ttb528kTda05CqTl1P7Tv7rc3n4euLq6cboVkNwdHGiSseapMiY6oFx6bJnoFqn2iz/YTHXzofh6OxIxtyvkTHA7x/zPik7F27mj1ELwASfNMmo2qk2mfNlsW2Pi4nl0MYg6vRq/ETPKyLyojOS+ougiMiLyt3D/fra7et9nlRf4+fB5g2b6NahK1uDdtg7ygtv/Pc/MPSbIaOiIiMT71EiIiIi8gy5+3hsrNGtXqlsRXLYO4pdnN5/koXD5tFpUg97R3llLBg4K+LwpuCOpmlOtXcWEXk1ONg7gIiIiIiIiIiIiIi8nFSAFhEREREREREREZGnQgVoEZEXQMkypdR+Q0REREReOpnzZVH7DRGRl5wK0CIiIiIiIiIiIiLyVKgALSIiIiIiIiIiIiJPhaO9A4iIPCsL5v7Kj2MmcPzoMTw8PcmTNw9dPupK0RLFbGPmzJhNj87dGf3TWN6qWxOAX+fM59PuvQCIj48nJjoGN3c32z4HQ49QukAJLl++jMVisa1v0KQh/xvc/xm9OvuZO3MOk8ZPJOT4STy9PKndoA4ff9YLR0frr5gPOnRh47qNRN2KJFWaVHTo8j5N3mma6LGio6MZ1O8bFi5YyO2o29SqX5svv+mHk5OTbczv835jxODhnDt7llSpUzN09DCKlSwOwMwpMxj73WguX7pM0eJF+XbUUNKkS/v03wQREREROwpeu4/tv23i6pkrOLs5kzpLWko1KkfGPK/ZxuxfuZsl3/1KrY8bkbtMXgCC1uxl6ZiFAJgJCcTFxuPkcve6q/vsvoxtO4zI6xEYDnfnr+WrGMgb7731jF6d/QSv28/GmauIuBaBo5MjWQtlp3KHN3FxdwXgxsVrLBu3iLOHQnF0ciRnqTxUalcdh799JrjneGv3sXbKcqLCI/ELzEb1rnVw83K/93yzVnPz8g08fD1584O6ZArwA+DghgNsmLGKiKvheKX0oWyLyuQokfupvwciIk+CCtAi8kqYMHo8Y78bTf+h31CuYnmcnJ1Yu3INy5YsvacAPXfWHJL5JmPurDm2AnTdhvWo27AeAJs3bKJbh66J9mOeOONnypR//Zm8nudJVFQUXwz4ksDCBQm7cpU2zVoz/vtxdOzWGYBO3TozeOQQXFxcOHbkGG/Xakje/HnJF5j/gWONHTGafXv2sXzjCuLjE2jTpBWjhnxH997WvoDrV69jYL8BfP/TGAILF+TShYu2fbds3My3Xw9i1m+z8cuWhX69v6BLu07MXjTv2bwRIiIiInawbcFGts7bQJX3a5KlkD8WRwsndx3l6NZD9xSgD6zajauXGwdW7bYVoAPKFyCgfAEATu8/ycJh8xLtx1y/bzP8ArM9mxf0HMmYOzPNBrXF3duDmKholo5ZyPppK6ncvgYAy8Ytwt3Hg86Te3L71m1++Xwyu5Zsp0jNEg8c6/LpSywd8zsNPmtOmmzp+HP07ywbt4jaPRsBcHL3MdZOXkatno1InyMDEdcibPvevBrOomHzqNenCVkLZefEjiMsGDSb9378EI9kns/mzRAR+Q9UgBaRl154eDjDBg5hyKhhVK/5pm195WpvULnaG7blM6Fn2LpxC2MmjaNzm45cvnSZVKlTPfE8wwcO5cihIzi7OLP8j2VkzJSRcZMn8MfCJfw0dgLOzs4MHjmEshXL2fL/r08/Vq9YjYODQcOmjene6yMsFgunTobwSbePOXggGMMwKFuxHP/7tj8+Pj4AlC5QgnfatmL+L3M5G3qWcpXKM3TMcFxdXZ/Y62nR+h3b92nTp6NOg7ps3rDJti5H7py27w3DAMPg1MlTiRagVyxdwftdO5LM1xeAVh1aM/DLAbYC9LCBQ+nasxuFiha2nc+2758reLP2W7bzde3xAcUCinDqZAivZfF7Yq9XRERE5HkRfes2G2as5s2udchZKo9tvX+xXPgXy2VbvnHpOqcPnKLOJ434bfAcbl2LwMP3yRcuN8xYxZXTl7E4WTi27RDeqZNRt9fbHN4UzI7fN2NxslC9Sx2yFPS35V/505+c2HkEwzDIV7kgZZpUxMHiwLXzYfz5/W9cCrmAgUGWQv680aEGrp7WOxHHth1GoRrFCFq1lxuXr5O1UHZqdKuLo7PTP0V8LN6pfO5ZNhwMrp0Psy1fv3iNQjWK4+jshKezE1kLZefK6UuJHit4zV6yFc1Jprx+ALzerBI/dhpFdGQ0Lu4ubJi5mlKNy5MhVyYAvFJ42/a9eeUGrh6uZCucA4BsRXPi5OrE9QthKkCLyAtBPaBF5KW3a9tOom9HU/Wtav84bt6sueQvmJ83a9XAP4c/C+b8+tQyrVy6gnqN6rPvRBAB+fPSokEzEhIS2Bq0gw96dqP3nZYfAB91/BBHR0fW7djAkjVLWb96LbOmzgTANE06devMtuCdrNyyhvNnzzNi4LB7zrX4t4VMmTONDXs2cTDoIHNnzkk00/Yt28jnlyfJr+1btj3Sa9u2eSs5cuW4Z12fHp+SM4M/FYuXI3Wa1FR4o2Ki+5qmiWma9yyfP3ee8PBw4uPj2b9nH2FXr1K2cGmKBxThs4/7cDsqKsl9AQ4fPPxIuUVEREReNGcPhRIXE0eOkv/ciuHAqj2k809PzlIBpMiUkqC1e59apmPbDxNQoQAfzOhNmqzpmP3FFEzTpOOkHpRqXJ6lo3+3jV08Yj4OFgfa/9CNViPeJ2T3cfYt32ndaJqUaPA6nX7uSdsxXQi/fIMNM1ffc67DG4Jo+GUL3pvwIZdCLrB/5Z5EM50JPsWIJgOS/DoTfCrJ13Mm+BTD3+7P8Mb9ObIpmCK1Stq2FalZkoPr9xMbHcPNq+Gc2HmUrIX8Ez3OldOXSZ3lbms433TJsThauHbuKgnxCVw4do6o8Fv80H4Eo98dwvJxi4iNjgUgrX8GUmRMydGth0iIT+DIloNYnBxJ5adWcyLyYtAMaBF56V27do3kKZLbehInZf4vc3mnTSsAajeoy7xZc2jXqf0jn6ddizY4Wu6e49N+fWjSslmiY4uWKEa5SuUBqFH7Lf5c9Acdu3XCYrFQs15ten34CTdu3CAmOoY1K1az/2QQrm5uuHu40+b9dsyYPJ1mrZrjlzULflmzAODi4kLbju0YMXj4Pedq1b61rQ9y5WqVCd4flGSm/SHBj/x6EzN7+i/s272XQd99e8/6/kMG8NWg/7Fr+042b9iMs4tzovuXr1yBiT/8RMnXSxEfH8/PP0wEICoyiqhbkcTGxrLk9yXMWTwfJycn2jZrzcihI/m47ydUeKMindu8T/N3m5Mlaxa++3YEhmEQdadALSIiIvKyiboZibu3e5I9h/8StHoPBd+0tp3LUzY/B1btoVid0o98nvkDZuJguTt/rXyrKgRWLZLo2Ix5MpO1UHYAcpUO4Mjmg5So/zoOFgdyv56PpaN/53ZEFPGx8ZzYeZQPZn6Kk4sTzq7OFKlVkr3LdhBYrSi+6VPgmz4FAI4+jhStU4qN9xWgC79VwjZT2L9oTi6dPJ9EptfoNvPTR3699+/74aw+3Lwazt6lO/BJncy2LVNeP/Yu28HwxgMwExLIWzGQ7En0ZY69HW3rHf0XF3cXYqKiuXU9goS4eA5vCqbZwDY4ODow/+sZbJ69lrItKuNgcSCgQiALh84lLiYOi6OFOp80wtk18WtqEZHnjQrQIvLS8/X1JexqGHFxcUkWobdv2U7oqVBq1qsFQO0Gdfj260EE7Q8iIF/AI51nwtSfHrkHdMrUKW3fu7q6kjx5ctsDDF3drBemkRG3uHjhIrGxsRTNXdg2PiEhgXQZ0gNw5fIVvuz1Odu2bOXWzVskmAm29ht/SZ06te17Nzc3Lv6tb/KTtHTxnwz66hum/zqT5CmSP7DdYrFQtEQxfp09n2kTp/BuhzYPjOnSvQvhN25QvVwVnJ1daPJOU4L2B5EyVUoibt4EoFW7d0mTNg0AbTu2Y9SdAnSZcmX4sNdHvNeyPTfDb9Lm/XZ4enqS7m9tOkREREReJm5e7kSGR5IQH59kEfpM8CmuX7xO7rL5AMhTLj/rpq3k4onzpMn6aNdJ9T5t8sg9oP/eEsLR2Qk3b3db8drJxXotHnM7hoiwm8THJzC61d2JC2aCiVdKa0H51vUIVkxYwpmgU8RExWCaJq6e9xZw/95GxMnFiYiwm4+U8d/wSuFNlkLZ+f3bObQa8T5mQgKzv5hCYLUiNB/cjtioGJaMXMCan5dR4d2qD+zv5OpCTOTte9bFREXj7OZie/BjoRrF8UzuBUDROqXY9Iu1AB2y5zhrJi+jSf93SZstHReOn2fe19Np+EWLR/5/KCJiTypAi8hLr1Cxwri4urB08Z/UqJ3407rnzZqDaZq8Wa7qfevnPnIB+mlIlyE9zi7O7D62L9Hi+aCvvsEwDJauX4Fvcl+WLv6Tzz/u+6/OtW3zVlo2apHk9smzp1KsZPFEt61ZsZpe3T5m0qzJ5Mrzz7eAxsXFcepk4rc5urq58b/B/fnf4P4AzPh5GnkL5MNiseCTLBnp0qez9pFOQsu2rWjZthUAJ46dYNTQ78j5tx7UIiIiIi+TDLky4ejsyJEth8hVOvFr1gOr9gAmP38w9t71q/fYtXjpndIHRycLXad9kmjxfO2UFRgYtB7ZCTdvd45sOcjyHxb/q3OFBoUwp9+0JLc3/KI5mQL8HnocMyGBaxesPaCjIqK4eeUGhWsUx9HJEUcnR/JVLsj6aSsTLUCnzJyKSyF3J4JcvxBGXGw8vulT4OLugldK7ySvcy+ePE+mAD/SZc8AQLrsGUifIyMhe4+rAC0iLwQVoEXkpeft7U33Xj34/OO+ODo6UrZCORydHNmwZj2bN2yie+8eLF6wiG+GD6JilUq2/f5YuISR347g0359Htq+42lJkzYNZSuU4+u+X/HRpz3x8PQg9NRpzp87T4nSJbkVcQsvby+8fby5cO48P4wa96/PVaxkcQ6GHnns/Tau28gHHbowfuqPBBYueM+2K5evsGndRipVrYyrmysb1qzn9/m/MXL894ke68K58xiGQeq0adi9Yxcjh3zH4JFDbNsbNm3EzxMmUa5SeZycHJk47icqVakMwO3btzl1IoQcuXNy7uw5en/4Ma07tMEnWbJEzyUiIiLyonPxcKVM0wosH7cIB4sDWQpmw8FiIWTvcU7vO8nrzSpyaGMQVTvWIlvRu8/oOLIpmI2z1lChVZWHtu94WjyTe+EX6M+qiUt5vVlFnF2duX7xOjev3iBz3izEREXj4uGKi4crN6+Gs23+hn99rkwBfnSf/fiTNILW7CVTwGt4pfQh/PIN1k1dgV/+rAC4e3vgk8aX3X9so1jd0sRExXBg1Z57+jz/XZ7yBZjWcwKhQSGkyZae9dNXkaNkblzcXQDIV6kgOxdtIUshfyyOFnb8vplsRa0TKdJlz8DWuRtss9YvHj9PaPApW1sVEZHnnQrQIvJKaNepPSlTp2TU0JF80KELnp6e5C2Qj87du7Js8VJc3Fyp/3YDnJzuPjW7cfO3GT5wKGtXrqFS1coPPUfrpq1sbTQAXi//OuOn/vSfsw8bO4JB/b6hcskK3Iq4RSa/zLzftSMA3T7+kA87diOvX278svhRt1F9fho74T+f83GMHDKCm+E3adX4Hdu6oiWKMWXONAzDYNqkKfT5qDcJCQlkyJSBL/p/SZU3rbNCzp45S+WSFVixeTUZMmbgVMgpur/fjStXrpA+Q3o++aI3ZSuWsx23a89uhIVdo0LRsri4ulCjzlt0/qgLANHR0XRt35lTIafw9PSkYdNGfPRpz2f6XoiIiIg8a8XqlMYjmSebZ69l0dC5OLu5kMY/HSUbluPIlkM4OjuSt2IgFse716n53yjEhhmrObHrGP5FH3632Lyvp2M43O0B7ReYjXqfNvnP2d/6sB5rJi/nx07fExMVTbI0vhSvb21pV7pJBRYPn8eIJgPwTZecgPIF2P775v98zsdxNfQyayYvJzoiChdPN7IVzk65d96wba/b+21W/vgHW+ZtwMHBgcz5slCxzd0Hnw9r9LVtdnWqzKmp2rEmC4fO4/bNSF4rkI03P6hjG1uqcXmiwiOZ8P5IHJ0cyVUmgFKNygKQOW8WSjepwIKBvxB5IwI3bw9KNihLloKJP/BQROR5Y5imae8MIiJPlLuH+/W129f7/PXgPZG/G//9Dwz9ZsioqMjIrvbOIiIiIuLu47GxRrd6pbIVyfHwwSJPwIKBsyIObwruaJrmVHtnEZFXg8PDh4iIiIiIiIiIiIiIPD4VoEVERERERERERETkqVABWkRERERERERERESeChWgRUREREREREREROSpUAFaROQlFno6lNeSZyQuLs7eUUREREREnoobF68xqNbnJMTH2zuKiIgkwtHeAUREnlcL5v7Kj2MmcPzoMTw8PcmTNw9dPupK0RLFbGPmzJhNj87dGf3TWN6qWxOAX+fM59PuvQCIj48nJjoGN3c32z4HQ49QukAJLl++jMVisa1v0KQh/xvc/5HzhZ4OpUxgSY5fCsHR8dn/OJ847kd+GvcTV69cIX2GDPw4fSJZ/bM+MM40TQb2G8CsqTMBaNz8bXp/2QfDMADYuG4j/T//H6dOhOCbIjkdP+hI01bNbftfvXKVL3t/zprlq8EwqPBGBUaO//7ZvEgRERGRl1zw2n1s/20TV89cwdnNmdRZ0lKqUTky5nnNNmb/yt0s+e5Xan3ciNxl8gIQtGYvS8csBMBMSCAuNh4nFyfbPt1n92Vs22FEXo/AcLg79y1fxUDeeO+tR8534+I1xrUbTs9fv8Dhb9fOT1v45ev82Onea87Y2zFUeLcqxeqWfmC8aZqsnbycvct3ApC/ciHKt6qCYRiEBoUwp9+0B45Vp1djcpYKeHovQkTkOaECtIhIIiaMHs/Y70bTf+g3lKtYHidnJ9auXMOyJUvvKUDPnTWHZL7JmDtrjq0AXbdhPeo2rAfA5g2b6NahK1uDdjxwjokzfqZM+defyet50mZOmcEv02YxadZksufMzumQU/gk80l07IzJ01m2ZCl/rluGYRg0q9eUzH6v0fzdFsTGxtKhRVt69+tD05bN2Ld7L2/XbkRgkULkyZsHgA7vtCN/wQJs3LcFNzc3Dh88/CxfqoiIiMhLa9uCjWydt4Eq79ckSyF/LI4WTu46ytGth+4pQB9YtRtXLzcOrNptK0AHlC9AQPkCAJzef5KFw+bRaVKPB85Rv28z/AKzPZsX9AR5p0pG99l9bcvXL1xj/HsjyFkqT6Lj9y7dwdGtB3n3u44YhsEvn08mWdrkFKxelEwBfvcc6/T+k8z7ejpZCmV/6q9DROR5oAK0iMh9wsPDGTZwCENGDaN6zTdt6ytXe4PK1d6wLZ8JPcPWjVsYM2kcndt05PKly6RKneqJ59mzczd9e/bh5LETuLq5UrtBXT7v/wWNatQHIF8W60XwtHkzCSwcyDdfDmDuzNl4ennRrlP7J54nISGB7wYPZ8jo4eTIlQOA17L4JTl+7sw5tOvYnnQZ0gPQrlN7Zk2ZQfN3W3D92nVu3rxJzIk+GQAAIABJREFUvUb1MQyDAoUC8c+RnaOHj5Anbx7WrVrL+bPn+GXhHNts8bz58z7x1yQiIiLyqom+dZsNM1bzZtc69xRV/Yvlwr9YLtvyjUvXOX3gFHU+acRvg+dw61oEHr6eTzzPuSNnWD5uEWFnr+Lo7Eie8vmp1KY603tPBGBEk28AaPzVO6TLnpE1k5dxYOUenN1dKFan1BPPc78Dq/eQKeA1fNL4Jrp9/6o9FK1dGu+U1kkZRWuXYu+ynRSsXjTRsTlKBeDs6vxUM4uIPC9UgBYRuc+ubTuJvh1N1beq/eO4ebPmkr9gft6sVQP/HP4smPPrUyn4ftn7C1p3aE29xg24FXGLwwcPATB78TzKBJZk/8lgWwuOaZOmsmrZCpasWYq7hxsdWv5znnffbsmOLdsT3VakRFEmzZr8wPrz585z/tx5jhw8RI9OH2JxdKR+4/p0+6Q7Dg4PPlrg6KEj5M5790NNnrx5OHL4CACpUqeiVv3azJ7xC83fbcGenXs4G3qGosWts8x379hFVv9sdO/YjTUrVpPZ7zX6fNWXEqVLPsI7JyIiIiJJOXsolLiYOHKUzP2P4w6s2kM6//TkLBVAikyrCVq7l2J1HmxB8V+tnLCEwjVLkLdCIDFR0Vw+dQmAZt+0Zly74XSb2dvWgmP3H9s5vv0IrUa8j5OrEwsGzvrHY8/9ahpnDp5OdFvG3Jlp8HnzRLf9XdDqPZRqXD7J7VdOXyJ1ljS25dRZ0nI19NID42KjYziyKYj6fZs99JwiIi8LFaBFRO5z7do1kqdI/tC+yvN/mcs7bVoBULtBXebNmvNYBeh2LdrgaLl7jk/79aFJywcvRJ2cnAg5EULY1TCSp0hOoaKFkzzmogULaf1eW9JntM427tStM1s2bE5yfGIF5oc5f/Y8AOtWr2PpxhWE3winRf2mpEufLtH8t27dwsvb27bs5e3FrYhbmKaJYRjUrl+HTz7oSb/eXwDQf8gAW/7z586zbvVaBn33LUO+H8Yfvy+hXbM2rN25geQpkj92dhERERGxiroZibu3+0P7Kget3kPBN62TA/KUzc+BVXseqwA9f8BMHCx3JymUb1WFwKpFHhjnYLFw7XwYkeG3cPf2IEOuTEke89CGAxSpVRLvVNbZxiUalOX0/pAkxz9KgfmfhAaFcOv6rSTbb4C1p7OLh6tt2cXDlZioGNs1718ObwrGzcudTHn9/lMmEZEXyYNT1UREXnG+vr6EXQ0jLi4uyTHbt2wn9FQoNevVAqB2gzocCj5E0P6gRz7PhKk/sT8k2PaVWPEWYPDIbzl5/CQVi5ejZqUarFy6IsljXrpw0dbqAiBDpoyPnOdRubpZL6zf6/o+Pj4+ZMqciaYtm7N6xapEx3t4eBBx86ZtOeJmBB6eHhiGwbEjx+jU5n2GjRnBsYsnWb5pFeNGjWXlspXWc7m6kjFzJt5u0QQnJydq1a9Nugzp2LE18VnbIiIiIvJo3LzciQyPJCE+PskxZ4JPcf3idXKXzQdAnnL5uXzqEhdPnH/k89T7tAndZn5q+0qs+AxQvWsdrp29yo/vj2Jy93Ec2570cz8iwm7infLuBAfvVMkeOc+/cWDVHnKWzIOzm0uSY5xcnYmOjLYtx0RG4+zmfE/x+a9jBVQMfGC9iMjLTDOgRUTuU6hYYVxcXVi6+E9q1E78Cd3zZs3BNE3eLFf1vvVzCcj3ZJ9knSVbVkb9OJqEhAT+WLiE91t1YM+x/YletKZKk5rzZ8/Zls+dOfuPx36nYXO2b9mW6LaiJYoxZc60B9Zn88+Gs/ODF9NJyZ4rBwcPBBNYuCAAwQeCyZHT2jv68MFDZPXPRrlK5a3Hzp6Nim9UYs2KVVSqUolcAblZ8Q8FdxERERH5dzLkyoSjsyNHthwiV+nEr18PrNoDmPz8wdh716/eQ5qs6Z5onuTpU1CrZ0PMhAQObz7IgoG/0HV6L0jkmtMzuSfhV8Jty+GXr//jsWd/OYUzwUm04MiTmUZfvpPkvrHRsRzaGES93k3+8RwpM6fm0skLpM9hnQBy6eQFUmRKfc+Y8Ms3OL0/hKoda/3jsUREXjYqQIuI3Mfb25vuvXrw+cd9cXR0pGyFcjg6ObJhzXo2b9hE9949WLxgEd8MH0TFKpVs+/2xcAkjvx3Bp/36PLR9x+OYP3se5SqWJ0XKFPj4WG8zdLA4kCJFChwcHDgdcpqs/lkBeKtOTSb9MJFKVSrh7uHOmO9G/+OxEyswP4ybuxtv1a3JuJFjCciXl5vh4cyaOoP2nd9LdHz9txswYcwEKrxREcMwmDB6PK3avwtYHygYcuIkG9dtpNTrpTgdcoqVy1bwfteOAFR7qxr9P/+auTPnULdRPf5c9AcXzl+gSPEHH+YiIiIiIo/OxcOVMk0rsHzcIhwsDmQpmA0Hi4WQvcc5ve8krzeryKGNQVTtWItsRXPY9juyKZiNs9ZQoVWVh7bveBxBq/eSpZA/7j4euN5pZeHgYODu447hYHD9wjWSZ0gJQK7Sedm5aAvZiubA2dWZrfPW/+Ox/6nA/DBHtxzE1cOVzPmz/OO4vBUC2f7bJrIVsb5X2xZspPBbJe4ZE7R6DxlyZcI3nVrJicirRQVoEZFEtOvUnpSpUzJq6Eg+6NAFT09P8hbIR+fuXVm2eCkubq7Uf7sBTk5Otn0aN3+b4QOHsnblGipVrfzQc7Ru2grL3y7aXy//OuOn/vTAuLUr1/B136+IiooiQ8aMjPpxNK6u1ovyzt27UL96HeJi45g8ZypN3mnKyWMnqFa2Cp5eXrTv3IFN6zY+gXfkXl8N+preH35CsYDCeHt70+SdpjRu/jYA2zZvpWWjFhwMtT5osFmr5pwOOUWVMtb35O0WTWjWytqH77Usfnw7cihf9vqcs2fO4OXlRZ2GdWncwjrDJJmvLz/NmEjfHp/y2cd9yJbdnx+nT1T/ZxEREZEnoFid0ngk82Tz7LUsGjoXZzcX0vino2TDchzZcghHZ0fyVgzE4nj3mjX/G4XYMGM1J3Ydw79ozoeeY97X0zH+9qBqv8Bs1Pv0wdnEJ3YdZdXEP4mNjsU7lQ+1ejbE0dl6rV2yYVmmffIjCfEJNPyiBQWqFibs3FUmfTAGFzcXitUtzal9J5/AO/Kg/at2E1DhwZYZoUEhzOk3je6z+wIQWK0I1y+EMbGLdQJI/jcKEVjt3nYjB1bvpVjdJ/8ARxGR551hmqa9M4iIPFHuHu7X125f75MmXVp7R5Hn0Pjvf2DoN0NGRUVGdrV3FhERERF3H4+NNbrVK/XXzFmRp23BwFkRhzcFdzRNc6q9s4jIq0EPIRQRERERERERERGRp0IFaBERERERERERERF5KlSAFhEREREREREREZGnQgVoEREREREREREREXkqVIAWERERERERERERkadCBWgREREREREREREReSpUgBYRERERERERERGRp0IFaBERERERERERERF5KlSAFhEREREREREREZGnQgVoEREREREREREREXkqVIAWERERERERERERkadCBWgREREREREREREReSpUgBYRERERERERERGRp0IFaBERERERERERERF5KlSAFpGXkcXeAeQ5Z5ou9o4gIiIiIiIi8ipQAVpEXhqGYWQ3DGMGJh72ziLPt/j4+HcMw+hlGIb+rYiIiIiIiIg8RSpAi8gLzzCMzIZh/AhsBoINw7gRFx9v71jynIqPjwODX4BCwFHDMLoYhqEZ0SIiImIfJgkJ8Qn2TiGvkIT4BBPQByYReWZUgBaRF5ZhGGkNwxgJ7AYuAtlN0/zaydnpzPEjx+ycTp5XwQeCI2NjYneYptkIqAFUBY4YhtHWMAxHO8cTERGRV0x8XNzhq2cuqwItz8zlU5dM4LS9c4jIq0MFaBF54RiGkdwwjIFAENa/3Oc2TbOPaZrXACJuRvw8cuh3UdHR0XbNKc+fI4eOsGzxUgdgAYBpmrtN03wLaAI0BQ4ahtHEMAz9fhQREZFnIiYqZsaO37dE3boeYe8o8go4tv0wEWHh8VjvHhUReSYM0zTtnUFE5JEYhuENdAO6AvOAr03TDE1knJOnp+cCFzfXctVqVHNMmSqli2EYzzquPEfi4+PNQ8GHItetWmuJi4trHxcXNzWxcYZhVAL6A+7AZ8Dvpn5RioiIyFNkGIZhcXKc7GBxaJataA7DN10Kw8FB167yZMXFxZuhB0K4ePx8XHxsXB3TNJfYO5OIvDpUgBaR555hGG5AJ6AnsAz40jTN4w/ZxwDyA5UA76ceUp53CcAZYJFpmpf+aeCdfztvAV8D0UBfYLkK0SIiIvKkGYZRGOs1R25gNBAFpABUgZYnLQ5r28JArHf/jQcGm6YZZtdUIvJKUAFaRJ5bhmE4A22BPsAW4HPTNIPsm0peFXfacDQEvgIuAH1M09xg31QiIiLyMjAMIw/wP6AE1ruvfjRNM8a+qeRVYRhGJqx3+9UDRgIjTNMMt28qEXmZqceliDx3DMNwNAyjFXAYqAnUMk2zvorP8iyZpplgmuYvQADwMzDNMIwlhmEUsm8yEREReVEZhpHNMIwpwBqsPXizm6Y5RsVneZZM0ww1TbM91j+A5ACOGobR486dpyIiT5wK0CJiF4ZVmfvWORiG0Qg4ALwLvGOaZnXTNHfaJaQIYJpmnGmak4CcwGJgoWEYc+/MXLIxDMPXMIwAu4QUERGR54ZhGJkNw3jtvnUZDcP4AdgKHAf8TdMcYppmpF1CigCmaR4zTbM5UBEoCRwzDKPjnTtRbQzDKG4YhpNdQorIS0EFaBGxl3ex3u71VzH6LWAX1j7PXYHypmmut2M+kXuYphltmuZoIDvWD49rDMOYYhhGtjtDMgArDcPIYLeQIiIiYleGYXhgfWZJgTvLqQ3DGA7sBa4DOU3T7Kd2B/I8MU0zyDTN+kBtoBZw2DCMVoZhON4Z8iHWtnQiIv+KekCLyDNnGEYuYD1QHkiDte+dJ9Y+ZL/pYW/yIjAMwxvrxXgXYC7WBwi1BCoDlU3TjLdjPBEREbEDwzB+BJyAbkAP4D1gBjDANM3z9swm8qgMw3gd62e01MDnWFvG7AZamqa5wo7RROQFpRnQIvJMGYbhCswCfsI6A/oHYBQQaJrmAhWf5UVhmma4aZr9sLbmuIF1ZlNKrB86e9kzm4iIiDx7hmE0xjrB4iRwBEgLFDJNs4uKz/IiuXMnajngA6x3qC4FxgCTDcNIZc9sIvJi0gxoEXmmDMOYDrwBxADDgHlAjC7K5UV1p0deGiA51tnQDQBnoLZpmsvtmU1ERESeDcMwcmJtJxeNdbboUOA0EGaa5i07RhP51+4Um52x3uH3CeALhAClNHFIRB6HCtAi8swYhpEcuATEApFA3J2vKOB1FaHlRWQYRmvgS8Dxzpcz4A4cN00ztx2jiYiIyDNiGMYSrJMsorAWof+6zv3ZNM3P7JlN5N8wDMMBa9uNFNy9znUDXIGqasUhIo9DBegkGIbhgvWve2pTIiL/JB7rzJZYewd5kRmG4QN42DuHiDz34oCr6rH+7915oFRyrIUEEZF/Eov1Olc/c5+SO+0JfQHD3llE5KmLAq6/qncPqAB9H8MwMnt6e024HXW7vIuLc7zh4KA3SESSlBAfb8TGxhouLi5/RNyMaGea5lV7Z3qRODo6NvL09BwQFRWV2c3NLdYwdO0tIkmLi4tziIuLi3d2dp4VHh7exTTNKHtnelEYhuHp6uE2Ni42rp7FYnGwWBwS7J1JRJ5v8fHxDgkJZozF4jDlduTt7ppw8eQYhpHDyd15fFx0XEmLsyXewFDdQeQlZmIaCbEJFgdHh4sJcfFfx8fGj7d3pmdNBei/MQzDw9XN7ViL91qmatK6qcXLx9vekUTkBRB2JYwfR/wQs3jewhORtyIDTNPUh/pHYBhGDV9f3zmzZ892q1ChAhaLxd6RROQFcOrUKbp163Z79erV669fv17F3nleFO6e7hvylQos3KhLU9fkqVPYO46IvCAunbnIlEE/RZ48eGJR5M1bje2d52VgGEYKi7PlSO46BZP5lc3p4OTmZO9IIvIMmAkmYScus23s6sjom7c7J8QlTLJ3pmdJBei/MQyjcWCxQhMmzJ3oZe8sIvJiMU2Tuq+/dfPs6bM17jw1Wh4iefLkG8aMGVP67bfftncUEXnBxMbG4uvre/vWrVu5TNM8Ze88zzvDMHK6e3nsGvnnD+4OFnWXE5HHczvyNl2rdYiOi4nNoLv9/jvDMDqkK5h5aInOFdV+TuQVdPngebaOXn00JjI6h72zPEu6Av0bF1fXMmUrl1XxWUQem2EYlKlY1hUoYe8sL4rIyMiClSpVsncMEXkBOTk5Ubp06RigmL2zvCCK5yqcJ0HFZxH5N1zdXcmYLdNtoJC9s7wMnNycK6TJl1HFZ5FXVMqcaYi9HZPNMAxne2d5lnQV+jeOjhZPV3c3e8cQO/uy+2eM/fZ7e8eQF5C7p4cj1qdCyyOIj4938vDQtferrFWrVvTt29feMeQF5eXl5YB+5j4qV1d3V133v+J++moc88fNtncMeUG5uLmAfuY+EYaD4eHooufAvux2/rSe4Pm77B1DnkOGgwMOFod4wMXeWZ4l/dQTeY6N+HoY65at5urlq6RKm5p3O7WhRoOatu1FMwfi6ubKXw9uq1KrGn0Hf2GvuK88PT9P5MU1e/ZsRowYwZ49eyhWrBhr1qy5Z/uqVavo0aMHx44dI2XKlPTq1Yv27dvbJ6wAoIeWiry4fhk5nd3rdnAj7Aa+qXyp0bI2pd8sa9t+cEcQv4yczqUzF/FM5smb79SifB3dNWVP+pkr8uLa/8t2zu85TfSNKFx93clZIz+ZS/nbtp/fE0rQvJ1EXo3AJ6MvBVuVxjt9MjsmlpeRCtAizzE3N1eGTRxJ5qyvEbw3iK4tOpLRLxMFigTaxsxYOptMfpntmFJE5MWXPHlyunXrxqFDh1i1atU922JjY6lbty6DBw+mffv27NixgwoVKlC8eHEKFChgp8QiIi8uFzcXPhjSgzSZ03Ey+ATDPxxImoxp8c+fg7i4OL7/ZBgNOzelXJ2KhBw8weBOX5M1wJ/M2V+zd3QRkReOo4sjJbtWwjOND9dCrrBp+HI8UnuTwj81ERfD2TFhHSW7VSZ51lQc/fMAW0atpPLXdVHrLnmS9K9JniuTx0zizaJvUC53KeqXr822DVsBCNqzn9Z13qFC3jJUK1yZwZ99Q2xMrG2/opkDmTPlF+qVrUm53KUYO2Q0Z0JCaV3nHcrnKU3v93vaxu/cvJ0axaow6fsfqVygPLVKVeePXxcnmWn9inU0rdaICnnL0LruOxw9eOSheZ+UDh91xM8/Cw4ODuQtmI/AYoXYv2vfEz2HiLyaBg0aRIYMGfDy8iJnzpysXLkSgG3btlGyZEmSJUtGunTp6Ny5MzExMbb9DMNgzJgxZM+eHS8vLz777DOOHz9OyZIl8fb2plGjRrbxa9asIWPGjAwYMICUKVPi5+fH9OnTk8y0aNEiAgMDSZYsGaVKlWLfvrs/75LK+6RUrlyZRo0akT59+ge2hYWFER4eTosWLTAMg6JFi5I7d26Cg4OfaAYReXktmfI73Wt24v2Krend6COCtx8A4ETQMfq3/ZxOldvyYY2OTBsyibjYONt+rUs0ZdXc5fRq8CHvV2zN/B9mc+nMRfq3/ZyOFdswps93tvGHdgbzUc3OLPp5AV2rtqdnna5s/nNDkpn2bNjFFy1606lyW/q3+4LQo6cfmvdJqdOuAen8MuDg4EC2vP7kKJCLY/uPAnDrxi2ibkVRsnoZDMMgS55spPPLwLmTZ59oBhF5eR1Zsp8/PprNwo7TWP7pfC4FnwMg7MRl1vRfzKLO01nS/Rf2Tt9CQly8bb9f2/zMiVWHWNZ7Hgs7TiP4111EXApnTf/FLOw0nW1j19jGXz50nj96zObw4n0s/mAmSz+eQ+iW40lmOr83lFVf/saiztNZO2AxN0LDHpr3ScldpyBe6ZJhOBgkz5qKFNnTEHb8EgAXD5wlRfY0pMyeBgeLAzmq5yPqWiRXDl94ohlENANanhshx0OYPXkWkxdOJ1Xa1JwLPUtCfAIADg4WPvy8B7nz5+HS+Yt80LIzc6b8QtO2zW37b16ziSmLZ3Lx3AVa1GjCvh17+eq7ASTz9aF1nZYs/e0P3mpYC4Crl69yPew6S7YtY//ufXRr2Znc+QPwy+Z3T6ZD+w/yv55fMGziSHLnz8Mf8xfzUZsPmLv6N86dOZdk3vv9PHoik8dOTPK1rz6Q9IeDv9y+fZvgvUE0eKfRPevbN2hDgplA/sIF+PCzj0ifKcNDjyUir7bDhw/z/fffs337dtKnT09ISAjx8daLaYvFwvDhwylSpAhnzpyhevXqjBkzhm7dutn2//PPP9m5cyehoaEUKlSITZs2MX36dFKkSEHJkiWZOXMmLVu2BODChQtcuXKFs2fPsmXLFt58802KFClCzpw578m0a9cuWrduzcKFCylSpAjTpk2jVq1aHD58mJCQkCTz3m/gwIEMHDgwydd+/fr1x36/0qRJQ5MmTZg0aRLvvfce27Zt49SpU5QpU+axjyUir57zp86xcu4yPpv4Nb6pfLly7jIJCXeucS0OvN2tBX65snLtUhjDPxzEqnnLqfJ2ddv+B7bs5YvJ/Qm7GEa/lp9yfP9R2vXrhKePF/3bfsHWZZsoXcPavuJG2HUirt9k6MLRnDhwjOHdB+OXOyvpXrv3j2unDp1kUv/xdP22B1lyZ2XznxsY2XMIA2YP5cr5y0nmvd/iKb+zZMrvSb720St+fOj7E3M7hpMHT1Ch/hsA+KTwoXiVUmxYtJYKdStzIvgYVy9cIUeBnA85kogI3LxwgxOrDlK+71u4+bpz68pNzAQTAMPBIP/bRUnml5Koa7fYNGIFJ1Yfwv+NANv+Fw+cpcLnNYkKu8XqrxYSduwyRduXxdnDhbUDFhO69SSvlba2r4i+EUX0zdtUG9KIaycus2nECpL5pcQrrc89ma6fusquSRsp2bUSvn4pOL35hHWWcf96RF6NSDLv/Q4v2fd/9u47LIqrC+Dwbyu9ShVRVAQrghVU1NgQsSb23o0l1sQae2JUokZjix1r7BoUa+yKHbuIqBRBUBAQpO/u9wfJKgEUjCVfct/n4Qkzc+feM2uYnT175wz3A24WeOwtF3d76+ujyswmISyOMp+9fk7V5P5do+FFVCJWFfNOzBCEdyUS0MI/hkwmJSszk4f3H2JWzCxXIrWCS0Xt78Xt7WjX9QuCLlzJlYDuNbg3hkaGGDo7UtbJEff6HpQoVQIAj8/qcu92sDYBDfDl10NR6iip7l6Deo08ObrvMP1H5K7nuWfLLtp1a09ltyoAtOzQmrVLVnMz6AZWNlYFxvtXvYf2pffQvn/r9Zk94TvKVXTCo0Ed7bpftq+mipsL6WlpLPtxCaP6DGfTwa3I5eJPWxCEgslkMjIyMrhz5w6WlpY4ODhot1WvXl37u4ODA4MGDeLkyZO5EtDjxo3D2NiYSpUqUblyZZo1a0aZMmUA8Pb2JigoSJuABpg5cyY6Ojo0aNAAHx8ftm3bxuTJk3PFtHLlSgYNGkTt2rUB6NWrF7NmzeL8+fPY2dkVGO9fjR8/nvHjx/+dlydfXbp0oX///owYMQKAZcuWYW9v/97HEQTh30cqlZKdlU30o8cYmRlhUdxSu82hfBnt7xbFLWnQrjH3gu7mSkB792iFnoE+dmX0sStTgkq1qmBlZw1AFY+qhIeEaRPQAO0GdUChVOBcrQIudV259Pt5Wvf9PFdMJ/ceo0HbRpStnJNEqetTn31+e3l4KxRTS7MC4/0rn56t8enZusDthbF+7mrsy5WksruLdl3tph6sm7WSLQvWA9Djm76YWxf7W+MIgvDfIJFIUGWrSX6SiI6RLgYWRtptZg4W2t8NLIwo3cCJuHuxuRLQTt6VUegpUdgpMbYzw6pScQwsc/qwrlKCpIh4qPuqfnLFdm7IFDIsnG2wcSlB1KUwyrfKXaIt7FQIpRs4YV4m53xaqq4jIftvkPDwGbqm+gXG+1fOLVxwbuFS4PbCCNoQiIm9GVaVc/IXVhVtub3jCs+Cn1DM0YqQA7dQq9SoMrPf0pMgFI3IUgn/GPYOJRk99RtWLljOhJAHuDeow6jJY7C0sSL8YTg/zfiROzfvkJGWTna2igpVKuTa39zy1UWpjq4O5pbm2mVdXR3in8Vrl41MjNHT19Mu25SwJS72WZ6YnkRFs2+HP9vWbdGuy8rMJi72GdXdaxQY7/u28Pv5PLj3gGVbV+Z6AEi12jmJIoVSwZhpY2lYsS5hoY9wLF/uvccgCMK/h6OjIz/99BPTpk3j9u3beHl5MX/+fIoXL05ISAijR4/m8uXLpKamkp2dnSspDTkzgv+kp6eXZzkm5tUte2ZmZhgYGGiXS5UqRXR03tsKw8PD8fPz4+eff9auy8zMJDo6mgYNGhQY78cQHBxMp06d2L17N02bNuX+/fu0bNmS4sWL4+Pj81FiEATh/5e1vQ1dRvZg76qdRD96TOXaLnQa0QMzSzNiIp7w68KNhN19SGZ6JmqVilLlS+fa39j81Uw6hY4y17JSR0lS/Ks7O/SNDNDR09UuW9hYkPgsIU9M8TFxnAs4ze/bD2vXqbKySYhLwLlahQLjfd+2/byJqAeRjF36rfYa90lYFMu//Zlhc0ZRsVYVYiNjWDjGF1NLM6rWdXvvMQiC8O9iaG2MS+da3N17jeToRKwqFadKp1romemTHJPEza2XSAyLQ5WpQqNWY1oq95dbOsav8gRShQwd41fnVJlCRvqLV6XpFPpK5DoK7bJeMQPSE1PzxJQan0LEuVAe/n5Xu06tUpOWmIqFs02B8b5vN7ddIjkqkXrfeGnPuUa2plTvV4/rmy6QnpRGSfcyGNmz3eaJAAAgAElEQVSaomdm8JbeBKFoRAJa+Edp3rYFzdu2ICU5hR8mfMfPPyxkxsLvmT3xe5wrl+e7xbMxMDRg86qNHAs4+s7jJCe9IC01TZuEjomKoayzY5521rY29P2qH32/GlCkeP9q7eJVrF28usB4TgUHFrjtl3lLOXf8LL9sX42hkeEbj0sikaDR5H+7jiAIwuu6du1K165defHiBYMGDWLcuHFs2LCBwYMH4+bmxpYtWzAyMuKnn35ix44d7zxOQkICL1++1CahIyIiqFy5cp529vb2TJo0iUmTJhUp3r+aNWsWs2bNKjCelJSUIh/DrVu3cHZ2xsvLCwBnZ2d8fHw4cOCASEALglAo7l51cfeqS9rLVPxmr2bHki0MmDaEDXPXUNLJgUEzhqFnoMfhXw9w+di7P1MkNfklGWnp2iR0fEw8dmVL5Glnbl0Mn95tadWnbZHi/at96/aw329vgfEsO762wG17Vu7gZuB1xi2bjJ7Bq0RL1MPH2JSypbJ7zgxC21LFcanrxs3AayIBLQhCodi7l8HevQxZaZlcWx/I7R2XqTGgPtc3nMekpDk1BzZAoacg9Mhtoi6Hv/M4WamZZGdkaZPQac9fYmyX98s6PXMDnH1ccG6Z/8OrC4r3r+7tv8G9/QU/E6r10u4Fbru7J4jYm1F4jmuOQk+Za5tdDQfsajgAkJmaQfiZ+5iVFnedCO+XSEAL/xhhD8J4FvOUqjVc0dHRQUdXR1tvLvXlSwwMDdA30Ccs9BE7N27HzPzvzcL4Zf4yho79iltBNznz+ykGjR6cp03bLp/zzcDR1KrnTiXXyqSnpXMl8BJutavzLPZZgfH+VZ9h/ekzrH+RY1y7eDWH9h5gxfY1mJqZ5tr24F4o2dnZOJYvR0Z6Bst8F2NpY0Vpx9IF9CYIgpDj3r17REVFUbduXXR1ddHT09Oev5KTkzE2NsbQ0JDg4GCWLVuGpWXBt18XxtSpU5k1axYXLlxg3759TJ8+PU+bAQMG0K5dO5o0aUKtWrVITU3lxIkT1K9fn+jo6ALj/auJEycyceLEIseoUqnIysoiOzsbtVpNeno6MpkMhUKBm5sb9+/f59ixY3z22Wc8fPiQffv2MW7cuCKPIwjCf8+T8GgSnyXg6OKEQqlEqaPU1vdMT01Dz0APXX1dnoRFcXzXUYxMC779ujD2rNzJF4M78fB2KNfPBtF2wBd52tRv04jF4+ZTsWZlylQqS2Z6BsFX7+LkWp7EuIQC4/2rlr3b0rJ3/knsN9nvt5fzh84yfvkUDE1yH29JJwdiI2O4e/k25atX5FnUU26cDcK7e6sijyMIwn9PckwS6QmpmDtaIVPIkCpk8MckreyMLBR6CuS6cpKfJPLo+D2URrpv6fHN7u65RqUvqvH8YRwx1x9ToY1rnjYO9Z24sPgYlhWLY1baAlVmNnHBMRRzsiE9KbXAeP/K2ccFZ5+il+C4t/8GkRceUn+cNzqGeY83ISwO05LmZL7M5Pqm89i42mNka5pPT4Lw7kQCWvjHyMrMZPHshYSFPkIul+NSvSoTZ+fUCB3x7WhmjZ/JhuXrcK5UnqatvLh89uI7j1XMshjGJkZ412yKrp4uE2Z9i0M+iduKVSsxac4U5k7+gciwCHR0dHGt6Ypb7epvjPd9WTr3ZxRKBZ83eFVbr8+wfvQZ1p/ncc+ZPel7nj6JRU9fD5fqVVmwdhFyheINPQqCIEBGRgbjx4/n7t27KBQK6tSpw4oVKwD48ccfGThwIHPnzsXNzY1OnTpx7Nixdx7LxsYGMzMzihcvjr6+PsuXL6d8+fJ52tWoUYOVK1cybNgw7t+/j56eHvXq1aN+/fpvjPd92bBhA3369NEu6+np0atXL9atW0fZsmVZs2YNw4cPJzw8HBMTE7p160a/fv3eawyCIPw7ZWdms2PpFqLDopHLZZSt4kSv8TkTEzp+1Q2/2as4sNGfkk4O1Grizt3Lt995LBNzU/SNDBjdcghKXR16juuLrUPe55SUrlCG3hMGsGneOmIjY1DqKClX1Qkn1/JvjPd92blsK3KFnAkdRmvX+fRqQ8vebbEqYU2fSYPYPN+PuJg49A30cfeqi2frhu81BkEQ/p3UWSpu77xCcnQiEpkUc0cr3HrmPEepcocaBK0/R8jBW5iWNMeuVmme3X3yzmPpmOihNFByYMw2ZEo5rj088k3cmjlY4NarDtc3nedl7AukSjnFHK0o5mTzxnjflzu7riKVSzk8cZd23evJ7BtbLvIi8jkSmRS7mg5U6VTzvY4vCAAScbv+K4ZGhmuHjh/eu0PPTp86FOEDuhJ4iSkjJrH/4uG3NxaEIljmu1iz5udVUzUazcxPHcv/A4VCkZmUlKTQ13//9c2Ef4YTJ07QvXt3Hj9+/KlDEf6FOnTokLJjx44hGo0mby0WIReJRDKwTgvPBf2nDBYn3H+x4Ct3WDltKfP8F3/qUIR/oblDv0sKvnKnh0aj8f/Usfy/0zHU9XfpWrulvXuZtzcW/rGeBT/h8qrTeP/Y8VOHIvwf2jtofZY6W11Mo9Ekf+pYPhbppw5AEARBEARBEARBEARBEARB+HcSCWhBEARBEARBEARBEARBEAThgxAJaOE/p7pHTVF+QxAE4SNo2LChKL8hCILwkZSvXlGU3xAEQfhILMvbivIbglAEIgEtCIIgCIIgCIIgCIIgCIIgfBAiAS0IgiAIgiAIgiAIgiAIgiB8EPJPHYDw/+ngngA2r9xI2INH6BsY4FTJmb7D+uNay03bxn/7XmaMmcqsJXNo2soLgAO79/PDhO8AUKvUZGZmoqunq93nVHAgret48/zZc6SyV9+PtOzQmrEzJ3yko/t09m3/ja1rtxAZFoGBoQFebbwZMu4r5PJXf6qHfzvIyp9+ISbqCcUsLZg6bwZutavl6Uuj0bD8xyX4b9tLamoazpWcGTtzAmWdHQFY9P0CDv12kJfJKRiZGNOu6+f0/WpAvjFNHzOFSXOm0LbL5x/u4AVBKNDmzZuZP38+wcHBGBkZ4erqyqRJk6hXr562zbp16+jTpw9bt26lY8ec2wE3bdrEoEGDAFCpVGRkZKCvr6/dJyUlBQcHB2JjY5HJZNr1vXv3ZvHif/9t3Ldu3WLMmDFcuXKF+Ph4NBpNru13795l6NChXLlyBUtLS3x9fWnXrl2+fWVkZDB+/Hi2bt1KWloaXbp0YeHChSgUirf2lZmZSdeuXbl8+TLh4eEcP36chg0bftBjFwQhf+cPneXQlgBiwqPR1dfDvlwpWvZug5NreW2bM/tOsua7X/jyu+HUauIOQODBM6yfsxoAtVpNdmY2Sl2ldp9lx9fyTdvhvEhIQip9dY1b16c+3b/u85GO7tO5cOQce1bu5EV8InKlgioeVek2phd6BvpkZWaxwXctdy/dIuVFCtYlrPn8y0641HHNt6+szCx2LP2Vi0cDycrIpHbTOnQZ3VN7vZySlMLaWSu4feEmRqZGfDG4E+5edbX7H912iMNbAkhJSsG6pA1dRvbI9e8rCMKnE3n+IaGHb5Mck4RcV4GpvTlOLV2wKGetbRN+5j5X156l5pcNKFGz9B/7PSBofSAAGrUGdbYKmfLVZ+jWS7tzaOx20l+kI5FKtOtL1XWkajf3j3R0/wynfQ8SFxxDmxU9tTmX03MP8iIqAXW2Gn0LQyq0daO4W8l899doNNzecYWw0/cBcPAsR6X21ZFIcl7X3f3W5bz2f7zMJWqVplrvuvn2Jfy3iAS0UGSbVm7Ab+kaxs/6Fo8GdVAo5Jw7cY6TR47nSkDv3+GPiakJ+3f6axPQ3u188G7nA8CVwEtMGTEp33rM89YspLbnf+uNACA9PZ3RU7+hslsVEp4/Z0zfkWz8ZT29h/YF4MKpQH7+YSGzlsyhkmtl4p4+K7Cvo/sO89vWvazcuRbbErYs813C1FHfsjHgVwBad27HgFFfoqevx9OYWIZ1G4yDYxkaeTfW9vEi8QXrlq6hjFPZD3vggiAUaP78+cyePZvly5fj5eWFUqnk4MGD7N27N1cC2s/PD3Nzc/z8/LQJ6G7dutGtWzcATpw4Qffu3fOtyezv70+TJk0+zgH9gygUCjp27MiQIUNo27Ztrm3Z2dm0adOGL7/8kiNHjnDy5ElatWpFUFAQTk5OefqaPXs2ly9f5tatW6hUKlq1asV3333H9OnTC9VXvXr1GDlyJB06dPgoxy4IQl6HNu8nYIM/Pcf2pbK7CzKFnFuB17l2+kquBOW5gNMYGBtyLuCUNgHt0bweHs1zzsnBV+6wctrSfOsxD/f9mkq1qnycA/oHKefizMQVUzEyNSY9NZ31s1exa/l2uo3phVqlwtzKnHFLJ2NuU4wb566x7NtFzNw4B4vilnn6Clj/G2F3HzJz01zUajWLvv6RfWv30HZAewA2/rgWuVzOTwHLiAgJY+EYX+zLlcKuTAke3Aplx9JfGb98MqWcS3Ni11EWj1/AT/uX5Zr8IgjCx3f/0G1CDtzEtYcH1pWLI5XJiL0VxZOgiFwJ6IhzD1AY6BBx9oE2AW3vXhZ795zPrM+Cn3B51el86zN7DG+MVcXiH+eA/oEizz9Ao9LkWe/SpRZGxU2RyqQ8f/iMsz8ewnzW5+ia6udpG3YyhCdBETSe1hokcHbeYQwsDSnd8NX7ZKNprTG0Nv6gxyL8/xEJaKFIUl4k88u8pUz5cXquRGX9pg2o37SBdvnJ42iunr/C7GW+TBw6jvhn8RSzLPbe41kxfxkPQx6g0FFy6vAJbEsUZ84v8zgWcJQtqzeiUCqZ7DsV9/p1tPEvmDmPs8fOIJVKaNWxDQNHD0Ymk/E4LJLvx8/g/p0QkEhwb+DBuJkTMDLJOXG2ruNNh16dCdi5jydRT/BoUIdp82eio6vz3o6nfY9Xb5JWNtY0b9eCy+cuadf9smAZ/UcMpEo1F22bgkRHRuNa05USpUoA4N2uBVtWb9RudyjrkKu9VCrlcVhErnVL5iyiU58uHN0nHtooCJ9CUlISU6ZMYe3atXz++as7EFq1akWrVq20y+Hh4Zw8eZLt27fTqVMnYmNjsbYu+PzwrqZNm8bt27fR0dFh7969ODg4sHPnTnbu3MmCBQvQ0dFh9erVNGvWTBv/6NGjCQgIQCqV0qdPH6ZPn45MJuPBgwcMGDCA69evI5FI8PLyYsmSJZiamgLg4ODAsGHDWL9+PeHh4TRv3hw/Pz90dXXfFGKRODs74+zsTGhoaJ5twcHBREdHM2rUKCQSCY0aNaJu3bps2LCBmTNn5mnv7+/PuHHjMDc3B2D48OGMGzeO6dOnv7UvpVLJyJEjAXLNRBcE4eNJTUllz8od9P12ENU/q6Vd7+pZHVfP6trluCfPuBd0l8Hfj2D55EUkxSdhUszkvcezZ+UOoh89Rq5QEHT6Cha2lgz9YSRXjl/k8K8HkCvk9Jk0kMq1XbTx/7pwIzfPXUMilVDPpwFtB7RHKpPy9HEs635YSeT9CCQSqFzbhe7f9EHfyACAb9oOp3GHZpwLOE18TByV3avSf8qXKHSUbwqxSMytc38OkMikPH0cA4COnq42eQzgWq8alraWhAU/yjcBfe3MVVr0aIWhiSEATTp6sX3JFtoOaE9GWjpXjl9k5ua56Orr4uRaHlfP6pw7cJoOQ7sQ/+QZdmXscChfBoA6LTzZ4LuWFwlJmFqYvbfjFQShaLJSM7m7N4jqfephV72Udr2tqz22rvba5dS4FOJCYqj1ZUMu/XKS9KQ0dE303ns8d/cG8SIqEZlCxpOgCPQtDKk15DOir4QTeuQOMrkUt951sa5sp43/5tZLxNx8jEQioVRdRyq0dUUilZLy9AVBfudIikxAIgGrSnZU7V4bpX5OHuHQ2O2UaVSBiMAHpManYF3Zjur96iFTvN90XVZqJnd/u06NfvU4OSsg1zYTe/Ncy2qVmtTnL/NNQEecC8XRqxJ65jnvIY5elQg7FZIrAS0I+RFf8wpFcuPqDTIzMmnYvNEb2+3fuY8KLhVp1KIJDo6lObgn4I3t/47Tv5+ixect+f3mKZwrlWd4j8FoNGoCLh6m/4iB2pIfANNGT0Ymk7H7tD8bD2zl/KlA9m7ZDYAGDb2H9CXg0hG2H9vF0+hYVixYnmuso/sOs2j9Evae3U9o8H32bf8t35iuXQzis8r1Cvy5djGoUMcWdOGKdvaxSqXi7o07JMQn0M6zFT61mjF38g+kp6fnu2+z1l5EhkcS/jCc7Kws9u/wx6NBnVxt1i1ZQ/3yHvjU8iItNQ2vti20225fu8ndG3f4oruYjScIn0pgYCDp6ekFln340/r166lRowZffPEFFSpUYNOmTR8sJn9/f3r06EFCQgJubm54eXmhVquJiopiypQp2pIfAL169UIulxMaGkpQUBCHDx9m1apVQM7texMmTCA6Opq7d+8SGRnJtGnTco21bds2Dh48yKNHj7hx4wbr1q3LN6YzZ85gampa4M+ZM2eKfJx/Lcfx57pbt24V2P71fTQaDY8fPyYpKanIfQmC8PE9uHmfrMwsqjWo+cZ25w6cxqFCaWo0qoWtgx3nDxX9/FJY184EUce7HosPr6SkUynmj5iNWq1hnv9iWvf9nPWzV2vbrp6xDJlMyuwd85nmN4vbF29w6rfjQM75xqdnG+bvW8J3v/7I86fP2bNqZ66xLv1+nlE/jWfOroU8Do3gzP5T+cYUci2YoU36F/gTci24wOMJuRbM0Mb9GNKoL1eOX6JpZ+982yXFJxETGYNdGbv8O9JoeP20qtFoSHj6nNSUVGIiYpDKpNiUtNVuty9XkuiHOXf/VKlTFbVKzYNboahVak77n6SkUylMipkWGLcgCB/e8wdPUWepsK2Wf9mHP0UEPsDMwQK7Gg4Y2ZoQef7hB4sp5nok9h5l8fm5KyYli3FuwRHQaPD+sSPOrVy5tiFQ2/bK6tNIZBKa/fA5jaa24umdaMJO5ZSoQAPOLVzwnteRJt+1I+35S4L3Xss1VtTlMOqMbIrX7PYkPU4g4mzeyREAcfdj2TdsU4E/cfdjCzye27uuUqahMzoFJOzPLTzK3kHrOfn9fizK22DmYJFvuxfRibkS1ib25iRHJeZqc3rOAQJG/cr5Jcd4GZdcYEzCf4uYAS0USVJCIibmprlqEucnYKc/7Xt2AsCrjTf7d/jTbUCPQo/zzYBRyOSvZoENnziKdl2/yLeta003bWK1sU9Tjh/8nV5D+iKTyWjWujmzxs8kOekFmZlZnDtxlmO3TqOrq4uevh5d+3dn9+adfN69PfYOJbF3yHnDU+qY03VAd1b+9EuusTr16YqljRUAno3rE3LnXv4x1XLj+K2/94Hkt217uHvjDt/OnQrA82fxZGdlcyzgKCt3rEGukDOm30jWLFrJkLFf5dnfwsoS15putG/YBplMhnVxa5ZuWZmrTe+hfek1pA8ht+9x4tAxDI1yZpKoVCrmTPqBr2eMy1WnUBCEjys+Ph4LC4u3nnPXr1/P0KFDAejatSt+fn6MHj260OO0bds21xi+vr4MGJC3JjyAp6cnXl45ZZU6dOjArl27GD9+PDKZjM6dOzNw4EASExPJyMjgwIEDJCYmoqenh4GBAaNGjWLFihUMGjQIR0dHHB1zatJbWloyevRopk+fnmus4cOHU7x4zm2SrVq14tq13Bfrf6pXrx6JiYn5bntX5cuXx8rKCl9fX0aNGsXx48c5efIkn332Wb7tvb29WbhwIZ999hkqlYpFixYBkJqaWuS+BEH4+FKSkjE0Mcp1/ZmfcwGnadQ+5y4P92Z1OBtwGq+uPoUeZ/G4+Uhfu9Oh47CuNGib/8QOp6rOVHavCkDNRrW5euISPj1bI5VJqdXUA7/Zq0hNfklWZjY3A6+z+MgqlLpKdPR0adq5Baf2HKNhu8ZY29tgbW8DgEKpoFkXb35bvSvXWE06NMfMMmcGcNV61Yi8H55/TK7lWXJ0VaGPN8++v68m4elzTu49hoVt3tnN2dnZrJi6mLotPLF1yD8BXcXDlaNbD1K+ekU0ajVHtx0CIDM9g4y0dPQMcs/Y0zPQJz01Z8KGrr4e1T+rxexB09GgQd9Qn1ELxmlrlwqC8GlkvsxAaajz1lI4EedCKdMoZ6ZtidpliDgXSjmvSoUe5/ziY0hfqwFdqUNNSjfIW1oNoJiTtXaGs10NB6KvhuPUogoSqZQStUpzbf05MlMzUGepib0VRcufuyJTypHrKCjbtCJhJ0Mo3dAZQ2tjbTkKmUKGY7OKBP92PddYZRpXQM8s59xlW9WexIjn+cZkUc6alou7Ffp4/5QQFsfz0FhcutQiLeFlvm3qjGiCOlvN07vRpDxJylUr+3XZ6dko9BTaZYWekuyMbDQaDRKJBM+xzTEva0l2ZjZ3dwcRuPB3Gk1rLcocCSIBLRSNiZkpSc8Tyc7OLjAhcv1SENGR0TRr3RyA5m29Wea7mHu3g3GuVLjbMnxXLih0DWjz10p76OjqYGpuqr2F+c/yGKmpacTFPiU7KxvvGq/qnGrUGqxsc25Tfx73nB+nzuHaxaukvkxFrVZry2/86fUyIrp6ujx7Qw3mv+PEoWMsmb2IJZt/wdTc7I9jybntvGPvzlhY51ywdxvQg9U/55+AXvnTcu7cuM2+C4coZlmMA7v3M6TLALYe3Ymu3qtvPSUSCc6VyxN48hwr5i9j1JSv2bF+G44VyuFSveoHOT5BEAqnWLFixMXFvfGce/bsWR49ekTnzp2BnAT0pEmTuHbtGq6u+T/A6a/27NlT6BrQr5f20NPTw8LCQnvO1fvj3JKSkkJ0dDRZWVnY2r6ahaZWq7G3z7mN8unTpwwfPpzTp0+TnJyMWq3GzCz37c82Njba3/X19YmOji5UjO+DQqFgz549fPXVV8yZM4caNWrQsWNHdHTyL7s0adIkEhMTcXV1RUdHhwEDBhAUFISVlRUymaxIfQmC8PEZmhiRkpSMKltVYBL6/vV7xD15Ru2mHgDUblaHXcu3ERESRkknh0KNM2zO6ELXgDY2f1XaQ6GjxNDESPsBXvlHeYz0tHQSnyWgylYxquUQbXuNWoO5dc4MtRfPk9g834+Q6/dIf5mORqPWlt/QjvVaGRGlrpLEuIRCxfguzKzMqeJRleXf/sy09bO069VqNaumLUWukNPt694F7t+yd1tSU14yrecE5Ao5Ddo0IiIkDGMzE5Lik0h/mZarfdrLNHT1c66jT+09zpl9J5m5ZS5WJay5feEmC8f4MnX9D9oEvCAIH5/SQIfMlAzUKnWBicr4+7GkxqVQotYfdZ9rl+HO7qskRsRjWrJw5T7dhzUqdA1oXeNXn5llShk6hjpI/picJVPmvE+o0rNJS0xFrVJzYPRWbXuNBm2JiowXaVzffIH4+0/JTs9Co9Gg1M9d4uj1MiIypYz0xOxCxVgYGrWG6xvP49Kl9luTwFK5FJsqJTh79A4GVkbYuuadkS7XlZOVlqVdzkrLRK4j136RZ+Gcc/2ulMtw6VIL/6GbSX6ShEkJcY79rxMJaKFIXKq5oNRRcvLQcRr7NM23zb4d/mg0Grp5d8q1PmDnvkInoD8Ea1sblEolR66dyDeRs2TOIiQSCZsPb8fUzJQTh47hO3n2O40VdOEqI3oNLXD7Qr8luNWulu+2cyfO8v24mfy0bhGO5ctp1xubGmNla13oGRr374TQtKUX1n8k2Ft1aMP86b48DHlIxap5vyVWqVQ8Ds+5PfHS2QtcPX+Fs8dzZnG/SEzi3u17hNy5x9iZEwo1viAIf5+Hhwe6urrs2bOH9u3b59vGz88PjUaTJ9m8fv36QiegPwR7e3t0dHSIi4vL95w7YcIEJBIJN27coFixYuzZs4dhw4a901inT5/G2zv/W7kBDhw4gKenZ5H7dXFx4eTJk9rlOnXq0KtXr3zb6unpsXjxYhYvznno2IoVK6hevbo2OV+UvgRB+PjKVimHQqkg6NRlajSqnW+bswGn0Gg0TO2R+1roXMDpQiegPwRz62LIlXIWHfwl3+T5jmVbQSJhxsbZGJoYcfXkJTb96PdOY4VcC2bBqDkFbh+1YFyuBzYWRJWt4lnUq1vFNRoNa79fwYvnLxg5f+wb7/xR6irp/nUfun/dB4ATe37HoXzpP0pv2KBSqYiNeIL1H2U4IkPDKV6mhPb3qvWqaUt0VPGoiomFGQ9uhhT47y4IwodnXtYK6R/1lu1qOOTbJuLcAzQaODbttzzrC5uA/hD0zQ2QymW0WNgl3wTv7Z1Xc54BMr01Ooa6RF8N5/rmC+80VlxILOd+OlLg9jojm2LhlPs5MFnpmSSExXFx+QkgJyENcPDrbdQa/Fme9gAalYaXT/MvnWFc3JSkyATMy+RMikuKTMDI7g1ljCRAPuXohP8ekYAWisTQ2IhBY4Ywd/IPyOQy3Ot7IJfLuXDmAlfOXWLQmCEc3X+YibMnU7fRqw/7xw4cZfXCFXw1ceRbbyX/UCysLald34OfZs7jy6+Hom+gT3REFLExsVR3r0FqyksMjAwxMjbiaUwsG5a/24U5gFvtapwKDnx7w7+4dPYiU4ZPZO7K+VRyzTs7plXHNmxdtwWPhnWRy+VsWb2Jeo3r59tXxaqV+H3/EZq1bo5ZMTMO7g4gOysbewd71Go1ezbvoknLZhiZGHHn+i22+22l99C+AEydN4OMjExtX2MHjaZxi6a06dS2yMckCMK7MzExYcaMGQwdOhS5XE6zZs1QKBQcPXqU48ePM2PGDLZt28aKFSvw8Xl1C/jOnTuZMWMGc+fO/WTnXFtbW5o1a8aYMWOYOXMmhoaGPHr0iMePH9OgQQOSk5MxMTHB1NSUqKgofH1933ksT09PUlJSiryfRqMhIyODzMyc8116ejoSiUQ7M/nGjRs4OTmhVqtZunQpT548oXfv3vn2FRUVhUQiwdbWlgsXLjBz5kxWr3TecpIAACAASURBVH5Vn/VtfWVkZGhrRWdmZpKeno6Ojo64LVwQPhJ9Q33aDmjPRt+1SGVSKtV2QSaXcefiLYKv3KHdwPZc+v0Cvcb3p2pdN+1+l49fxH/1LjoM6/rW8h0fiqmFGZVqubB10UbaDeqAjp4ucdHPSHj6HOdqFUhPTUPfQB99QwMSnj7n4Mb97zyWk2t5lh1fW+T9Ag+ewcm1PObWxYiPiWPXL9uoUKOydvuGuWt4EhbN1z9PRKn75ocfJjx9DhIJphamPLwdiv+a3fSZNBDIeaBh9YY12b1yB30mDiAiJJxrp64wcWVOiafSFcqyb90eGndohmVxK+5cvEVsxBPs/khQC4LwaSj0lVRo48b1TeeRSCVYVbLLeYjq3WjigmOo0NaVqEuPcOvlgY3Lq7/X6CvhBPtfp3KHGp+sxIOuqT5WlYpza+slKrRzQ66j4GVcMukJqVg425CdnoVcT4FSX0lawkvuH7r9zmNZOFnTemn3Iu2j0FPiPa+jdjnteSonvtvHZ1NaoWOkS/KTRF7GpWDpbINEKuXxpUfEhcRSuUONfPsrWacsoUduY+NiB0gIPXybso1zvnh8EZWAWqXGpIQZqkwVd3ZfRc9UHyNbUWdfEAlo4R10G9ADcwtz1ixaxeThE9E3NKBClQr0Gdafk4ePo6Oji88XLZErXtUFatOpHSvmLyfwxDk8m+SfMH3dmL4jcr2B1PZ0x3flgr8d+/QFM1k8exGdGn/Oy5ep2JW0o9fgnNkT/UcOYtqoyXxWqR4lHOxp8XlLtqza+LfHLIrVi1aQkpzCyF6vZgG61qrGovVLcmIcPoDE5wl80bA1Sh0dmvo0o++w/gDERD2hY+PP2fb7LmzsbOk5uA/P45/TrXkn0tPSKOFgz5xf5mFkYoxareb4oWMsmbOIrKwsLK0t6dSnM536dAHAyMQYo9fiUigUGBgaYGj8+lpBED6G0aNHY21tzXfffUe3bt0wMjKievXqTJo0iT179qCnp0fPnj1RvHbO7devH1OnTuXgwYO0bNnyrWO0atVKO1MXoGnTpuzevftvx75+/XrGjx9PxYoVSU5OpkyZMowbNw6AqVOn0rNnT0xMTHB0dKRHjx4sWPD3z/NFER4eTunSpbXLenp6lCpVirCwMAA2bNjAqlWryMrKwtPTkyNHjmiT0xEREVSsWJE7d+5QsmRJHjx4QM+ePXn69Cn29vbMnj2bZs2aaft+U18Azs7OhIfn1Fz9s8b2o0ePcHBw+MCvgiAIf/Lq6oOxuQn+a/ewYupSdPV1cShfmpa923L11GWUOkrqtPDM9cVe/VYN2btyBzfPX8e1Xv53t71u0Tc/5nq+RsVaVfhqTuFr9hek/9TB7FiyhW87jyU9NQ1LOyu8e7QCoE2/L1g1fSlDm/TDqoQNHs3rceTXA397zKKIfhTFjiW/8jL5JQZGBlSpU5X2Q3JKR8U9ecaJ3b8jVyoY5TNYu0/Pcf3waF6P+Jg4vu3yDd9t8aWYjQVPo2JZNX0ZyQkvMLMuRvshnalc20W7X/dv+rL2+18Y4T0YQxNDeoztq00w12nhydOoWOYO+Y6XyS8xtzSn5/h+BdabFgTh4ynnVQldE13u7bvB5ZWnkevKMS1lgXNLF55cjUCqlFPSwxGp/NU5tJRnOe7uvUbsrShsq9q/dYzARb/nqm1sVbE47sPyr8NfFDX6eXJ75xWOTt5DdnoWBhZGOHnnfMlWvnVVrqw+g/+wzRhaGWHvUZbQI3f+9piFJZFI0DV5VRtflaUCQMdYD6lMikYDwXuvcSk6EYlUgoG1MbW+bIBpqZxZ5X/Ouv4z8e3QwJmXz1L4fcrenOX6Tjg0cAYg40U61zYEkpaQikxHTrGylniMaJLr30z475Lk92T2/ypDI8O1Q8cP792hZ6e3NxYEQfiLZb6LNWt+XjVVo9HM/NSx/D9QKBSZSUlJCn19/bc3FgRB+IsOHTqk7NixY4hGo9nwqWP5p5NIJAPrtPBc0H/KYHHCFQThncwd+l1S8JU7PTQajf+njuX/nY6hrr9L19ot7d3LfOpQBEH4RPYOWp+lzlYX02g0+dc6+RcSX0MIgiAIgiAIgiAIgiAIgiAIH4RIQAuCIAiCIAiCIAiCIAiCIAgfhEhAC4IgCIIgCIIgCIIgCIIgCB+ESEALgiAIgiAIgiAIgiAIgiAIH4RIQAvCO4iOjKJmSVeys7M/dSiCIAj/OmFhYUgkEnGOFQRB+Ajiop/R170rqmzVpw5FEAThX+9lXDK7+61DrVJ/6lAE4aOSf+oAhP+eg3sC2LxyI2EPHqFvYIBTJWf6DuuPay03bRv/7XuZMWYqs5bMoWkrLwAO7N7PDxO+A0CtUpOZmYmunq52n1PBgbSu483zZ8+Ryl59t9KyQ2vGzpxQ6PiiI6NoU9eHwIeXkcs/zZ/IlfOX+bJjf/p+1Z/B3wzLt83TmFjmTPqBaxevoqunS9+vBvBFjw7a7TVLuqKrp4tEIgGgWevmfDt36keJXxCET2fz5s3Mnz+f4OBgjIyMcHV1ZdKkSdSrV0/bZt26dfTp04etW7fSsWNHADZt2sSgQYMAUKlUZGRkoK+vr90nJSUFBwcHYmNjkclk2vW9e/dm8eLFhY4vLCyM0qVLk5WV9dHPsX+Nv06dOhw+fDjftl9//TV79+4lJiYGOzs7Jk6cSM+ePbXbBw4cyMmTJ7l//z5r1qyhd+/e2m0ajYbJkyezdu1aUlJScHNzY8mSJVSqVOmDHp8gCB/f+UNnObQlgJjwaHT19bAvV4qWvdvg5Fpe2+bMvpOs+e4XvvxuOLWauAMQePAM6+esBkCtVpOdmY1SV6ndZ9nxtXzTdjgvEpKQSl9d19b1qU/3r/sUOr646GeM/XwEK89sQCaXvX2H9+iv8TtWcWLMovyvyS8ePc+RrQeIDAmndMWyjFs2Odf2iJAw1n6/gidh0dg6FKfPpIGUdHLI1SY7K5sp3ceRkZrBPP/Cvy8JgvD/I/L8Q0IP3yY5Jgm5rgJTe3OcWrpgUc5a2yb8zH2urj1LzS8bUKJm6T/2e0DQ+kAANGoN6mwVMuWr69DWS7tzaOx20l+kI5FKtOtL1XWkajf3Qsf3Mi6Zw+N20mZFz1w5iY8p7l4Mp+cexNnHhYqfV8u3zdHJe0iNT9Euq7NUWFexw2N4EwB291uX8/r88VKUqFWaar3rAvAs+AnBv10nMSIepb4Sr7kd8vQvCPkRCWjho9q0cgN+S9cwfta3eDSog0Ih59yJc5w8cjxXAnr/Dn9MTE3Yv9Nfm4D2bueDdzsfAK4EXmLKiEnsv5g3cTBvzUJqexb+TeKfJjsri3nT5lLZrcob200ZMYlyFZyYs9yXh/cfMrjTAEqVdaBGnZraNpsPbcPeoeSHDlkQhH+I+fPnM3v2bJYvX46XlxdKpZKDBw+yd+/eXAloPz8/zM3N8fPz0yagu3XrRrdu3QA4ceIE3bt35/Hjx3nG8Pf3p0mTJh/ngD6AwsZvYGCAv78/Tk5OXLp0iebNm+Po6EidOnUAqFq1Kp06dWLcuHF59t2+fTtr1qzhzJkzlCpVim+//ZYePXpw9erV9348giB8Ooc27ydggz89x/alsrsLMoWcW4HXuXb6Sq4E9LmA0xgYG3Iu4JQ2Ae3RvB4ezXPOy8FX7rBy2tJ8k6bDfb+mUq03XxP+kxU2fgNjA5p28iYmPJq7l2/n2padlc3PY+fTtFNzPvuiKSd2/87PY+fzw/b5yBWvPs4e2LgPYzMTnqU+fe/HIQjCp3f/0G1CDtzEtYcH1pWLI5XJiL0VxZOgiFwJ6IhzD1AY6BBx9oE2AW3vXhZ797JATgL18qrTeP/YMc8YHsMbY1Wx+Mc5oA9Ana3mxpYLmJWxeGO7JjPban/XaDQcHr8TuxoOudo0mtYaQ2vjPPvKlHJK1StHiazShOy/8V7iFv4bRAkO4aNJeZHML/OWMnbmBBp5N0ZPXw+5QkH9pg0YMWm0tt2Tx9FcPX+FibMnc/5kIPHP4j9IPLev3aSnT1caVqyLV7VGLJjxIwADO/QDoFFlT+qX9+DGleuoVCp++m4+Tao2pE1dH84cO/1BYgLYuGID7p4elCrrUGCb1JepXAm8TN+v+iNXKHCq6EyjFk34beueDxaXIAj/bElJSUyZMoUlS5bw+eefY2BggEKhoFWrVvj6+mrbhYeHc/LkSVasWMGhQ4eIjY39IPFcvHiRGjVqYGxsjLW1NaNH55zn69evD4CpqSmGhoYEBgaiUqn4+uuvsbCwoEyZMuzfv/+DxFQU06dPp3z58kilUmrXro2npyeBgYHa7UOHDqVx48bo6urm2ffRo0fUq1ePMmXKIJPJ6N69O3fu3PmY4QuC8IGlpqSyZ+UOun/dm+qf1UJHTxe5XI6rZ3U6ftVN2y7uyTPuBd2l1/j+3Lpwg6T4pA8Sz8PboUzvPYkhjfox0vtLfv1pAwCzB88AYFjT/gz+rA+hN0NQq9RsXbSJ4V4DGfv5CK6fC/ogMRVFpVpVqNXEHVMLszzbgq/eQaVS0bSzNwqlgqadmqPRaHIlqp9FP+X8wTO06Nn6Y4YtCMJHkpWayd29Qbh2c8eueinkOgqkcim2rvZU6fhqAlZqXApxITG49fTg6e0o0pPSPkg8zx8+4/gMf/yHbiJg1K/c+PUiAKfnHARg31eb+W3IRuJDn6JRq7m59RL7R2zh0LgdxN7IO8Hjfbl/+BZWlewwsjEp9D7xIbFkJKdTvHqpQrU3L2NJyTplMbA0etcwhf8oMQNa+GhuXL1BZkYmDZs3emO7/Tv3UcGlIo1aNMHBsTQH9wTQbUCP9x7PvGm+dO7blRZftCT1ZSoP7oUCsGL7atrU9eHYrdPa28N3btjOmd9PsfHAr+jp6zFu0Jg39j2q91dcu5z/xbxrDTcWrPs5321PHkfjv20PGwJ+Ze7kHwrsX6PR/PHf3OsehITmajewfT/UGjUu1asyavIYitvbvTFuQRD+fwUGBpKenk67du3e2G79+vXUqFGDL774ggoVKrBp0yZtcvh9GjFiBCNGjKBHjx6kpKRw69YtAE6dOkXp0qVJTEzUnmOXL1/Ovn37CAoKwsDAgC+++OKNfbds2ZIzZ87ku61evXrs27evwH27deuGWq3Gzc0NX19fqlat+tZjSUtL49KlSwwZMuStbQE6d+7M1q1bCQkJoXTp0vj5+dG8efNC7SsIwv+HBzfvk5WZRbUGNd/Y7tyB0zhUKE2NRrWwXW3H+UNn8Orq897j2bJgPU07NaeOtyfpqelEPYwEYPyyKYz9fASLj6zSluA4vuso189eZdr6H1Dq6rB0wk9v7PunMb7cv34v323lqjozct43Be67cuoS1BoNpZwc6PBVV0qWK1yC43XRDx9TomxJbVk5gBKOJYl6+JgqHjnn8E3z/Ph8cCeUOsqCuhEE4f/Y8wdPUWepsK325rt7IwIfYOZggV0NB4J/u0bk+YeU83r/JdBubLlI2SYVKVmnLNnpWbyISgDAc1xzDo/bScufu2pLcDw6EUzMjUg+m9oauVLOhaXH39j3uYVHeX4//wki5uWsqTMi/zv5UuNSCD8TSqMprbi+6XyhjyX8bKg2qf+603MOoNFoMHe0okqnmhhYiISz8PeIBLTw0SQlJGJibvrWmp8BO/1p37MTAF5tvNm/w79ICehvBozKVeNu+MRRtOuaN5khl8uJDIsg8XkCpuZmVKnmUmCfR/cfpkvfbtgUtwGg99C+XAm8XGD7ghLMb/Pj1LkMGjMUfQP9N7YzMDSgag1XVi9awfCJo3h0/yHHD/yOabFXs0Z+2b6aKm4upKelsezHJYzqM5xNB7d+srrWgiB8WPHx8VhYWLz1b3z9+vUMHToUgK5du+Ln51ekBHTbtm1zjeHr68uAAQPytFMoFISGhhIXF4eFhQXu7gWXRtq2bRsjR47E3t4egAkTJnDixIkC278pwfwmmzZtolq1amg0GhYuXIiXlxfBwcGYmpq+cb8vv/ySqlWr4uXlVahxbG1t8fT0xNnZGZlMhr29PceOHXunmAVB+GdKSUrG0MTorXWVzwWcplH7ZgC4N6vD2YDTRUpALx43H+lrdfc7DutKg7Z5J3PI5HKePo4lOfEFRqbGlK1crsA+L/1+nqadvDG3LgZAi16tCb5a8F0ab0owv8nA6UMp5VwaDRqObj3I/BGzmbX1R/SNDIrUT3paOvqGernW6RvokZ6aM7PxyolLqFUqqjesSfAVcbeJIPwbZb7MQGmo89a6yhHnQinTKKcEUonaZYg4F1qkBPT5xceQvlYDulKHmpRu4JSnnVQm5eXTF2Qkp6NjpIt5WasC+3x8KQzHphXRN8859zm1qELcvZgC2xeUYH6b61suULGtG3Jdxdsb/yE7I5voK+G4f5X7fcVzbHPMy1qSnZnN3d1BBC78nUbTWn+yutbCv4P4v0f4aEzMTEl6nkh2dnaBba5fCiI6MppmrXNmijVv601o8H3u3Q4u9Di+Kxdw/NYZ7U9+yWeAb32nEvEogvaftaNny66cPnqqwD6fxT7DuvirulI2du+/LtSpIydJffmSZq0Ll+CYuWgW0RFRtHRvzuxJ39O8XQusbF7FWK12dRRKBUYmxoyZNpboyCjCQh+997gFQfhnKFasGHFxcW88x549e5ZHjx7RuXNnICcBffPmTa5du1bocfbs2UNiYqL2J7/kM8Dq1asJCQmhfPny1KxZ841J4+joaG3yGaBUqaLPkCuMunXroqenh76+PhMmTMDU1JTTp99cUumbb77h1q1bbNu2LdfsuzeZPn06ly5dIjIykvT0dKZOnUqjRo1ITU19H4chCMI/gKGJESlJyaiyVQW2uX/9HnFPnlG7qQcAtZvVIepBJBEhYYUeZ9ic0Sw5ukr7k1/yGaDPxAHERDxhUqevmdHnW66dKbjmfGJcgjb5DFDM5s21Qt9VuarOKHWV6Ojq4NOrDfpG+oRcK/w1/Z909XRJe5n7Nvq0l2no6uuRkZbO9sWb6Ta61/sKWxCEfyClgQ6ZKRmoVeoC28TfjyU1LoUStf6o+1y7DC+iEkiMKHxJT/dhjWi5uJv2J7/kM0C1PnVJiX3B0W93c3ymP0+uRxbYZ3piKnpmr75407cwLHQ8hfXkWiTZ6VnaYy+s6KvhKA2UWDjb5Fpv4WyDVC5Dqa+DS5dapMalkPzkw5SQEv47xFRI4aNxqeaCUkfJyUPHaezTNN82+3b4o9Fo6ObdKdf6gJ37cK5UPt993lXJ0qX4fvFs1Go1xw/8zvjBX3P0+sl8EwwWVhbERr+6DSY26skb+x7ecyjXLuZ/4e9aqxqL1i/Js/7S2QvcvXEHr+qNAXj5IgWpTEpocCjzVue9NdK2RPFcM62//Wo8lVwrFxiTRCLRlu4QBOHfx8PDA11dXfbs2UP79u3zbePn54dGo8HV1TXX+vXr1+dZ93eVK1eOLVu2oFar2bVrF+3btyc+Pj7fc6ytrS2Rka8u3CMiIt7Yt7e3d4GJY09PTw4cOFCoGN92Xpw6dSoHDhzg5MmTGBvnfQhLQa5fv06nTp0oUaIEAL1792bkyJHcuXOHGjVqFLofQRD+ucpWKYdCqSDo1GVqNKqdb5uzAafQaDRM7TEh1/pzAacp6eTwXuOxLmnLlzO/Qq1Wc/XEJZZOXMjPh36BfL43My1mxvPYVwmZ5zFvTs7MHzmH+9fzTxyXq1qe0T/lfRhrfiRIeJdL0eJlSnBocwAajUb7HvL4QSSN2jcjNjKG+Cdx/PBlTq1rVXY2qSmpjGwxmG9XzcCiuGXRBxQE4R/HvKwVUoWMJ0EReR6W96eIcw/QaODYtN/yrDctWSzffd6VobUxNQc1QKPWEH01nItLj+OzqAuSfE66uib6pCW81C6nxb/M0+Z15xYcIa6AEhwW5aypMypvLuXZ3WgSw+IJGPUrAFlpWUikEpKiEvD4qnGBY0WcC8W+juPbJ1lI4J1O4ILwGpGAFj4aQ2MjBo0ZwtzJPyCTy3Cv74FcLufCmQtcOXeJQWOGcHT/YSbOnkzdRp7a/Y4dOMrqhSv4auLI91o+ImDXfjwaeGBWzBxD45x6RlKpFLNiZkilUqIioihVJmcWXpOWzdi6dgv1mtRHT0+PdUvXvrHv/BLMb/Pl10PpNaSvdnnetLlYWlvSb8TAfNs/uv8QK1trlEolR/Yd5vyp82w/tguAB/dCyc7OxrF8OTLSM1jmuxhLGytKOxbtG1FBEP5/mJiYMGPGDIYOHYpcLqdZs2YoFAqOHj3K8ePHmTFjBtu2bWPFihX4+Ly6/Xvnzp3MmDGDuXPnvtdz7MaNG/Hy8sLS0lJb4kImk2FpaYlUKuXhw4c4OeXMKunYsSOLFi2iZcuWGBgYMHv27Df2XdgE8+siIiKIjIykZs2aqNVqfv75Z+Li4qhbt26+7X/44Qc2b97MqVOnKFYs74eWzMxM1Go1Go2GrKws0tPTUSqVSKVSatasyfbt2+ncuTOWlpZs2rSJrKwsHB0dixy3IAj/TPqG+rQd0J6NvmuRyqRUqu2CTC7jzsVbBF+5Q7uB7bn0+wV6je9P1bpu2v0uH7+I/+pddBjW9a3lO4oi8MAZKrm7YGxmjJ5hTik3qVSKkZkxEqmEZ9FPsSlpC0DNxrU5uu0QVeu5oaOrQ8CG397UdaETzK+Lj4njeWw8pSuWRaNWc3T7IZKTkilXNf/ZhGqVGlV2NiqVKue8mpGJRCZFLpdTvlpFpDIpR7cdpGG7Jpzam1PSqEKNSkgkEn787dWEjNAbIWyct45pfrMwMi38F4eCIPyzKfSVVGjjxvVN55FIJVhVskMqk/L0bjRxwTFUaOtK1KVHuPXywMalhHa/6CvhBPtfp3KHGu+1fERE4AOsK9uhY6SLQj+n9rxEKkFppAsSCS+fJWsfBGhX04EHR+9i42KPTEdOSMDNN/adX4L5bSq0rYZTiyra5RtbLqJrqk/5lgU/6yTt+UvigmNw7eGRa/2LqATUKjUmJcxQZaq4s/sqeqb6GNnmXM9r1BrUKhVqlRqNBlRZ2Ugk/2PvrMOi2roG/htgaKRBQAU7sOOqKAYGKqBeWzGv3d0d99rd3XnVq6KALQYmioGYKKJ058DU98fo4MgQ3vJ9v3d+z8PzMGfvvWbtc87ss8/aa68lQOtvfKZp+P+JxgCt4V/Fe3AfLKws2LVuB7PHzMDQ2IjK1SozYNQgAi5cRU9PH4/OnugIc+MWdej+M9tWbeH2tUBcWzYp9Dsm/jJW5eFS37UBy7evzlPvdsAt1ixcgShLRHEHO37dsAQ9fT0ABowexKBO/ZFIxKzbt4mOPTvxISwcb/duGJkY4T2kLw8C7/0NZyQXI2MjjIxzt+bo6ethYGiAqZniweX3xzl2b9jJscsnP+sfyO4NOxFlZVHRuRLr9m3E3NICgMT4RJbM/JXYqBgMDA2oXqcGq3evUzmvGjRo+P/HhAkTsLW1ZdGiRXh7e2NiYkKdOnWYOXMmp06dwsDAgL59+yL8aiwYOHAgc+fOxd/fH09Pz0K/w8vLC+2v4pG2atWKP/74I089f39/JkyYQGZmJo6Ojhw5cgR9fX0AZs6cSaNGjRCLxfj7+zN48GBevXpFjRo1KFasGJMmTfrbYyanpaUxfPhw3r59i76+PjVr1sTPz09pXD548CC//fYbISEhAMyYMQNdXV3Kl8+NozpjxgxmzJgBQOvWrQkICAAgMDCQIUOGcPXqVZo1a8bUqVOJjY2lZs2aZGRkUK5cOU6cOFForGkNGjT8d+Hey4NiFqb47D7Ftrmb0DfUx6lSaTz7d+Th9Qfo6uni0s5VZXGviVczTm8/ztM7j6nZuHah37Fu8gq0tHLntVV+qsbopXnj9j+985gj6w6QI8rGsrgVwxaOQvg5IZ9n/478NmQeUomUCWum0qSDG9ER0cztPR0DIwPcvT0IfRDyN5yRXESZIvYv20Xsp1iEukJKVXBk/OqpGJsqnD5u+9/k3N7TLDq8HFAka9y1aKuy/dCm/WnUrgkD5wxDR6jDqKUT2PPbNo5vOoKdowOjlk5AR6g4r6aWuWOrUTFjtARaKsc0aNDw/4Py7s7om+rz8uwTHmy/gY6+DmaOVlT0rE7Uww9o6epQqmE5tHRyx0xH1/KEng4m5tkn7GqULEC6gtvrLiP4Kga0TRV7GozKG/oo9tknnh69jzRHgqGlMfWGNkX785hU0bM61xf7IpfKcBnfCqcmFUiPSeXyvDMIDYSUd3cm7kXBO6q/F6GBEKFB7vxeW6iNjq4OusYK+0bEnbe8PPeUlgs7Kut8uP0Wi7LWGNuoLtZlp4oI3n+brKRMtPV0sCxrTcOxLZXnNf5VNDeXn1fWPzPsAFYVbXGd0vZv7ZOG/38INFvyczE2Md49ctqY/l37di+8sgYNGjR8w+blG+S71u+YK5fLF/5oXf4bEAqFOSkpKUJDw4KTbmrQoEGDOrp27Zp+/PjxEXK5fP+P1uU/HYFAMMSlnevqQXOGawZcDRo0/CmWjVyU8iLoeR+5XO7zo3X5b0fPWN+neq/6niUblPnRqmjQoOEHcXroPrFMIrOUy+VpP1qXfwtNEkINGjRo0KBBgwYNGjRo0KBBgwYNGjRo0PCPoDFAa9CgQYMGDRo0aNCgQYMGDRo0aNCgQYOGfwSNAVqDBg0aNGjQoEGDBg0aNGjQoEGDBg0aNPwjaAzQGjRo0KBBgwYNGjRo0KBBgwYNGjRo0KDhH0FjgNZAe5e23L1x5y/LWTx9ETvWbvsbNPprbF6+gZY1muFep8WPVuUfZ+DP/Xj57MWPVuN/jtULVnBi/+8/Wg0N/4U4OTlx6dKlvyxn2LBhLFz443Ndzpo1CysrK4oXL/6jVfnHadSoEY8ePfrRavzPcebMGXr06PGj1dDwX8rkjmMIuff0L8vZt3QnZ3ad/Bs0kZ8EdQAAIABJREFU+muc3HKMMe5DGNdu+I9W5R/nt8HzCH/5/ker8T+HOEfMjO4TSU1M+dGqaPh/xvkpvxP7PPIvy3m0L5AXPo//Bo3+Gs9PPuTc2MP4jj/yo1X5xwlY7EtyeMKPVuO/DqlYysWZJ8lOzfrRqvzHoPOjFfhvoL1LW+Ji4vC7fxEzC3Pl8V5tuvH6+StO3zqHfUmHf02foNv3Gd5jCPoG+irHNxzcQvU6Nf41Pb5l+uJZRa47b8JsbO1sGT551N+qQ3RkNAe37efMbT8srCzU1jl1+CR7N+0mIS6eGvVqMWf5PKyL2wAgl8vZsHgtp4/8AUD77h0ZPWMcAoGA9NQ0po+YwrPgpzRyc2X+6kVoa2sDsGjKfBq5udK8jVuB+vmf8uXQ9gO8f/sOQyMjKjhX5JdRg6j5Uy22rdpMRHgEC9f+VqS+Xr8YgKGxERWrVgLg7O9nOLr7MBHvP2BkbIR7h7aMmDoaHZ3cn/mFM/5sX7OV6E9RWFpbMXflAmrVr51HdmGyju05wtnfz/Dm5Wtat2/DvFXqDWHbV29h2+otbDi4hfquDQrtU3hYOOt+Xc2ToMfIpFKq1HBm4vypOJV1AhSLHH5/nFPWl0gkCIVCAkIDC5R79vczzJ84h5lL59CxZycAtq3azK4NO9HVFSrrHTr/OyUcSxTats/QfvRr35v23Tsi/Kq9hr+Ok5MTkZGRREZGYmVlpTxes2ZNHj9+zLt373BycvrX9Ll27Rpubm4YGhqqHL948SINGzb81/T4li1bthS5bv/+/SlRogSLFi36W3WIiIhg5cqVhIeHY2Njo7bOjh07WLJkCdHR0TRu3Jhdu3Zhb28PKMbbadOmsWPHDgAGDhzI0qVLEQgEpKSk0K1bN+7evYuHhwf79u1TjreDBw+mXbt2/PzzzwXqd+jQIVatWsWLFy8wMTGhZs2azJw5k8aNGzNv3jzevHnDgQMHitRXHx8fTExMqFWrFgDPnj1j4sSJBAUFkZCQgFwuV6kfGhrKyJEjCQoKwtramuXLl+er7969e1m3bh2vX7+mWLFi9OrVi99++0053vbu3ZvLly+TkZFB8eLFmTJlCoMGDQLg+fPn9O3bl7dv3wJQp04d1q1bR5UqVQrtU2xsLGPHjiUgIICMjAyqVq3KqlWrqF+/vso5nD59OvHx8bRq1Ypdu3ZhYZH32Xrjxg3atm2rciwjI4Pjx4/TuXNnleNubm5cvXoVsVis7GNgYCDjxo0jNDSU0qVLs2nTJho3bgxA+/btmTFjBk+ePKF69eqF9kvD9zG54xiS45NYdXYjJmbFlMfn9plOxOtwlp1ci5W99b+mz4ug5ywf9Su6+roqxyeum065ahX+NT2+pe/UgUWuu3PBFsxtLOg0rNvfqkNiTALnD59j+R/rKGZhqrbO9dNX8d1/hpSEZMrXqMiAmUMxt1a8u8jlco5vPML1M1cBcPVqRtdRPREIBGSmZ7J55lrCQt5Sw6Umg+aOQEtb4ae057ftVHOpSZ1m9QrU7875W5w/7Et0eCT6hgaULO+IZ/8OVKhZiVPbjxP7MYYh80cWqa/BN4LQN9LHsaITAHcvBnJq+wlSE5LR0RVSrWENvCf2w8DIEHGOmP3LdxN6/xnpqenYlrCl07DuVHepqVb2rXPXuXTMn5iIGAyMDKjf2oXOw7ujraN4xgxvPkClfk52Dm6dWuE9qT8A9y7d4fT24yTGJWJhY0nn4d2o3bTgc/OFbXM3EvoghOysbEwtTWnb24smHZoD8OndR3bM30zcpxgAHCuWptfEfjiULqFW1tLhC3kb8gbtz9fJzNqCxcdWAhAaFMKhVftIjElAS0uLCrUq0Xtif8xtFON3eko6+5ftIvTBMwCq1q9On6m/YGBkiFBXiKtnM3z3+9BjbO8i9UvD38P5Kb+TlZxF25Xd0DPJfc+/Mu80KRFJtF7aGSMrk39Nn7gXUdxccR5tXVWTUaMJrbEsp37e929Qq69LkesG7byBgbkRVTrlfd/9K2QmZvD6QghtlnVBr5iB2jrvr7/ild9TRClZWJa3oXb/xhiYK94n5HI5IceDeH/jNQBOruVx7lIHgUCAODOHe1uukRQWh231ktQd1BiBluJ3/nDPLYpXL4F9bccC9Yu4E8abCyGkRaegoy/ErKQFFTyrY1XeltDTj8iITaPu4CZF6mtUcAQ6+jqYOVrmKbux3J/4F9F02NYXLW0tslOzeHL4HvEvo5HkSCjmYE617vWwKFPwPEImkXJ57mkk2RLarsh9dv4xcI/i/hMoPpf4qTS1+zcqkt5fiH8ZzY1l/lT0qK68Dz7eDSP0dDCi1Cy0dLSxreZAjV71ERroqpUhl8kIPRVM+M3XSERijGyK0XiKO7qGeoTffM3DPYFo62or6zcc0wLrSnZoC7VxbFyeV37PqNa9aM+J/+9oPKCLiH1JB86f9ld+fvPiNdmi7B+mj7WtNddf3Fb5+5HG5/8Uoj9GYWpumq/xOejOAzYtW8+KHau5/OQ6DiUdmDl6urL8j4MnuHbhKgfPH+PQhWPcvHyDkweOA3Dy4HEqOFfifNAVoiIiueZ/BYAnQY9JiI0v1Ph8cPt+Vs1fTv9RAzn/8Apn7/jRpU83Ai5e/VN9PXnwd9p18lB+FolETJg7mYvB19h9Zj/3b93jwNZ9yvK712+zfvFa5qyYT0BoINuO78TBUf3CSWGyrGyt+WXMINp365ivfh/fR3DZ9xJWNkV/cU1PTaVJq6Ycv3aK8w8vU6VmVSYNGqcsn754lso937p9G1p4tCpQZmpyKns27aJMhbJ5ylp5tVaR963xOb+2VrbWOJV14vrFa0Xum4aiU7p0aQ4fPqz8/PTpU7KyftzKsb29Penp6Sp/P9L4/J9CeHg4lpaW+RqfAwICmDFjBqdPnyYxMZHSpUvTs2dPZfm2bds4deoUjx8/5smTJ5w9e5atW7cCsHXrVmrVqkVMTAzv37/njz8Ui4K3b98mKiqqUOPzqlWrGDduHDNmzCAmJoYPHz4wYsQITp8+/af6umXLFvr06aP8LBQK6datGzt37sxTVyKR0KFDBzw9PUlMTGTbtm307t2bV69eqZWdmZnJmjVriI+P5+7du1y+fJkVK1Yoy6dPn8779+9JTU3lzJkzzJo1i6CgIEBxbx4/fpzExETi4+Np3759kb2F09PTqVevHkFBQSQmJtKvXz88PDxIT08HICQkhKFDh7J//35iYmIwNDRkxIgRamW5urqq/D7Onj2LsbExbdq0Ual38OBBJBKJyrHExETat2/P5MmTSU5OZsqUKXh5eZGUlKSs07NnT7Zt+/E7rP6/YmVvw90Lt5WfP775QE52zg/Tx8zKnM1Xd6v8/Ujj838K8VFxGBczydf4/PJhKCe2HGX0somsv7AdKztrts5ZrywPOHWFh9cfMP/AYhYcWMLjW4+49sdlRdkflylVwYk1vpuJj4rnYcB9AN48fUVyQnKhxufzh85xeM1+PPt1YI3vZpafXodb55YE3wj6U3299sdlGrZprPxcvnpFZmyby8bLO1l6Yg0yiZSTWxQ70WRSKRY2FkzdNJuNl3bQcUhXNs9aR3xknFrZOaJseo7vy7rzW5m1cwGhD57hfyjXueHr+26N72Z09XSp20KxMJcUm8j2eRvpPrY3my7vpNvoXmybs7HI3sIe/Tqw7I+1bLqykzHLJ3Jy6zHevwgDwNzKnJG/jWP9he2s899GTdc6bJ21vkB5vSf2V+r6xfgMYO9UgglrprHx0g5Wnd2IbYni7F+2S1n+x9ZjZKZlsPTkGpacWENKYgqnt59Qltd3dyHQ9zriHHGR+qXh78PIypiP994pP6d8TEKaI/1h+uibGdJ+U2+Vvx9pfP5PITMhHV1jvXyNz/Evowk5+ZAGo9zwXNcTIysT7m8LUJa/D3hF1KMPtJjXnhbz2xP9OIL3AS8BeBfwEtNSFrRd3YPMhHQiH34AIOFNLKKUrEKNz6/Ph/DkyD0qeFSn3erutFnWldLNKxH16MOf6uu7ay8p1TDve3TEnbfIpaoOGJJsCWZOVjSf44Xnup6UcinL7bWXkIgKHkte+z9Dz0T9uXSb1155732v8VkmkfHk8F3My1ipHLcob0uT6e3w2uCN+5LOyKVynv+R/y7H0FPBJLyNpekMDzw3elN3kCvawlyDs0VZa5XfiHUlO2VZyfpl+BD4Bqn4x/2O/5PQGKCLSLtOnpw74aP8fPa4Dx6dPVXq5GTnsGbRKjwbtMG9thuLpy9CJBIBCkPW+P6jaVWzOW5VXRnffzQxUTHKtkO7DWTzio0M/LkfTSu7MMp7GMmJSfwZCpPle+IsXg3b0rJ6U3at367SdtuqzUwdOonpI6bQtLILvdv14NXzl8ryd6/DGNptIM2rNqZbi04EXLimLJs3YTabl28AFF7aHj+15sC2fbSu1Zw2dVpy5tgpQGHI9T/lx74te2hSqSHjB4wBYO+m3bSr14qmlV3o3KwD927eVdu/9NQ05o6bRauazfFq2Jad67Yjk8m4e+MOo7yHERcTR5NKDZk3YXaetjcuXaeFRyvKViyHUFfIwDGDeXQ3iI/vIwA4e+IM3oP7YGtni01xW7yH9OHs8TMAREZEUtelHrp6utT8qTafPnxEKpWyesEKJs6bUuA1SU9NY+vKTUxZOB23ti0wMDRARyikSaumjJ05ocC26hDniHlw6z61G9RVHuvSpxu16tdGqCvEprgtbX5ux+MHwcryras3M2jsEKrVro6WlhY2xRV9VEdhstzatqCZuxum5upfggCWzVnC6OljEeoWfaOFc81qdOjxM6ZmpugIhfQa1Jvwt+9JTkrOUzcrM4urfpfx6OJVoMyNS9fRfUBPzCzMiqxHUdrWaViXm1dufLdMDYXTp08f9u3LXfDYu3cvffv2VamTnZ3NpEmTKFWqFLa2tgwbNkxppE5KSsLT0xNra2vMzc3x9PTk48ePyrbNmjVj9uzZNGrUCBMTE1q3bk18fPyf0rUwWfv378fR0RFLS0t+/fVXlbbz5s2jS5cudO/eHRMTE2rXrs3jx7lbCkNDQ2nWrBlmZmY4Oztz5swZZVn//v2ZNUux6+TatWuUKFGClStXYmNjg52dHbt37wYURt6DBw+ybNkyjI2N8fJS/F6WLl2Kg4MDJiYmVKxYkcuXL6vtX0pKCn379sXa2hpHR0cWLVqETCbj0qVLtGrVisjISIyNjenfv3+etj4+PnTt2hVnZ2d0dXWZPXs2169fV3rr7t27l4kTJ1KiRAkcHByYOHEie/bsAeDdu3c0b94cPT09XF1dCQsLQyqVMn78eNauXVvgNUlJSWHOnDls3LiRTp06YWRkhFAoxMvLi+XLlxfYVh05OTlcuXKFpk2bKo9VrFiRgQMH4uzsnKf+ixcviIyMZPz48Whra+Pm5kajRo3Yv3+/WvnDhw/H1dUVXV1dHBwc8Pb25tatW8pyZ2dn9PT0ABAIBAgEAuU5NDMzw8nJCYFAgFwuR1tbmzdv3hSpX2XKlGHChAnY2dmhra3NkCFDyMnJ4eVLxTP/4MGDeHl50aRJE4yNjVm4cCEnT54kLS2tUNl79+6lS5cuGBkZKY+lpKQwf/58li1bplI3MDAQW1tbunbtira2Nr1798ba2pqTJ3PDHTRr1oxz586h4Z/BpU1jAv1yn2e3fG/g0tZVpY44R8zRdQeZ1GE049oOY9/SneSIFEbqjNR01kxczpg2QxnVahBrJi4nMTZ3q+7S4Qs5ufUYvw2ex3C3X1g5ZjFpyal/StfCZAX63WByxzGMbj0En92nVNqe2n6cjdPXsHnmOoa7/cK8vjP48DpcWR757hNLhy9kZMtBzOo5mUfXc42nOxds4eSWY4DCS3ui1yj8D55jbNthjPcYwY2z1wC4duoyd87fwu+AD8ObD2DtRMWY47vvDBO8RjLc7Remd5vI8/vP1PYvMz2T7fM3MabNUCZ3HIPPrj+QyWSE3HvKyrGLSY5PYnjzAexckHcXTPDNh9R1q49DmRLoCHXw+qUTrx69IPaj4n3jlu913Hu1w8LGEnMbC9x7tePWuesAxEXGUrlOFYS6QsrXrEjcp1hkUhlH1hyg1/i+eb7rW51PbT9O70n9qdP8J/QM9NHR0aGmax26jfYusK06JGIJoUEhVKxdWXnMwtZSxUNfoK1F7MdoAPQM9Ok4uAtW9tZoaWlRs3FtrO2sef/iXR7ZAM07t6JCzUroCHUwt7GggXsj3jx+qbbugyv3MDEvRoWait2GibGJGJoYUd2lJgKBgBqNaqFroEfspxi17b/FoUyJ3J1zn8fz2I+xABiaGGFlb60cz7W0tZTX7nsxtTRVer4DaGlrEfOVrLjIOGo1qYuBkSGGxobUblaPT+9y50kWNpYYmhgR9qxozxMNfx8lG5blQ2Duef9w6w2lXFSNf1KxlKdH7+M/+Xd8xx/h0b5ApDmKxd2cjGwC117i3NjDnB19iMC1l8hKzFC2vbHMj+d/PCRgsS8+Iw5wa+UFstNEf0rXwmR9CHyL/+TfOTvmMC/PqobMCD39iLubrnJvyzV8RhzgyvwzpEQkKstTI5O5scyPs6MOcmn2KaKCc42nQTtv8PzkQ0Dhpe036Rivzz/j3Lgj+E44SvhNhVfxu4CXRNwN45X/M86MOMDtdYoQeK98n+I38Rg+Iw5wccbJfMOCiDNzeLDjBufGHsZ/8u+88HmMXCYn9nkkt1ZeQJScyZkRBwjamfd9MCo4Aoe6ThRzMEdLR5uKnjVIeBVDemzq53PzhnLuzhhYGGFgbkQ5d2fCbymue2Z8utJ71rK8DRlxachlMp4evUf1nj8VeE3EmTmEnn5ETe8GONRxREdPiJaOFnY1S1Kt2/d74MokUuJeRGFVQTXUnjgzh9Azj6natY7KcSNrE8q7O6NvZohAS4vSTSsik8hIi85/kS4jLo0Pd8Ko4FHtu/UrjNcXnmHj7IBJcVWbhaGFkcouA4GWgIxY9fOSnIxs3lx6Tq1+LhhaGSMQCChWwhxtYdFsHAYWRggNdUkKU78o+r+GxgBdRKrWqkZGegbvXitegi/6nKftzx4qddYvXsOHsHAO+h/l5HUfYqNj2bFG4bEjk8vw6tYBn9u++NzxR09fj+WzF6u0P3/KjzkrF3D+0RXEYjH7v/I4/V7ykxX26i1LZv7K/DWL8L1/kZSkFGKjYlXaBly8RkuPVlx+EoB7h7ZMHjweiViMRCxmwi9jadCkIRceXmXygmnMGTuD92/fq9UhIS6B9LR0fO9dYPbyuSybtYTU5FQ6eXehTce29B3Wn+svbrN69zrev33Psb1H2OtzkIDQQNbv34R9CXu1cpfPWUp6Wjqnbp5l67Ed+J7wwefYaeq7NmDtvg1K73B1YSHkcrnKVmk5iv/fvnrz+fyEUaFKRWV5+coVCHuleNEvU7Es927eQSQSEXzvIWUqlOXo7kO4NGtECaeSBV6PJw+fkJOdQ7NCvKS/Znz/0ezZuEtt2Yd34Qi0BNjaqTcgAzy6G6T03JVKpYQ+eU5SQhI/u3rh8VNrls1erFwgKYyvZRWFS2cvIBQKaeTmWnjlQr7X0toKM/O8BuArvpcwszCndv06aloqCAl+SuiT53Tu3VVt+Y1L12lRrQndWnTi+P5j39XWqVwZXoeq92jU8Ndo0KABqamphIaGIpVKOXr0KL17q24DnTp1Kq9evSI4OJg3b97w6dMnFixYAIBMJmPAgAGEh4fz4cMHDAwMGDVKNdzPoUOH2L17N7GxseTk5Kh4nH4v+cl6/vw5w4cPZ//+/URGRpKQkKBiCAc4ffo0Xbt2JTExkV69etGxY0fEYjFisRgvLy9at25NbGws69evx9vbW2kc/Jbo6GhSUlL49OkTO3fuZOTIkSQlJTFkyBC8vb2ZMmUK6enp+Pj48PLlSzZs2MD9+/dJS0vj/Pnz+YY1GT16NCkpKYSFhREQEMC+ffvYvXs3LVu2xM/PT+kd/sVw/DV5xtvP/z97pjC8hISEUKNG7s6dGjVqEBISAkDVqlW5dOkSWVlZ3LhxA2dnZ9atW0fbtm0pW7bgsej27duIRKJCvaS/xtPTkyVLlqgte/36NVpaWpQooX4b9Ld8G47jy7Ev/S6M69ev5zFsjxgxAkNDQypVqoSdnR3t2rVTKTczM0NfX5/Ro0czY8aMIn3PtwQHB5OTk0O5cuWAvNenbNmy6Orq5uvJ/YXMzEyOHz9Ov379VI7PmDGD4cOH54kX/u198uXY1+ercuXKSi9wDX8/ZaqWIysji8h3n5BJZdy7dJuGbVS9jH7feJiYD1HM27eYxcdXkxSbqIyJLJfLaezRlOWn1rH81Hp09YQcXLFHpf3dC4H8Mnsoa323IBFL8D/45xcU8pP16d1H9i/bxaC5w1l1diMZKWkkxSWqtA2+HkS9FvVZf2EbDdxd2DBlFRKJBIlEwrrJK3CuX421flvwntifbfM2EhWu3jCRkphMVkYmK302MGDmYA4u30NGajrNOraggXsj2vb2YvPV3YxdOZmo8EguH7/A7F2L2HxlFxPXTMPKTv3usIMr95CVnsXSE2uYumk2gX43uHk2AOefqjF+1VSld/jAOcPytJXL5fD1b+nz/5/CFE4WkWEfKVku13OuZHlHpdHRoWxJnt9/Ro4oh9fBL7EvU4JLx/yp1rAGNiXyn2sCvH36GnGOuMhhKADWTFzOuX1n1JbFREQjEGhhYaO63ftV8AtGthjICLdfCLp6n1Y92qptn5KQQnRENA5lihYe8VXwC+zLqB/fb/lex6WtKwKBYv936cplsHOy59H1IGRSGQ8D7iMUCilZrlSRvgtg/7JdDGvan5ndJ2FqaZYnVMjIloMY2rQfh1buxaNfhwJlHd98hDHuQ/ht8DxeBD1XKUuIjmdky0EMa9qf8wfP0bZ3ruOUW5dWPL71kIzUdDJS0wm6eo9qDVX1sHdyUFmg0fDvYFHWGkmWmNTIZOQyGZ/uv6NkA9V5T8jxB6THpOI2tz2tfuuMKDlTGRNZLpfj2Kgc7su64r6sK9pCbR4fVM319PHuO2oPaES7NT2QSaW8Pl+0+Yk68pOVGplM8IHb1B3kStuV3chOzyYrKVOlbVTwBxzqOuGxrhcl65fhzoYryCQyZBIZd9ZfxsbZgXZrelCjV30ebLuerxEzOyULcZaYtiu6Ubt/Ix4fvENORjalm1akZP0yVGhTlfabetNwTEvSolMIuxJKs1meeG3qjcuEVhhaGauV+/jQXcRZObRe0gXXqW34cPst4bdeY1PFHpdxLZXe4XUG5vO+qzK3Ufyf+ilZeX5MS+bu2DYtaUHa57JiDmbEPo9EmiMh4XUsxezNeHspFNuqJTC2KUZBJL6NRSaWYle76GNS4NpLvPR9orYsPSYVgUCAgYWRyvGQkw8p06wieqbqvZa/kPwhAZlEWqDejw/dxblTbRWP4q+5sdQP3/FHuLPxChnxhTtBfCEzPp3wm2+o5KU+SkD86xh8Rh3EZ+RBIoPCKdtSffi61I9JaGkJiHwQju/4I1yYcZKwK6EqdVI+JHJu7GEuzDjJC5/HyKQylXITOzOVBZb/ZTQG6O9A4QV9lrs37uBU1kkZNxgUg/2pwyeZMGcSpmamGBkbMWDUQC76KMJ2mJmb4dauJfoGBoqy0YN4eEd1W5pXtw44lnFEX1+flp6tVTyPvyUuJo7mVRur/GVlZhUq67LvJRq3aELt+nXQ1dNl2KSRCLQEKrIrV6tMC49W6AiFeA/uQ7Yoh6cPn/L04VMyMzPpN+IXhLpC6jX6icYtmnDhtJ9aHXV0dBg0dgg6nw2RhkYGhIe9V1tXW1sLcU4OYa/DkIjF2Jd0UGvUlUqlXDx7npFTR2NkbIR9SQe8B/fF9+TZfM/V1zRq3phLZy/yOvQVIpGIHWu2IRAIEGUpDLFZGZkYm+Q+hIyLGZOZkYlcLqdD959JT01nQPs+1PypNuWrVMT35Dl6DvRmyYxfGdLlF6UH+LekJCVjamGmEo+5MFbvWU//kb+oLUtPTcPQ2EhtGcCZY6cIffKcPkMVXiuJcQlIxBKu+F5i+/FdHPQ/ystnL9i1bnu+MvKTVRiZGZlsWraeCXMnF6l+fsRExbBs1mLGz5motvzLLoQvLwXfIpVKWTpzMZMWTEVLK+9Q19KzNb9fPsmF4KvMXDqHHWu2cf7zvVxYWwAjI0PSUor+ENTwfXzxgr548SKVKlXCwSH3RVIul7N9+3ZWr16NhYUFJiYmzJgxgyNHFElALC0t6dy5M4aGhpiYmDBz5kwCAgJU5A8YMIAKFSpgYGBAt27dCA4OJj8iIyMxMzNT+cvIyChU1vHjx/H09KRJkybo6emxcOHCPPdTnTp16NKlC0KhkAkTJiASibhz5w537twhPT2dadOmoauri5ubG56eniqhSb5GKBQyZ84chEIh7dq1w9jYOF9jtba2NtnZ2Tx//hyxWIyTk5Nao+4X4//ixYsxMTHBycmJiRMn5uvJ+y3t2rXj2LFjPHnyhKysLBYsWKCINZqpeAFJT0/H1DTXI8HU1JT09HTkcjkDBw4kJSWF+vXr4+rqSo0aNdi/fz/jxo1j+PDhNGnSROkB/i0JCQlYWVl913h79uxZpk2bprYsOTkZE5Oix1ysVKkSNjY2LF++HLFYzIULFwgICFD2uyB2797NgwcPmDRpksrxTZs2kZaWxo0bN+jUqZPSI/prHVNSUtiwYYMyTvX3kJqaSp8+fZg7d67ymnx7fUBxjQrzgD5x4gRWVlYqHuMPHjzg1q1bjB49Ok99FxcXIiMjOXz4MGKxmL179/L27VuV8/Xl/Ccn590No+Hv4YsXdMi9p9g52mNunftiLJfLuX76Kj3G9cHY1BgDIwM8+nfg3kVF2A5jUxPquv2Enr4eBkYGePbvyMtHqi9njT2aUryUHbpPJjnKAAAgAElEQVT6utRr0YCIAgxbyfFJjGw5SOUvO0tUqKygK/eo0agWFWtVRqgr5OehXfPMERwrlaauW310dHRo3bMd4hwxYc/eEPbsDaJMEe36tkdHqEPlus7UaFSLuxfU55jQ1tGm/S+d0NHRobpLLfQM9Yn+EKW2rpaWFhKxhMh3H5FIJFjZW6s16sqkMu5fukPnEd0xMDLAyt4a914e3Pa7me+5+prqLjW5f/kOEa8/kCPK4cyukwgEArI/e6qLskQYGucaCwyNDMjOFCGXy2ni1YzM9EwWDZxN+ZoVKVm+FIF+N2nVoy37lu5kybAFSg/wb0lPScPY1EQZQ7kojFs5GY++7dWWZaZloG+on+d4hZqV2Hh5JyvPbKCNt4daI75EImHb3A00aueKnVPhBugbZ6/xPvQdbbw98pQlRMfz8lEojTxy46RqaWvh0taVbXM3MKRJX7bN2UjfaQPRM8irb370mfILm67sYtqWOdRpVg+db3YKbry0g42XduA9sT+lPsfAVkeXkT1ZemINK3020rSjG2snr1DxmLYsbsXGSztY67+Vn4d2xc4p17HHsWJpJGIJY9yHMsZ9KFpaWrh1Vg1pp2+oT1Z64c8tDX8/JRuWJeL2W2JDIjG2M0XfPDcPiVwu5/3111TrUQ9dYz2EBkIqtKuuDNuhZ6yPQ10ndPR0EBoIqehZnfhXqp70pRqVw6S4Kdq6OjjULV2gYUyUnMnZUQdV/iTZ4kJlRT54T/HqJbCqWBxtoTZVfq4F34zHZo6WONR1QktHi3KtnZGKpSSGxZEYFodEJKZC22po6WhjXdmO4jVK8vFumFodBdpaVPKqgZaOFsWrl0BbT0h6PsZqgUCAVCIjLSoZmUSGkZWJWuPoF+O/c+c6CA2EGFmZUL61MxG33+Z7rr7GtpoDnx68JyUiEWmORLFAIEDpqS4RSRAa5OYREhroIsmWKBYQXMsjyRJz7ddzWJa3wbSkBR9uv6VcqyoE77/N9SV+Sg/wb8nJyEbXWE8Zw78ouIxtScV26nNsiDNz0NFXHaOS3seT+CaGMi0qq22jbJuVQ9COG1RqXxOhofrYypEPw5HLZPmGFXGd0gb3ZV1o+evPGJgZcnvt5TzG3fx4fPguVTrWQkdffb4mq/K2eG3wps2KrpRv45zvQkRWUibiLDHpMam4L+1C/eHNCD0dTGyIYoHaqmJxWizoQLvVPag/ojkf74bx2l91UUdHX4g488eFNvtPQpOE8Dto18mDIV0HEhnxCY/Oqtv+kxKSEGWJ6OOZG99SLlfEJQMQZWWxav4KbgcEkpai8ODJSM9AKpUqEytZWueu9Osb6JOVkf9D39rWmnP3LuRbnp+s+Jg4bO1zJ70GhgaYmql6l37tVaulpYWNnQ1xMXHKsq8NKMUd7IiNVvWg/oKpuamKAUDfQJ/MfPpU0qkUE+ZOZvvqLUx/9ZYGTV0YP3uiipEfIDkxGXGOGLuvvKOLl7AjLh8dvuWnxvUZMmEYU4dOJD0tnZ4De2NobKQMRWFgZEjG5/iXABlpGRgaGSIQCNDT12Pm0jnKsmnDJjFiymj8TvkilUrZ+vtORnkPI/DaLVyaqXoOmZqbkZKYjEQi+S6jSH6YmBYjMz1Dbdm181fYuGQdGw9tVSbN1NNXTIy79e+Bla1iwu49uA87129nxJS8BoGCZBXG1lWbadvJE4dSfz4xZ1JCIqO9h9OlbzfcO+T1cImOjObR3SCV6/Etx/cdo1zl8vnGRv/ao7tG3Zr0+KUXl30v4d6hbaFtATIyMjEx/fcSgfyv0adPH5o0acK7d+/yhN+Ii4sjMzOTOnVyvd/lcjnSz+NtZmYm48ePx9/fXxlHNi0tTWW8/doL09DQUBn3Vh329vZ5PJe/Jj9ZkZGRlCyZu5BmZGSEpaWqR9fX5V+8bCMjI5VlX4+3jo6OfPr0Sa0OlpaWKmNLQX0qV64ca9asYd68eYSEhODu7s6qVauUyQG/EB8fT05ODo6OuZPCgnT4lhYtWjB//nw6d+5MSkoK48ePx8TEROlJbGxsrOLRmpqairGxYmubvr6+Sszfrl278ttvv3Hw4EGkUikBAQG0bt0af3//PHGGLS0tiY+P/9vGW3Nz8yKFnfiCUCjk1KlTjB49mqVLl1K3bl26deuWx2j8LadOnWLatGlcunRJJQHnF7S1tWncuDEHDhxg8+bNjBkzRqXcyMiIYcOGYW1tTWhoaL6xub8lKysLLy8vGjRowPTpuTkRvr0+oLhGhRnjv4TM+WL4k8lkjBgxgrVr16q9HpaWlpw+fZpJkyYxcuRI3N3dadmypYrH+Zfzb2b2/aGUNBSNhm0bs3T4QuIjY3Fpp+rNlZaUSo4om/n9Z+YelMuRyRQvgdmibI6s2c+zO0/ISFXMTUSZWcikMuVLsKll7rXT1ddFlJn/DiwzK3NW+qhf0C9IVnJ8Eha2uWOsnoE+xt88py1scw3rWlpamNtYkByX9LnMUmXMtSxupSz7FuNiqgZXXb38+2Rbsjg9x/Xh9I4TRL77SNX61ek+to9KiASAtOQ0JGIJVsVzf/+Wxa3yeHHnR5V6VekwuAsbp68mKyOL1j3aom+oj8XnxHOK94FcZ5WszCz0DPURCAQI9XTpP32wsmzTjDV0Ht6dO/63kMlkTN08m5VjFvP09mOqNVSdGxmbmpCekoZUIv0uI3R+GBYzKvD+MLexoFrDGmyZtZ55+3ITd8tkMnbM24SOUEeZMLAgHgbc58TGI0xaP0MlvMcXAn1vUL5GRaztc8fSkHtP+X3DYaZsmo1jRSfCX7xj3eSVjF89hVIVnIrcRy1tLSrUrMSd87e4euISrbqrPsf0DPRp1qkFY9sM49cjy9XG/S5btZzy/0YeTbh7MZAngcG07OauUs/Y1JhGHk2Y23saK302oq2jzeYZaylZvhRjlk9ELodj6w+ybd5GRvw6VtlOlCnCwFg1AbOGf4dSDctyfakfGXFplGpYTqUsJ02ENEfCtQW5oUHlgFym8LCVZEt4evQeMU8/KQ1eEpEYuUymTGSn/5XXqrauNhKRam6Gr9E3M1RJCpenPB9ZWcmZKl6zOnpCdI1V50EG5rnlAi0BBuaGiJIVtgIDCyMVJzkDS6M8HtRf+NbgqqOrjSRbfZ+MbYtRvcdPhJ4OJi0yGRtne6p1/0mZHPAL2WnZyCQyDC1zdTQsQIdvsaliT+UONbm76SriLDHlWlVBR1+o7LOOvg7irFxDvjgrBx09HQQCAdpCHWr1y020eHfTVZw71SbiThhymRzXqW24teoCMU8/YltNdfeGrpEeOenZKs/fv4LQSE/l/pDL5Dw+cIfqPesXKF+aI+H2usuYl7Gmood647YkW8yz3x/gMi7/fE5WFRXvWLo62lTv+RM+Iw+RFpWCaYmC7RJRwRFIRGJK/FS6wHqguA9tqzpwf2sAbnPzLox+SS5YyasG2ro6mJa0oMRPpYl++hEbZ3uMrHPnGaYlzKnkVYPX50NU+i0RifM1wv+vofGA/g7sSthjX9KewKs3ad62hUqZmYUZevr6HL10gqvPbnL12U2uhdzk+guFd8iBbfsJD3vP7tP7ufb8Flt/VyQuUrdV95/EysaKmMjcVVBRVhYp33gUfR2bWiaTERsVi7WtNda21sRExShfOABiIqOwKf79iQjUea226diOHSf3cOa2HwKBgPWL88b5NLMwQ0eoQ9TH3C2R0Z+i8hiqC6Jbvx6cvO7DhUdXcWvXEqlEQtmKiod7mQplePU8d3vx69BXakNPBF67hVwOLs0a8fbFGypXr4JAIKBydWfeqAnLUL12dXT1dAk4/+cSDn5LqdKlkMshNlp1RTvw2i1+nbqQVbvWUq5SeeXxYmbFsLGzzddbWB35ySqM+7fucnT3YdzrtMC9TgtiImOYMWIKezftLlL71ORURvUejmurpvwyerDaOr4nfKhep0aepIHf6nHN/4pSjydBj1mzaBXLvgl984UvMfeK2vb9mzDKV9YkRfqncHR0pHTp0vj6+tKpUyeVMisrKwwMDAgJCSE5OVnp/fnF4Lpy5UpevnzJ3bt3SU1N5fp1RYzLf3u8tbOzIyIiQvk5MzOThIQElTpfl8tkMj5+/Ii9vT329vZERESojLcfPnxQ8QQvKup+97169eLmzZuEh4cjEAiYOnVqnjpWVlYIhULCw3M9Fb9Xh5EjR/L69WtiY2Pp3LkzEomEqlWrAorYxl/HvH78+LHamMr+/v7I5XLatGnD06dPqVu3LgKBgLp16/LkSd4tgw0bNkRfX59Tp07lKfszlC9fHrlcXmTDO0D16tUJCAggISGB8+fPExYWxk8/5R+3z9/fn8GDB+Pj40O1agXHwJNIJMoY0N8ik8nIzMwssq7Z2dl07NgRBwcHZQLIL3x7fcLCwsjOzqZChfzHvYiICK5du6ayaJSamsqDBw/o3r07xYsXp149xTb9EiVKcOOGIm5i06ZNuX//PomJiezfv5+XL1+qnK/Q0FCcnJwoVqzgraca/jxWdtZY2VnzJPBxnoRzxmYm6OrpsujQMqV35sbLO9l8VfFcP3/oHNHhUczauYBNV3YybYsiB8e/PeaaWpqRGJM7xmaLskn/ZqdSYkyuMVcmk5EUm4iZtTlm1uYkxiSojLmJMQmYWRdt8V0FNVOtBu6NmLFtHstPrQOBgOMb8+5mMTFTGLXjo3PzCCTExKt4oxdGiy6tWXJ8NWv9tlCn+U9IpTIcPoeXsC9TgojXuXFUI15/wKF03nnU09uPkcuhWsMafHz7AafKZRAIBDhVLsPHN3mTWJWtVh6hrpBH1x8UWc+CsC1ZHORykmLzN7xLJVLivoq7LJfL2f3rNlITUxm5eHyhi49Pbz9mz+IdjFkxiRL5hM8I9LtBo3ZNVI5FvA6nQq1KlK5cBi0tLUpXKUsZ57L5xvQujG/78TVymZyc7GyS8lkEyYsg39+cVColNSlVuQAR8Sacpj+3QM9AH31DfZr93IKngao7wSLff6JU+YKTnWn4ZzC0MsbI2piYp5+wr6N6f+oa66Otq02LhR3x3OCN5wZvvDZ4036TIlTdmwshpEen0GyWB14bvXGdqljc+JeHY/RNDVViT0uyJeSkZ6vUyUrKLZfL5GQlZaJvZoi+maLtF6M6QFZiRh4jcZFQMwcu2aAMTae3w31ZFwQCASHH845deiZ6CLS1yEzI1THzO3Uo41aZ1os747GmB/Z1HJFL5RRzUCygFrM3IyUi97edEpGEiUPeRfaYpwoHGNtqJUj9lISZkyUCgQBzJytSPuYdGyzK2qAl1P7TCQe/ReEdLldeK7Eoh6T38dzbcg3f8Ue4tlCxC91/0jGlp71ULOXOhisYmBtSq69LfqJJj0klMyGd60t88R1/hLsbryJKzsJ3/JH8Q20IKNLNHBcaSfL7BHzHH8F3/BE+3n/Pm0vPub1efc4bmUxORpz67yz2xdhdVDOKIO9YnBalGnLlfxmNAfo7mb1sHpsOb8PAUDXejZaWFh17/szq+StIjFdMmGKjY7gdoNi6l5megZ6+PibFTEhJTmHHmq15ZP8buLVryc3L1wm+9whxjpgtKzerDO4AoU9DueJ3GYlEwuGdB9HVE1KtdjWq1qqGgYEB+zbvQSIWE3T7PjcuXad1+zb5fFv+WFhZ8ulDrkfh+7fvuX/rHjnZOejp6aGnr37riLa2Ni09W7N5+QYy0jOI+hjJoR0H8sTjzo9sUTZvXr5BLpcT/SmK36YtoMcvvSj22fPBo5MXh3YcIDY6hrjoWA5s24dnl/Z5ZGxYspbxcxVbpO1L2vPwzgPEOWKePAjGoVTeybxxMROGThzBstmLuXb+CqKsLCRiMbeu3mTdr6uLfN6+oCMU8lPj+iphXO7fusecMTNYunUFzjXzGjC8unXg6J7DJMYnkpqcyuGdB2ncokmeekWRJZFIyBZlI5XKkEllZIuykUgUq6ObDm/jyMXjHPQ7ykG/o1jZWjN98Sy69usOKBJdDu02UO33pqelM7rPcGrUrcno6WPV1gE4d+Isnl3Vb938wtyVCzh25Q+lHpWrV2HwuKGMmKyIBRxw4SqpyanI5XJCgp9ydPchmrZqVqS2AA/vBOXxdNfw97Jz506uXLmiksgMFOPt4MGDGT9+PLGxit0Pnz594vz584DCW9LAwAAzMzMSExOZP3/+v647QJcuXTh79iw3b94kJyeHOXPmqBg3AIKCgjh58iQSiYQ1a9agp6dHgwYNqF+/PkZGRixbtgyxWMy1a9fw8fGhR48e362Hra0tYWG52xZfvnzJlStXyM7ORl9fHwMDA6Vn+Ndoa2vTrVs3Zs6cSVpaGuHh4axatSpPPO78EIlEPHv2DLlczocPHxgyZAhjx47F3Fwxkevbty+rVq3i06dPREZGsnLlyjzJDEUiEdOmTWP1asU4Wbp0aa5du0ZOTg63bt2iTJkyeb7X1NSUBQsWMHLkSE6dOkVmZiZisRg/Pz+mTCk4Yaw6hEIhLVu2VAnjIpfLEYlE5OTkKPXMzs59sXry5AkikYjMzExWrFhBVFSU2kSNAFeuXMHb25sTJ07kMVLHxsZy5MgR0tPTkUqlnD9/nsOHD+PmpsgncPHiRR49eqQwLqSmMmHCBMzNzalcWbEtcs+ePfnG9xaLxXTp0kXxXN+3L094GG9vb3x8fLhx4wYZGRnMmTOHTp06FegBvX//flxcXFRCupiamhIZGUlwcDDBwcH4+voCinu/fv36ADx69AixWExqaiqTJk2iRIkSuLvnevEFBATQtq36eK8a/j4GzBzC5I0z84QT0NLSokmH5hxeu5/URMW25qTYRJ7dUSxQiDJECPV0MTQ2JD0lndM7T+aR/W9Q160+j2894lXwCyRiCae2Hc/zEhj+4h1BV+8hlUi5eMQPHaEOZaqWo4xzOfQM9PA7cBaJRMKLoOcE33xI/VYNv1uPYhamxEXm7syLCo8k9EEI4hwxQl1ddPV01Yb30tLWol6LBpzccoysjCzio+K4cNiXhm0aF+l7xdk5fHwbgVwuJyE6nr2Ld9CquztGxRTbil3aunLhsC9JsYkkxSVx/tA5lfASX2Qc33SEnuP6AGBtb8PLh6FIxBLePHmFtUNehw9DY0M6Du7CgeW7eRhwXzknfBIYzLH1h4p83r6go6NDlXpVVcK43Pa/SUJ0PHK5nPioOE5uPUblulWV5fuX7SLqfSRjVkxCV79gL7PQByFsm7uRkYvHUca5nNo6b568Iikuibpu9VWOl65cltfBL/jw6j0A4S/f8yr4pdKI/SLoOb806KVWZmpiCncvBiLKFCGTynh25zF3L96mcl3FwmvI3aeEv3yPTCojKyOTI2sPYGhihL1T3pw4mWkZPLvzGHF2DlKJlNv+N3kV/IKqDRQed0FX7xEVHolMJiM1KZUjaw9QqoITxqbGyn7cOH2VHFEOOaIcAk5dUYkPnhSbSEZqBmWqqj8/Gv55avVvROPJ7ujoqYYPEGgJcHKtwNMj98lOVSwoZCVlEPNMsfAsEYnRFuogNNQlJz2bF2ce55H9b+BQ15HoJx+Jfx2DTCIl9NSjPIbD5PAEPgWFI5PKeHPxOdo6WliUscaijBU6ekJe+T9FJpER9yKK6OCIInmzfoteMX0VY2ZadApxoVFIxVK0hdpoCbXzhCMFEGhpUaKeE89PPkScJSYzPp03F0LyxOPOD6lYQurHJORyOZkJ6QTvC6Rsy8roGim8wEu5lOXNxRCykjLISsrkzYUQHBuVyyMj5EQQ1Xoo5oaGVsbEv4xGJpGS8DpWxfP2C0JDXSp3qMXjg3eIfBiOJFuCTCIj+ulHnv3+/YuEWjpaWFe2J/6lwrgsNNCl7cpuuM1rj9u89krv5eZzvLAoY4VMIuPe5qtoC7WpM9BV7bn9QjEHc9os76qUVat/I/SL6eM2rz2GFkakfkoi+UMCcpkMiUjM06P3MTAzxMROYagPv/ma81N+Vyu7csfatPrtZ6Vsu5olcWpSgToDFM/TiDtvyUxQhP3LjE/n+cmHWFe2UyvL2KYYluVteXnuCVKxlNTIZD7eV4SYAYh++hFRiuK3mBaVzAufx9jVzF04ykrKICcjB/My6nM//K+hCcHxnRSUbG709HHsWLuVAR36kJKUjHVxGzr37krDpi70HOjNrDHTaVWzGda21ngP7su1v+ANGxcTR5NKqpPieasW4tauZYHtylYsx5SF05k1ZjqizCx6De6NjZ3qZLJpq2Zc9DnP/AmzKeFUkmVbV6EjVDz8Vu5cw9JZi9mzaRc2tjbMW70Ip3Lf/zDo0KMj04ZPpnnVxtRpUJehE0ewYcla3r95p4inV6cGM5bMVtt28vxpLJ+7hI6NPdHV06Vjz060796xSN+bk53N7NHT+RgegaGxEV5dOzBs0khleafeXfj04SM9W3X9rOfPdOrdRUXG7o07aduxHcXtFVtCOnl3YdrwybSq1ZzGbo3zTTToPbgPFlYW7Fq3g9ljZmBobETlapUZMGqQ2vpj+o6k1k+18i3v5N2ZY3uP0qajIhnVznXbSE9LZ1y/XCNpzZ9qs27fRgAGjRlMcmISnZu1R1dPj1Yerfnls+zoT1F0a9GJY5dPUtzBrlBZu9ZtZ/tXiyh+f5xj8LihDJkwPE/CQG1tLUxMi2FopFgxjomKoUZd1UQnX7jmf4Xnj0MIe/WWs7/nJqf5ohfAk6DHxEbF0MIj73adr8+ZiWkxvn4sC4VCjIyNMC6mOHrhzHkWTppHTk4ONna29B0+QGnULqxtfEwc716H0cy96EklNXw/BSWbW7p0KQsWLKBBgwbEx8fj4ODA8OHDcXd3Z9y4cfTq1QsrKyvs7e2ZOHHiX/KGjYyMxNhYNS7Y3r176dy5c4HtnJ2d2bhxI7169SIjI4MJEybkSWTXoUMHjh49Sr9+/ShXrhwnT55E+Hm8PXPmDCNGjGDx4sU4ODiwb98+KlWq9N36Dxw4kK5du2JmZkazZs1YsGAB06ZNIzQ0FKFQiIuLi0q4i69Zv349o0ePpkyZMujr6zN48GB++UV9bPpvEYlE9OrVi7dv32JiYsKAAQNYuDA3OezQoUMJCwtTevwOGjSIoUOHqsj47bff8Pb2VoYqGTp0KF27dsXa2hoPD498Ew1OmDABW1tbFi1ahLe3NyYmJtSpU4eZM2eqrd+2bVtcXV3zTeA3dOhQNmzYQK9eCsNCeHg4pUvnPvsMDAxwdHTk/fv3gMIQu2PHDsRiMa6urly8eFEZguPDhw9UqVKF58+fU6pUKRYuXEhKSopKYkFXV1f8/BS7gTZv3sywYcOQyWQ4OjqyZs0aOnRQJKZKTk5m9OjRfPz4EQMDA+rVq4e/vz/6n8MuRURE0KiR+oWywMBAzp49q1ys+YKfnx+urq44OzuzZcsWvL29SUhIoGXLluz+v/buO7iqMg/j+HNuSW4CiTQFBA2IJIAgUlwiBoKAgECkKLJgXxGGJgg6sCqQXUAFhiYIbnDpiCULImUcBAuCq0hRsYCL6zIUIZQAaTe55ewf2Q1GEgLCyckl389/yX3vmV9OMm/OPPf3vu+icytZirpnS5cu1bPPFt7/3zCMQtvU/P/w2+rVqxd0KU6dOrUgmO7SpYtWr15d6BorV67U8uXLi/w5cOVc6LC5PkP76b2FqzRpwHhlns5U5Wsrq13vjmoc31R3//EepYyfq6e6DFKlapXVuX837f7k93fDnj6RrsF3PV7oe0+MG6yW7YtfRSBJtW6qrYeeeVwpE15Vbk6uOvXrel738G1tW2j7ps/1+sTXVL12dQ17+Vy37FPTntGyaQu1YckaVbq2igaMH3xR+wj/Vtukdpr3/Csa2nGAGjRvqJ5P9lHqvJU68p8jcrmcqtckVo+OLfrZ7sHRj2rF9CUac99IucPcSuzRXglJiUWO/S1fnk8p4+cq7XCaPJEeJXRPVK+B55bOt+vVQccPp2n8Q/krXtok3aV2vQqv6Fy3ZI3iO7cu2MoksVcHzX9utkZ0GaRb72xW7EGDnft3U3SVa7R20btKmTBPnkiP6jSoq+6PFf18PmPkFMXeFlfs64m9OmjzOxsV3zl//jry82GlvvqmsjKyVCGqgpq0bqr7h+R/IHvil+P6ePVmucLcerrb4IJrPDLmCd3RJUEnj57QC/2e1aSV01S1RjWtXbhaOVnZmjVqasHY+k0baNSscyuBtm3YohbtbldEhcINR3HNG6rHgPs077nZOnPqjKIqRanboz3UuFV+8Hsq7aTqNSlm1aBh6KNVm7R0ykKZQVNVa1ZTv5EPq1nblpLym5VWzFis9LRTcoeHqW7DmzRq5li5w/MD9XWL39WPX+3TqFlj5PcHtOpv7+iXA0fkcDhUM+Z6DZ8ySjVj8sPq9OPpeuuVFTqbflaeSI8aNG+oYVOeLijl8RcG6o3pSzT63mGSTNVtVE9PjDv3//fzjdt0Z9c2cocVvXcqrHehQ9tu6dNCe9/7Wh9PXq+8zFx5KkfqpnZxqt64lup1bKQdCz7R+hFvylMpUvU73XJZ3bDe09l6b0jh/78t/pSgWi3rXPB90bUqq+mD8dqRskX+XL/qd2p0Xvdwzdtu1OEvf9auv3+qCtdFq9XQ9nK48j+cix/eXl8t/1w/btijiEqRajGgTUHweCnqtInV9vkfad2wFaoWV0MNezbTd//YqYwjp2U4Hapy83XFdune2r+VvnnjC20cmyqn26k6bWMVk3Bxq4IDvoC+XLBFWWkZcnlcikmon78P9v/rSoxT1vFMbR6/Jv/rtrGqkxhX6Br71u9R7fh6ivzfViZ1E+O0ff7HWj/yTdW4tbauL+agwfqdb5HnGo/2rftGOxZ8KpfHpUox1RTXveitMD6b+YGqxlYvdquMuomx+veHe3VDfP5qGM81536PAV/+9ofh0RFyOB06se+ojn59SM4wp9YNP/u1lycAAAbwSURBVPcBZOuRd6tabHWd+PGYPpv1ge6d95AcTkeha4VVCJMc566fe9arr5b9Uznp2XKGu1S13rW6Y0THgr+RnPRsVbm56OcWd4S70B7bTrdTrjBXwTYwZ4+c0bepO+XLypO7QphqNKmtRvc1L/ae3D6orXYt3qb1I1YqPMqjRj2b6bpG+fPt8e9/0a6FW+X3+hUe7dENd9QrdC8PfvGzbmxdr9hDFssbo7SXx5VlFaMqLho69qnH+jzS1+5SbJMyY74OHjioibNfLHkwbDeg92N69q9jFdf40kMpu/Tv8oDmrUw5L6gOJTMnTlftmNr67Vwxf9pcc+Gc1yeYpjmxmLfiV9xud96ZM2fckZHlc4/B5ORk7d+/n2AtRCQkJGjOnDm/65A/u3Tq1EmzZ88u6IgORWvXrtWyZcv09tvnH4DWp0+fzNTU1CGmaV7cyZjlmGEYA1t3bTNzwPjB5XPClfTuglSlHTqmgX8ZWvJg2O7Fgcl6cPRjirnAQXxlzaLJKbq9Qys1ji/+DJGyzpfn04SHx2rs/PHn7T09deikM3t3fv+waZpri3k7LlJ4Rc/aW/u36n5D/PkrucqDH9bsVlZahlo+WfRqXJQtn7y0QU37t1KlmKolDy4l26ZvVJN+f1D09WU3Uwj4AvoweY3ajrlH4dER572+ZtBSX9AfrGqa5sUfNhPi6IAGQtjrqxbbXcIle+P9ok9RDyVPjxttdwkAStnWrVvtLuGSbdxY/GHFoSIpKUlJSUklDwRwVXkuJdnuEi7Z488PtLuEy+YOc+vFt6bbXQaAMiTxz11LHlTK7hzdye4SSuR0O3X35N4lDyxH2AMaAAAAAAAAAGAJOqBRyMBRg0seBAC4bMnJyXaXAADlRs8n7y95EADAcg17hM52ZgCuHDqgAQAAAAAAAACWIIAGAAAAAAAAAFiCABoAAAAAAAAAYAkCaAAAAAAAAACAJQigAQAAAAAAAACWIIAGAAAAAAAAAFiCABoAAAAAAAAAYAkCaAAAAAAAAACAJQigAQAAAAAAAACWIIAGAAAAAAAAAFiCABoAAAAAAAAAYAkCaAAAAAAAAACAJQigAQAAAAAAAACWIIAGgCvENO2uAADKD5NJFwBKDXMuAOByEED/it8fyPRm59hdBoAQlZ2Z5ZfktbuOUOF0On1ZWVl2lwEgRGVkZATFnHuxvN5sb9DuIgCErtycXIk594owg2aWP9dvdxkAbGIGgwoGgk5JuXbXUpoIoH8l1+vdumXTlgy76wAQekzT1NYPt3glfW53LaEiMjJy9+bNm+0uA0AIysvL07Zt28Ikbbe7lhDxxd6d3zuCATJoAJfOm+3VoZ8OeiTtsruWq4EvJ++jY3sO0YUBlFMn9h2T2xP2k2maeXbXUpoIoAtbt3fPD1kpM18LnD191u5aAISIk8dPatq4l/PST6YflrTN7npCRXp6+ktDhgzJ2bRpkwKBgN3lAAgRBw4cUN++fb0ul+tT0zQP2F1PKDBNc58ZDO5OSX7VeyrtpN3lAAghxw4e1dwxM7LdYe41pmkygVwZqWnfHc791/vfBn055Sp/Aso1M2jq5P407ViwJduf53vJ7npKm8FeToUZhnFjxeioBd4cb7vw8LCA4XBwgwAUKxgIGD6fzwgPD9+QmZE5kAfzS+NyuR6IioqanJ2dHRMREeEzDMPukgCUYX6/3+H3+/1ut/utjIyM4aZpsnfaRTIMo2JEhYh5fp+/t8PpdDqdDtqhAVxQIBBwmEEzz+F0LPVme0eZpumzu6arhWEYse7IsBR/rv8OZ5gzYMggdwCuYqZMBX0Bt8PlPBr0ByYFfIEUu2sqbQTQxTAMI1xSZdElDuDCApJO8UB+eQzDiJZU0e46AJR5fkknTdNk2cTvZBiGS1IVSS67awFQ5vmU/5zLnGsRwzA8ys8d6MIArn7ZpmmetrsIuxBAAwAAAAAAAAAsQXcvAAAAAAAAAMASBNAAAAAAAAAAAEsQQAMAAAAAAAAALEEADQAAAAAAAACwBAE0AAAAAAAAAMASBNAAAAAAAAAAAEsQQAMAAAAAAAAALEEADQAAAAAAAACwBAE0AAAAAAAAAMASBNAAAAAAAAAAAEsQQAMAAAAAAAAALEEADQAAAAAAAACwBAE0AAAAAAAAAMASBNAAAAAAAAAAAEsQQAMAAAAAAAAALEEADQAAAAAAAACwBAE0AAAAAAAAAMASBNAAAAAAAAAAAEsQQAMAAAAAAAAALEEADQAAAAAAAACwBAE0AAAAAAAAAMASBNAAAAAAAAAAAEsQQAMAAAAAAAAALEEADQAAAAAAAACwBAE0AAAAAAAAAMASBNAAAAAAAAAAAEsQQAMAAAAAAAAALPFf/+E3O9YoTfsAAAAASUVORK5CYII=\n",
      "text/plain": [
       "<Figure size 1800x360 with 1 Axes>"
      ]
     },
     "metadata": {
      "needs_background": "light"
     },
     "output_type": "display_data"
    },
    {
     "data": {
      "application/javascript": [
       "\n",
       "            setTimeout(function() {\n",
       "                var nbb_cell_id = 29;\n",
       "                var nbb_formatted_code = \"plt.figure(figsize=(25, 5))\\nintrp.plot(feature_names=X_names, fontsize=12)\\nplt.show()\";\n",
       "                var nbb_cells = Jupyter.notebook.get_cells();\n",
       "                for (var i = 0; i < nbb_cells.length; ++i) {\n",
       "                    if (nbb_cells[i].input_prompt_number == nbb_cell_id) {\n",
       "                        nbb_cells[i].set_text(nbb_formatted_code);\n",
       "                        break;\n",
       "                    }\n",
       "                }\n",
       "            }, 500);\n",
       "            "
      ],
      "text/plain": [
       "<IPython.core.display.Javascript object>"
      ]
     },
     "metadata": {},
     "output_type": "display_data"
    }
   ],
   "source": [
    "plt.figure(figsize=(25, 5))\n",
    "intrp.plot(feature_names=X_names, fontsize=12)\n",
    "plt.show()"
   ]
  },
  {
   "cell_type": "markdown",
   "metadata": {},
   "source": [
    "## Tree Based Treatment Policy Based on CATE Model"
   ]
  },
  {
   "cell_type": "code",
   "execution_count": 32,
   "metadata": {},
   "outputs": [
    {
     "data": {
      "application/javascript": [
       "\n",
       "            setTimeout(function() {\n",
       "                var nbb_cell_id = 32;\n",
       "                var nbb_formatted_code = \"from econml.cate_interpreter import SingleTreePolicyInterpreter\";\n",
       "                var nbb_cells = Jupyter.notebook.get_cells();\n",
       "                for (var i = 0; i < nbb_cells.length; ++i) {\n",
       "                    if (nbb_cells[i].input_prompt_number == nbb_cell_id) {\n",
       "                        nbb_cells[i].set_text(nbb_formatted_code);\n",
       "                        break;\n",
       "                    }\n",
       "                }\n",
       "            }, 500);\n",
       "            "
      ],
      "text/plain": [
       "<IPython.core.display.Javascript object>"
      ]
     },
     "metadata": {},
     "output_type": "display_data"
    }
   ],
   "source": [
    "from econml.cate_interpreter import SingleTreePolicyInterpreter"
   ]
  },
  {
   "cell_type": "code",
   "execution_count": 65,
   "metadata": {},
   "outputs": [
    {
     "data": {
      "text/plain": [
       "<econml.cate_interpreter.SingleTreePolicyInterpreter at 0x214cfb33bc8>"
      ]
     },
     "execution_count": 65,
     "metadata": {},
     "output_type": "execute_result"
    },
    {
     "data": {
      "application/javascript": [
       "\n",
       "            setTimeout(function() {\n",
       "                var nbb_cell_id = 65;\n",
       "                var nbb_formatted_code = \"intrp = SingleTreePolicyInterpreter(\\n    risk_level=0.05, max_depth=2, min_samples_leaf=1, min_impurity_decrease=0.001\\n)\\nintrp.interpret(est, data_test, sample_treatment_costs=10)\";\n",
       "                var nbb_cells = Jupyter.notebook.get_cells();\n",
       "                for (var i = 0; i < nbb_cells.length; ++i) {\n",
       "                    if (nbb_cells[i].input_prompt_number == nbb_cell_id) {\n",
       "                        nbb_cells[i].set_text(nbb_formatted_code);\n",
       "                        break;\n",
       "                    }\n",
       "                }\n",
       "            }, 500);\n",
       "            "
      ],
      "text/plain": [
       "<IPython.core.display.Javascript object>"
      ]
     },
     "metadata": {},
     "output_type": "display_data"
    }
   ],
   "source": [
    "intrp = SingleTreePolicyInterpreter(\n",
    "    risk_level=0.05, max_depth=2, min_samples_leaf=1, min_impurity_decrease=0.001\n",
    ")\n",
    "intrp.interpret(est, data_test, sample_treatment_costs=10)"
   ]
  },
  {
   "cell_type": "code",
   "execution_count": 66,
   "metadata": {},
   "outputs": [
    {
     "data": {
      "image/png": "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\n",
      "text/plain": [
       "<Figure size 1800x360 with 1 Axes>"
      ]
     },
     "metadata": {
      "needs_background": "light"
     },
     "output_type": "display_data"
    },
    {
     "data": {
      "application/javascript": [
       "\n",
       "            setTimeout(function() {\n",
       "                var nbb_cell_id = 66;\n",
       "                var nbb_formatted_code = \"plt.figure(figsize=(25, 5))\\nintrp.plot(feature_names=X_names, fontsize=12)\\nplt.show()\";\n",
       "                var nbb_cells = Jupyter.notebook.get_cells();\n",
       "                for (var i = 0; i < nbb_cells.length; ++i) {\n",
       "                    if (nbb_cells[i].input_prompt_number == nbb_cell_id) {\n",
       "                        nbb_cells[i].set_text(nbb_formatted_code);\n",
       "                        break;\n",
       "                    }\n",
       "                }\n",
       "            }, 500);\n",
       "            "
      ],
      "text/plain": [
       "<IPython.core.display.Javascript object>"
      ]
     },
     "metadata": {},
     "output_type": "display_data"
    }
   ],
   "source": [
    "plt.figure(figsize=(25, 5))\n",
    "intrp.plot(feature_names=X_names, fontsize=12)\n",
    "plt.show()"
   ]
  },
  {
   "cell_type": "markdown",
   "metadata": {},
   "source": [
    "# Robustness test <a id=\"robust\"></a>\n",
    "\n",
    "## Random common cause"
   ]
  },
  {
   "cell_type": "code",
   "execution_count": 71,
   "metadata": {},
   "outputs": [
    {
     "name": "stderr",
     "output_type": "stream",
     "text": [
      "INFO:dowhy.causal_estimator:INFO: Using EconML Estimator\n",
      "INFO:dowhy.causal_estimator:b: sales~discount+gender+avg_hours+friend_count+game_quant+game_spent+is_US+account_age+age+w_random\n"
     ]
    },
    {
     "name": "stdout",
     "output_type": "stream",
     "text": [
      "Refute: Add a Random Common Cause\n",
      "Estimated effect:(32.005514870028385,)\n",
      "New effect:(31.92514773880587,)\n",
      "\n"
     ]
    },
    {
     "data": {
      "application/javascript": [
       "\n",
       "            setTimeout(function() {\n",
       "                var nbb_cell_id = 71;\n",
       "                var nbb_formatted_code = \"res_random = model.refute_estimate(\\n    identified_estimand, dml_estimate, method_name=\\\"random_common_cause\\\"\\n)\\nprint(res_random)\";\n",
       "                var nbb_cells = Jupyter.notebook.get_cells();\n",
       "                for (var i = 0; i < nbb_cells.length; ++i) {\n",
       "                    if (nbb_cells[i].input_prompt_number == nbb_cell_id) {\n",
       "                        nbb_cells[i].set_text(nbb_formatted_code);\n",
       "                        break;\n",
       "                    }\n",
       "                }\n",
       "            }, 500);\n",
       "            "
      ],
      "text/plain": [
       "<IPython.core.display.Javascript object>"
      ]
     },
     "metadata": {},
     "output_type": "display_data"
    }
   ],
   "source": [
    "res_random = model.refute_estimate(\n",
    "    identified_estimand, dml_estimate, method_name=\"random_common_cause\"\n",
    ")\n",
    "print(res_random)"
   ]
  },
  {
   "cell_type": "markdown",
   "metadata": {},
   "source": [
    "## Adding an unobserved common cause variable"
   ]
  },
  {
   "cell_type": "code",
   "execution_count": 68,
   "metadata": {},
   "outputs": [
    {
     "name": "stderr",
     "output_type": "stream",
     "text": [
      "INFO:dowhy.causal_estimator:INFO: Using EconML Estimator\n",
      "INFO:dowhy.causal_estimator:b: sales~discount+gender+avg_hours+friend_count+game_quant+game_spent+is_US+account_age+age\n"
     ]
    },
    {
     "name": "stdout",
     "output_type": "stream",
     "text": [
      "Refute: Add an Unobserved Common Cause\n",
      "Estimated effect:(32.005514870028385,)\n",
      "New effect:(31.909829376850052,)\n",
      "\n"
     ]
    },
    {
     "data": {
      "application/javascript": [
       "\n",
       "            setTimeout(function() {\n",
       "                var nbb_cell_id = 68;\n",
       "                var nbb_formatted_code = \"res_unobserved = model.refute_estimate(\\n    identified_estimand,\\n    dml_estimate,\\n    method_name=\\\"add_unobserved_common_cause\\\",\\n    confounders_effect_on_treatment=\\\"linear\\\",\\n    confounders_effect_on_outcome=\\\"linear\\\",\\n    effect_strength_on_treatment=0.001,\\n    effect_strength_on_outcome=0.02,\\n)\\nprint(res_unobserved)\";\n",
       "                var nbb_cells = Jupyter.notebook.get_cells();\n",
       "                for (var i = 0; i < nbb_cells.length; ++i) {\n",
       "                    if (nbb_cells[i].input_prompt_number == nbb_cell_id) {\n",
       "                        nbb_cells[i].set_text(nbb_formatted_code);\n",
       "                        break;\n",
       "                    }\n",
       "                }\n",
       "            }, 500);\n",
       "            "
      ],
      "text/plain": [
       "<IPython.core.display.Javascript object>"
      ]
     },
     "metadata": {},
     "output_type": "display_data"
    }
   ],
   "source": [
    "res_unobserved = model.refute_estimate(\n",
    "    identified_estimand,\n",
    "    dml_estimate,\n",
    "    method_name=\"add_unobserved_common_cause\",\n",
    "    confounders_effect_on_treatment=\"linear\",\n",
    "    confounders_effect_on_outcome=\"linear\",\n",
    "    effect_strength_on_treatment=0.001,\n",
    "    effect_strength_on_outcome=0.02,\n",
    ")\n",
    "print(res_unobserved)"
   ]
  },
  {
   "cell_type": "markdown",
   "metadata": {},
   "source": [
    "## Replacing treatment with a random (placebo) variable"
   ]
  },
  {
   "cell_type": "code",
   "execution_count": 69,
   "metadata": {},
   "outputs": [
    {
     "name": "stderr",
     "output_type": "stream",
     "text": [
      "INFO:dowhy.causal_estimator:INFO: Using EconML Estimator\n",
      "INFO:dowhy.causal_estimator:b: sales~placebo+gender+avg_hours+friend_count+game_quant+game_spent+is_US+account_age+age\n"
     ]
    },
    {
     "name": "stdout",
     "output_type": "stream",
     "text": [
      "Refute: Use a Placebo Treatment\n",
      "Estimated effect:(32.005514870028385,)\n",
      "New effect:(-0.07035809416185793,)\n",
      "\n"
     ]
    },
    {
     "data": {
      "application/javascript": [
       "\n",
       "            setTimeout(function() {\n",
       "                var nbb_cell_id = 69;\n",
       "                var nbb_formatted_code = \"res_placebo = model.refute_estimate(\\n    identified_estimand,\\n    dml_estimate,\\n    method_name=\\\"placebo_treatment_refuter\\\",\\n    placebo_type=\\\"permute\\\",\\n)\\nprint(res_placebo)\";\n",
       "                var nbb_cells = Jupyter.notebook.get_cells();\n",
       "                for (var i = 0; i < nbb_cells.length; ++i) {\n",
       "                    if (nbb_cells[i].input_prompt_number == nbb_cell_id) {\n",
       "                        nbb_cells[i].set_text(nbb_formatted_code);\n",
       "                        break;\n",
       "                    }\n",
       "                }\n",
       "            }, 500);\n",
       "            "
      ],
      "text/plain": [
       "<IPython.core.display.Javascript object>"
      ]
     },
     "metadata": {},
     "output_type": "display_data"
    }
   ],
   "source": [
    "res_placebo = model.refute_estimate(\n",
    "    identified_estimand,\n",
    "    dml_estimate,\n",
    "    method_name=\"placebo_treatment_refuter\",\n",
    "    placebo_type=\"permute\",\n",
    ")\n",
    "print(res_placebo)"
   ]
  },
  {
   "cell_type": "markdown",
   "metadata": {},
   "source": [
    "## Removing a random subset of the data"
   ]
  },
  {
   "cell_type": "code",
   "execution_count": 70,
   "metadata": {},
   "outputs": [
    {
     "name": "stderr",
     "output_type": "stream",
     "text": [
      "INFO:dowhy.causal_estimator:INFO: Using EconML Estimator\n",
      "INFO:dowhy.causal_estimator:b: sales~discount+gender+avg_hours+friend_count+game_quant+game_spent+is_US+account_age+age\n"
     ]
    },
    {
     "name": "stdout",
     "output_type": "stream",
     "text": [
      "Refute: Use a subset of data\n",
      "Estimated effect:(32.005514870028385,)\n",
      "New effect:(32.12999291386199,)\n",
      "\n"
     ]
    },
    {
     "data": {
      "application/javascript": [
       "\n",
       "            setTimeout(function() {\n",
       "                var nbb_cell_id = 70;\n",
       "                var nbb_formatted_code = \"res_subset = model.refute_estimate(\\n    identified_estimand,\\n    dml_estimate,\\n    method_name=\\\"data_subset_refuter\\\",\\n    subset_fraction=0.8,\\n)\\nprint(res_subset)\";\n",
       "                var nbb_cells = Jupyter.notebook.get_cells();\n",
       "                for (var i = 0; i < nbb_cells.length; ++i) {\n",
       "                    if (nbb_cells[i].input_prompt_number == nbb_cell_id) {\n",
       "                        nbb_cells[i].set_text(nbb_formatted_code);\n",
       "                        break;\n",
       "                    }\n",
       "                }\n",
       "            }, 500);\n",
       "            "
      ],
      "text/plain": [
       "<IPython.core.display.Javascript object>"
      ]
     },
     "metadata": {},
     "output_type": "display_data"
    }
   ],
   "source": [
    "res_subset = model.refute_estimate(\n",
    "    identified_estimand,\n",
    "    dml_estimate,\n",
    "    method_name=\"data_subset_refuter\",\n",
    "    subset_fraction=0.8,\n",
    ")\n",
    "print(res_subset)"
   ]
  },
  {
   "cell_type": "code",
   "execution_count": null,
   "metadata": {},
   "outputs": [],
   "source": []
  }
 ],
 "metadata": {
  "kernelspec": {
   "display_name": "Python 3",
   "language": "python",
   "name": "python3"
  },
  "language_info": {
   "codemirror_mode": {
    "name": "ipython",
    "version": 3
   },
   "file_extension": ".py",
   "mimetype": "text/x-python",
   "name": "python",
   "nbconvert_exporter": "python",
   "pygments_lexer": "ipython3",
   "version": "3.7.5"
  }
 },
 "nbformat": 4,
 "nbformat_minor": 2
}
